{
 "cells": [
  {
   "cell_type": "code",
   "execution_count": 1,
   "id": "bb92e57a",
   "metadata": {},
   "outputs": [],
   "source": [
    "using ITensors\n",
    "using Statistics\n",
    "using QuantumNaturalGradient"
   ]
  },
  {
   "cell_type": "code",
   "execution_count": 2,
   "id": "17d9df3a",
   "metadata": {},
   "outputs": [
    {
     "name": "stderr",
     "output_type": "stream",
     "text": [
      "\u001b[36m\u001b[1m[ \u001b[22m\u001b[39m\u001b[36m\u001b[1mInfo: \u001b[22m\u001b[39mPrecompiling QuantumNaturalfPEPS [8cccb88f-824b-4ada-bd77-4bd123faaa4e]\n"
     ]
    }
   ],
   "source": [
    "using QuantumNaturalfPEPS"
   ]
  },
  {
   "cell_type": "code",
   "execution_count": 3,
   "id": "44641f4a",
   "metadata": {
    "scrolled": true
   },
   "outputs": [
    {
     "data": {
      "text/plain": [
       "PEPS(ITensor[ITensor ord=3\n",
       "Dim 1: (dim=1|id=388|\"ind_1\")\n",
       "Dim 2: (dim=1|id=549|\"ind_7\")\n",
       "Dim 3: (dim=2|id=84|\"phys_1_1\")\n",
       "NDTensors.Dense{Float64, Vector{Float64}}\n",
       " 1×1×2\n",
       "[:, :, 1] =\n",
       " -0.05395004141629708\n",
       "\n",
       "[:, :, 2] =\n",
       " -0.7598629013849278 ITensor ord=4\n",
       "Dim 1: (dim=1|id=549|\"ind_7\")\n",
       "Dim 2: (dim=1|id=415|\"ind_10\")\n",
       "Dim 3: (dim=1|id=656|\"ind_3\")\n",
       "Dim 4: (dim=2|id=13|\"phys_2_1\")\n",
       "NDTensors.Dense{Float64, Vector{Float64}}\n",
       " 1×1×1×2\n",
       "[:, :, 1, 1] =\n",
       " 0.8529848023130183\n",
       "\n",
       "[:, :, 1, 2] =\n",
       " 1.0290627425810266 ITensor ord=3\n",
       "Dim 1: (dim=1|id=415|\"ind_10\")\n",
       "Dim 2: (dim=1|id=893|\"ind_5\")\n",
       "Dim 3: (dim=2|id=28|\"phys_3_1\")\n",
       "NDTensors.Dense{Float64, Vector{Float64}}\n",
       " 1×1×2\n",
       "[:, :, 1] =\n",
       " -0.10293910917015826\n",
       "\n",
       "[:, :, 2] =\n",
       " -0.42662781710523756; ITensor ord=4\n",
       "Dim 1: (dim=1|id=388|\"ind_1\")\n",
       "Dim 2: (dim=1|id=75|\"ind_2\")\n",
       "Dim 3: (dim=1|id=826|\"ind_8\")\n",
       "Dim 4: (dim=2|id=72|\"phys_1_2\")\n",
       "NDTensors.Dense{Float64, Vector{Float64}}\n",
       " 1×1×1×2\n",
       "[:, :, 1, 1] =\n",
       " 0.31712234027590663\n",
       "\n",
       "[:, :, 1, 2] =\n",
       " 1.5782155292175333 ITensor ord=5\n",
       "Dim 1: (dim=1|id=656|\"ind_3\")\n",
       "Dim 2: (dim=1|id=53|\"ind_4\")\n",
       "Dim 3: (dim=1|id=826|\"ind_8\")\n",
       "Dim 4: (dim=1|id=155|\"ind_11\")\n",
       "Dim 5: (dim=2|id=867|\"phys_2_2\")\n",
       "NDTensors.Dense{Float64, Vector{Float64}}\n",
       " 1×1×1×1×2\n",
       "[:, :, 1, 1, 1] =\n",
       " 1.6602508007162142\n",
       "\n",
       "[:, :, 1, 1, 2] =\n",
       " -0.29276359717199074 ITensor ord=4\n",
       "Dim 1: (dim=1|id=155|\"ind_11\")\n",
       "Dim 2: (dim=1|id=893|\"ind_5\")\n",
       "Dim 3: (dim=1|id=685|\"ind_6\")\n",
       "Dim 4: (dim=2|id=618|\"phys_3_2\")\n",
       "NDTensors.Dense{Float64, Vector{Float64}}\n",
       " 1×1×1×2\n",
       "[:, :, 1, 1] =\n",
       " 0.6679922223850532\n",
       "\n",
       "[:, :, 1, 2] =\n",
       " 1.220520326337631; ITensor ord=3\n",
       "Dim 1: (dim=1|id=75|\"ind_2\")\n",
       "Dim 2: (dim=1|id=494|\"ind_9\")\n",
       "Dim 3: (dim=2|id=312|\"phys_1_3\")\n",
       "NDTensors.Dense{Float64, Vector{Float64}}\n",
       " 1×1×2\n",
       "[:, :, 1] =\n",
       " -0.08256553184298143\n",
       "\n",
       "[:, :, 2] =\n",
       " 2.2594055459198956 ITensor ord=4\n",
       "Dim 1: (dim=1|id=494|\"ind_9\")\n",
       "Dim 2: (dim=1|id=27|\"ind_12\")\n",
       "Dim 3: (dim=1|id=53|\"ind_4\")\n",
       "Dim 4: (dim=2|id=693|\"phys_2_3\")\n",
       "NDTensors.Dense{Float64, Vector{Float64}}\n",
       " 1×1×1×2\n",
       "[:, :, 1, 1] =\n",
       " -1.439832858881717\n",
       "\n",
       "[:, :, 1, 2] =\n",
       " -1.2251741314454354 ITensor ord=3\n",
       "Dim 1: (dim=1|id=27|\"ind_12\")\n",
       "Dim 2: (dim=1|id=685|\"ind_6\")\n",
       "Dim 3: (dim=2|id=658|\"phys_3_3\")\n",
       "NDTensors.Dense{Float64, Vector{Float64}}\n",
       " 1×1×2\n",
       "[:, :, 1] =\n",
       " 1.4116830414546586\n",
       "\n",
       "[:, :, 2] =\n",
       " -0.6526363092674338], QuantumNaturalfPEPS.Environment[QuantumNaturalfPEPS.Environment(MPS, 1.0 + 0.0im), QuantumNaturalfPEPS.Environment(MPS, 1.0 + 0.0im)], 0.0, 1, 1, 3, 2)"
      ]
     },
     "execution_count": 3,
     "metadata": {},
     "output_type": "execute_result"
    }
   ],
   "source": [
    "# PEPS(Lx,Ly,phys_dim,bond_dim) generates a PEPS with dimensions Lx * Ly, physical dimension = phys_dim and bond dimension bond_dim\n",
    "peps = PEPS(3,3,2,1)"
   ]
  },
  {
   "cell_type": "code",
   "execution_count": 4,
   "id": "45d5ab88",
   "metadata": {},
   "outputs": [],
   "source": [
    "# You can change the entries of the PEPS by using write!\n",
    "write!(peps, complex(rand(length(peps))))"
   ]
  },
  {
   "cell_type": "code",
   "execution_count": 18,
   "id": "564ea37c",
   "metadata": {},
   "outputs": [],
   "source": [
    "# Construct a Hamiltonian using OpSum()\n",
    "# example: Heisenberg\n",
    "\n",
    "Nx = size(peps)[1]\n",
    "Ny = size(peps)[2]\n",
    "\n",
    "hilbert = reshape(siteinds(\"S=1/2\",Nx* Ny), Nx,Ny)\n",
    "\n",
    "ham_heisenberg = OpSum()\n",
    "for i in 1:Nx-1\n",
    "    for j in 1:Ny-1\n",
    "        ham_heisenberg += (-1,\"X\",(i,j),\"X\",(i,j+1)) #structure: (prefactor, operator, position which it acts on, operator, position)\n",
    "        ham_heisenberg += (-1,\"X\",(i,j),\"X\",(i+1,j))\n",
    "        ham_heisenberg += (-1,\"Y\",(i,j),\"Y\",(i,j+1))\n",
    "        ham_heisenberg += (-1,\"Y\",(i,j),\"Y\",(i+1,j))\n",
    "        ham_heisenberg += (-1,\"Z\",(i,j),\"Z\",(i,j+1))\n",
    "        ham_heisenberg += (-1,\"Z\",(i,j),\"Z\",(i+1,j))\n",
    "    end\n",
    "end\n",
    "\n",
    "ham_heisenberg_op = QuantumNaturalGradient.TensorOperatorSum(ham_heisenberg, hilbert);"
   ]
  },
  {
   "cell_type": "code",
   "execution_count": 11,
   "id": "93aade80",
   "metadata": {},
   "outputs": [],
   "source": [
    "# Construct a Hamiltonian using OpSum()\n",
    "# easy example: only -Sz so the ground state should have energy -9 \n",
    "\n",
    "Nx = size(peps)[1]\n",
    "Ny = size(peps)[2]\n",
    "\n",
    "hilbert = reshape(siteinds(\"S=1/2\",Nx* Ny), Nx,Ny)\n",
    "\n",
    "ham = OpSum()\n",
    "for i in 1:Nx\n",
    "    for j in 1:Ny\n",
    "        ham += (-1,\"Z\",(i,j))\n",
    "    end\n",
    "end\n",
    "\n",
    "ham_op = QuantumNaturalGradient.TensorOperatorSum(ham, hilbert);"
   ]
  },
  {
   "cell_type": "code",
   "execution_count": 12,
   "id": "086168b4",
   "metadata": {},
   "outputs": [
    {
     "data": {
      "text/plain": [
       "(::QuantumNaturalfPEPS.var\"#Oks_and_Eks#26\"{Base.Pairs{Symbol, Union{}, Tuple{}, NamedTuple{(), Tuple{}}}, PEPS, Sum{Scaled{ComplexF64, Prod{Op}}}}) (generic function with 1 method)"
      ]
     },
     "execution_count": 12,
     "metadata": {},
     "output_type": "execute_result"
    }
   ],
   "source": [
    "# this function generates the function needed for the optimization\n",
    "ok_ek = generate_Oks_and_Eks(peps, ham) "
   ]
  },
  {
   "cell_type": "code",
   "execution_count": 7,
   "id": "e004b1de",
   "metadata": {},
   "outputs": [
    {
     "data": {
      "text/plain": [
       "test (generic function with 1 method)"
      ]
     },
     "execution_count": 7,
     "metadata": {},
     "output_type": "execute_result"
    }
   ],
   "source": [
    "# callback function for evolution\n",
    "function test(;energy_value, model, misc, niter)\n",
    "    \n",
    "end"
   ]
  },
  {
   "cell_type": "code",
   "execution_count": 16,
   "id": "2049e470",
   "metadata": {},
   "outputs": [
    {
     "name": "stderr",
     "output_type": "stream",
     "text": [
      "\u001b[36m\u001b[1m[ \u001b[22m\u001b[39m\u001b[36m\u001b[1mInfo: \u001b[22m\u001b[39mEigenSolver: Null space size: 9 - 50.0%  - cn: 0.5031888648472831 - max_val: 1.6838348709899382\n",
      "\u001b[36m\u001b[1m[ \u001b[22m\u001b[39m\u001b[36m\u001b[1mInfo: \u001b[22m\u001b[39miter 1: EnergySummary(E = 1.12 ± 0.32, var(E) = 10.2 ± 1.4, Nₛ=100), ‖∇f‖ = 3.116541885065591, ‖θ‖ = 3.4285661136757066, tdvp_error = 0.0005562860392309688\n",
      "\u001b[36m\u001b[1m[ \u001b[22m\u001b[39m\u001b[36m\u001b[1mInfo: \u001b[22m\u001b[39mEigenSolver: Null space size: 9 - 50.0%  - cn: 0.4790586941420991 - max_val: 1.4539012650059717\n",
      "\u001b[36m\u001b[1m[ \u001b[22m\u001b[39m\u001b[36m\u001b[1mInfo: \u001b[22m\u001b[39miter 2: EnergySummary(E = 1.16 ± 0.26, var(E) = 6.76 ± 0.98, Nₛ=100), ‖∇f‖ = 3.122217491720126, ‖θ‖ = 3.4294512850704257, tdvp_error = 0.000778805671809657\n",
      "\u001b[36m\u001b[1m[ \u001b[22m\u001b[39m\u001b[36m\u001b[1mInfo: \u001b[22m\u001b[39mEigenSolver: Null space size: 9 - 50.0%  - cn: 0.5384647553987669 - max_val: 2.0342597724894493\n",
      "\u001b[36m\u001b[1m[ \u001b[22m\u001b[39m\u001b[36m\u001b[1mInfo: \u001b[22m\u001b[39miter 3: EnergySummary(E = 0.26 ± 0.27, var(E) = 7.16 ± 0.99, Nₛ=100), ‖∇f‖ = 3.115833303659241, ‖θ‖ = 3.4303394537512166, tdvp_error = 0.00400670852897167\n",
      "\u001b[36m\u001b[1m[ \u001b[22m\u001b[39m\u001b[36m\u001b[1mInfo: \u001b[22m\u001b[39mEigenSolver: Null space size: 9 - 50.0%  - cn: 0.5137989229057052 - max_val: 1.6863857031636391\n",
      "\u001b[36m\u001b[1m[ \u001b[22m\u001b[39m\u001b[36m\u001b[1mInfo: \u001b[22m\u001b[39miter 4: EnergySummary(E = 0.02 ± 0.29, var(E) = 8.7 ± 1.3, Nₛ=100), ‖∇f‖ = 3.1213443168104495, ‖θ‖ = 3.431223765465802, tdvp_error = 0.0005430162366678593\n",
      "\u001b[36m\u001b[1m[ \u001b[22m\u001b[39m\u001b[36m\u001b[1mInfo: \u001b[22m\u001b[39mEigenSolver: Null space size: 9 - 50.0%  - cn: 0.5414619868828205 - max_val: 1.6093613628997867\n",
      "\u001b[36m\u001b[1m[ \u001b[22m\u001b[39m\u001b[36m\u001b[1mInfo: \u001b[22m\u001b[39miter 5: EnergySummary(E = -0.6 ± 0.28, var(E) = 7.8 ± 1.1, Nₛ=100), ‖∇f‖ = 3.111554277016987, ‖θ‖ = 3.432110979071389, tdvp_error = 0.0014381341835538741\n",
      "\u001b[36m\u001b[1m[ \u001b[22m\u001b[39m\u001b[36m\u001b[1mInfo: \u001b[22m\u001b[39mEigenSolver: Null space size: 9 - 50.0%  - cn: 0.5261982866502305 - max_val: 1.7473602403277415\n",
      "\u001b[36m\u001b[1m[ \u001b[22m\u001b[39m\u001b[36m\u001b[1mInfo: \u001b[22m\u001b[39miter 6: EnergySummary(E = -0.56 ± 0.32, var(E) = 10.3 ± 1.3, Nₛ=100), ‖∇f‖ = 3.098678319613725, ‖θ‖ = 3.432992408806657, tdvp_error = 0.001373992278946523\n",
      "\u001b[36m\u001b[1m[ \u001b[22m\u001b[39m\u001b[36m\u001b[1mInfo: \u001b[22m\u001b[39mEigenSolver: Null space size: 9 - 50.0%  - cn: 0.4388581781761392 - max_val: 1.5201958271953075\n",
      "\u001b[36m\u001b[1m[ \u001b[22m\u001b[39m\u001b[36m\u001b[1mInfo: \u001b[22m\u001b[39miter 7: EnergySummary(E = -1.22 ± 0.27, var(E) = 7.51 ± 0.94, Nₛ=100), ‖∇f‖ = 3.087695107785215, ‖θ‖ = 3.4338663352705523, tdvp_error = 0.0006553952243578687\n",
      "\u001b[36m\u001b[1m[ \u001b[22m\u001b[39m\u001b[36m\u001b[1mInfo: \u001b[22m\u001b[39mEigenSolver: Null space size: 9 - 50.0%  - cn: 0.5907294930440519 - max_val: 1.8398330650856165\n",
      "\u001b[36m\u001b[1m[ \u001b[22m\u001b[39m\u001b[36m\u001b[1mInfo: \u001b[22m\u001b[39miter 8: EnergySummary(E = -1.46 ± 0.3, var(E) = 8.7 ± 1.1, Nₛ=100), ‖∇f‖ = 3.0522593697082243, ‖θ‖ = 3.434733857474049, tdvp_error = 0.004251147904271502\n",
      "\u001b[36m\u001b[1m[ \u001b[22m\u001b[39m\u001b[36m\u001b[1mInfo: \u001b[22m\u001b[39mEigenSolver: Null space size: 9 - 50.0%  - cn: 0.5654842461714963 - max_val: 1.868013992550802\n",
      "\u001b[36m\u001b[1m[ \u001b[22m\u001b[39m\u001b[36m\u001b[1mInfo: \u001b[22m\u001b[39miter 9: EnergySummary(E = -2.08 ± 0.29, var(E) = 8.2 ± 1.1, Nₛ=100), ‖∇f‖ = 3.0289449518298146, ‖θ‖ = 3.43558137019283, tdvp_error = 0.004577192587409518\n",
      "\u001b[36m\u001b[1m[ \u001b[22m\u001b[39m\u001b[36m\u001b[1mInfo: \u001b[22m\u001b[39mEigenSolver: Null space size: 9 - 50.0%  - cn: 0.5475745848643939 - max_val: 1.7515635420713813\n",
      "\u001b[36m\u001b[1m[ \u001b[22m\u001b[39m\u001b[36m\u001b[1mInfo: \u001b[22m\u001b[39miter 10: EnergySummary(E = -2.2 ± 0.25, var(E) = 6.22 ± 0.88, Nₛ=100), ‖∇f‖ = 3.0061468650132626, ‖θ‖ = 3.436415780783345, tdvp_error = 0.004227583937183921\n",
      "\u001b[36m\u001b[1m[ \u001b[22m\u001b[39m\u001b[36m\u001b[1mInfo: \u001b[22m\u001b[39mEigenSolver: Null space size: 9 - 50.0%  - cn: 0.5303009126640039 - max_val: 1.8338590349373007\n",
      "\u001b[36m\u001b[1m[ \u001b[22m\u001b[39m\u001b[36m\u001b[1mInfo: \u001b[22m\u001b[39miter 11: EnergySummary(E = -2.86 ± 0.28, var(E) = 8.1 ± 1.1, Nₛ=100), ‖∇f‖ = 2.9811554999333274, ‖θ‖ = 3.4372374798339975, tdvp_error = 0.001093812091205515\n",
      "\u001b[36m\u001b[1m[ \u001b[22m\u001b[39m\u001b[36m\u001b[1mInfo: \u001b[22m\u001b[39mEigenSolver: Null space size: 9 - 50.0%  - cn: 0.5935938339784791 - max_val: 1.9683307529457712\n",
      "\u001b[36m\u001b[1m[ \u001b[22m\u001b[39m\u001b[36m\u001b[1mInfo: \u001b[22m\u001b[39miter 12: EnergySummary(E = -2.86 ± 0.27, var(E) = 7.29 ± 0.81, Nₛ=100), ‖∇f‖ = 2.9280579494872834, ‖θ‖ = 3.4380453818772243, tdvp_error = 0.006135062177948791\n",
      "\u001b[36m\u001b[1m[ \u001b[22m\u001b[39m\u001b[36m\u001b[1mInfo: \u001b[22m\u001b[39mEigenSolver: Null space size: 9 - 50.0%  - cn: 0.5175463398020138 - max_val: 1.8516974698516557\n",
      "\u001b[36m\u001b[1m[ \u001b[22m\u001b[39m\u001b[36m\u001b[1mInfo: \u001b[22m\u001b[39miter 13: EnergySummary(E = -3.0 ± 0.28, var(E) = 8.0 ± 1.0, Nₛ=100), ‖∇f‖ = 2.901701788895423, ‖θ‖ = 3.438824581153353, tdvp_error = 0.001559350475444643\n",
      "\u001b[36m\u001b[1m[ \u001b[22m\u001b[39m\u001b[36m\u001b[1mInfo: \u001b[22m\u001b[39mEigenSolver: Null space size: 9 - 50.0%  - cn: 0.5338432231071789 - max_val: 1.8064062114784443\n",
      "\u001b[36m\u001b[1m[ \u001b[22m\u001b[39m\u001b[36m\u001b[1mInfo: \u001b[22m\u001b[39miter 14: EnergySummary(E = -3.86 ± 0.24, var(E) = 6.0 ± 0.84, Nₛ=100), ‖∇f‖ = 2.8439582226654565, ‖θ‖ = 3.439589644236552, tdvp_error = 0.006416716387428578\n",
      "\u001b[36m\u001b[1m[ \u001b[22m\u001b[39m\u001b[36m\u001b[1mInfo: \u001b[22m\u001b[39mEigenSolver: Null space size: 9 - 50.0%  - cn: 0.535318997774901 - max_val: 1.7193999125357893\n",
      "\u001b[36m\u001b[1m[ \u001b[22m\u001b[39m\u001b[36m\u001b[1mInfo: \u001b[22m\u001b[39miter 15: EnergySummary(E = -4.1 ± 0.27, var(E) = 7.5 ± 1.2, Nₛ=100), ‖∇f‖ = 2.8062372992859923, ‖θ‖ = 3.440324400724734, tdvp_error = 0.0015197176570108661\n",
      "\u001b[36m\u001b[1m[ \u001b[22m\u001b[39m\u001b[36m\u001b[1mInfo: \u001b[22m\u001b[39mEigenSolver: Null space size: 9 - 50.0%  - cn: 0.4818048203204344 - max_val: 1.7738465420341192\n",
      "\u001b[36m\u001b[1m[ \u001b[22m\u001b[39m\u001b[36m\u001b[1mInfo: \u001b[22m\u001b[39miter 16: EnergySummary(E = -3.82 ± 0.27, var(E) = 7.28 ± 0.89, Nₛ=100), ‖∇f‖ = 2.757623307056774, ‖θ‖ = 3.441039644799873, tdvp_error = 0.0005666730093437655\n",
      "\u001b[36m\u001b[1m[ \u001b[22m\u001b[39m\u001b[36m\u001b[1mInfo: \u001b[22m\u001b[39mEigenSolver: Null space size: 9 - 50.0%  - cn: 0.5273876234489645 - max_val: 2.044323906231673\n",
      "\u001b[36m\u001b[1m[ \u001b[22m\u001b[39m\u001b[36m\u001b[1mInfo: \u001b[22m\u001b[39miter 17: EnergySummary(E = -4.4 ± 0.24, var(E) = 5.94 ± 0.86, Nₛ=100), ‖∇f‖ = 2.69922898229294, ‖θ‖ = 3.4417301813222085, tdvp_error = 0.0015944514821257805\n",
      "\u001b[36m\u001b[1m[ \u001b[22m\u001b[39m\u001b[36m\u001b[1mInfo: \u001b[22m\u001b[39mEigenSolver: Null space size: 10 - 55.6%  - cn: 0.543202880148657 - max_val: 1.7478143090536857\n",
      "\u001b[36m\u001b[1m[ \u001b[22m\u001b[39m\u001b[36m\u001b[1mInfo: \u001b[22m\u001b[39miter 18: EnergySummary(E = -4.9 ± 0.23, var(E) = 5.28 ± 0.61, Nₛ=100), ‖∇f‖ = 2.5887320663555107, ‖θ‖ = 3.4423916525013514, tdvp_error = 0.0018279461971273392\n",
      "\u001b[36m\u001b[1m[ \u001b[22m\u001b[39m\u001b[36m\u001b[1mInfo: \u001b[22m\u001b[39mEigenSolver: Null space size: 9 - 50.0%  - cn: 0.7014087961221448 - max_val: 1.6936549419046807\n",
      "\u001b[36m\u001b[1m[ \u001b[22m\u001b[39m\u001b[36m\u001b[1mInfo: \u001b[22m\u001b[39miter 19: EnergySummary(E = -5.46 ± 0.23, var(E) = 5.16 ± 0.66, Nₛ=100), ‖∇f‖ = 2.5677803333146993, ‖θ‖ = 3.442999963372145, tdvp_error = 0.0053358746371738874\n",
      "\u001b[36m\u001b[1m[ \u001b[22m\u001b[39m\u001b[36m\u001b[1mInfo: \u001b[22m\u001b[39mEigenSolver: Null space size: 10 - 55.6%  - cn: 0.6887305949097833 - max_val: 1.9000347129540947\n",
      "\u001b[36m\u001b[1m[ \u001b[22m\u001b[39m\u001b[36m\u001b[1mInfo: \u001b[22m\u001b[39miter 20: EnergySummary(E = -6.0 ± 0.24, var(E) = 5.54 ± 0.84, Nₛ=100), ‖∇f‖ = 2.4455150670087047, ‖θ‖ = 3.443598362567954, tdvp_error = 0.015457002142575615\n",
      "\u001b[36m\u001b[1m[ \u001b[22m\u001b[39m\u001b[36m\u001b[1mInfo: \u001b[22m\u001b[39mEigenSolver: Null space size: 9 - 50.0%  - cn: 0.40700383229208864 - max_val: 1.5430936245091718\n",
      "\u001b[36m\u001b[1m[ \u001b[22m\u001b[39m\u001b[36m\u001b[1mInfo: \u001b[22m\u001b[39miter 21: EnergySummary(E = -5.88 ± 0.23, var(E) = 5.36 ± 0.81, Nₛ=100), ‖∇f‖ = 2.4568082827223847, ‖θ‖ = 3.4441410427920993, tdvp_error = 0.0003552071583331484\n",
      "\u001b[36m\u001b[1m[ \u001b[22m\u001b[39m\u001b[36m\u001b[1mInfo: \u001b[22m\u001b[39mEigenSolver: Null space size: 9 - 50.0%  - cn: 0.5422763076250666 - max_val: 1.8445679295644535\n",
      "\u001b[36m\u001b[1m[ \u001b[22m\u001b[39m\u001b[36m\u001b[1mInfo: \u001b[22m\u001b[39miter 22: EnergySummary(E = -6.12 ± 0.22, var(E) = 4.63 ± 0.61, Nₛ=100), ‖∇f‖ = 2.3799131187920164, ‖θ‖ = 3.4446886600215887, tdvp_error = 0.003604539539544094\n",
      "\u001b[36m\u001b[1m[ \u001b[22m\u001b[39m\u001b[36m\u001b[1mInfo: \u001b[22m\u001b[39mEigenSolver: Null space size: 9 - 50.0%  - cn: 0.5166334428757838 - max_val: 1.6499619896204316\n",
      "\u001b[36m\u001b[1m[ \u001b[22m\u001b[39m\u001b[36m\u001b[1mInfo: \u001b[22m\u001b[39miter 23: EnergySummary(E = -6.18 ± 0.22, var(E) = 4.78 ± 0.55, Nₛ=100), ‖∇f‖ = 2.3167007231072025, ‖θ‖ = 3.4452024550110916, tdvp_error = 0.00035320823396844947\n",
      "\u001b[36m\u001b[1m[ \u001b[22m\u001b[39m\u001b[36m\u001b[1mInfo: \u001b[22m\u001b[39mEigenSolver: Null space size: 9 - 50.0%  - cn: 0.4887354631146616 - max_val: 1.8710136352959656\n",
      "\u001b[36m\u001b[1m[ \u001b[22m\u001b[39m\u001b[36m\u001b[1mInfo: \u001b[22m\u001b[39miter 24: EnergySummary(E = -6.32 ± 0.22, var(E) = 4.7 ± 0.78, Nₛ=100), ‖∇f‖ = 2.241600705600685, ‖θ‖ = 3.4456892481642525, tdvp_error = 0.0016065282185147023\n"
     ]
    },
    {
     "name": "stderr",
     "output_type": "stream",
     "text": [
      "\u001b[36m\u001b[1m[ \u001b[22m\u001b[39m\u001b[36m\u001b[1mInfo: \u001b[22m\u001b[39mEigenSolver: Null space size: 9 - 50.0%  - cn: 0.6376377049785154 - max_val: 1.748029515478885\n",
      "\u001b[36m\u001b[1m[ \u001b[22m\u001b[39m\u001b[36m\u001b[1mInfo: \u001b[22m\u001b[39miter 25: EnergySummary(E = -6.3 ± 0.19, var(E) = 3.51 ± 0.45, Nₛ=100), ‖∇f‖ = 2.1189962722165645, ‖θ‖ = 3.446144929989426, tdvp_error = 0.01662470858407028\n",
      "\u001b[36m\u001b[1m[ \u001b[22m\u001b[39m\u001b[36m\u001b[1mInfo: \u001b[22m\u001b[39mEigenSolver: Null space size: 9 - 50.0%  - cn: 0.5740910598679839 - max_val: 1.8016244788803648\n",
      "\u001b[36m\u001b[1m[ \u001b[22m\u001b[39m\u001b[36m\u001b[1mInfo: \u001b[22m\u001b[39miter 26: EnergySummary(E = -6.96 ± 0.19, var(E) = 3.47 ± 0.49, Nₛ=100), ‖∇f‖ = 2.0935566768916356, ‖θ‖ = 3.4465520769666127, tdvp_error = 0.0036452965126820835\n",
      "\u001b[36m\u001b[1m[ \u001b[22m\u001b[39m\u001b[36m\u001b[1mInfo: \u001b[22m\u001b[39mEigenSolver: Null space size: 9 - 50.0%  - cn: 0.5686299494362963 - max_val: 2.0048679933274984\n",
      "\u001b[36m\u001b[1m[ \u001b[22m\u001b[39m\u001b[36m\u001b[1mInfo: \u001b[22m\u001b[39miter 27: EnergySummary(E = -6.8 ± 0.21, var(E) = 4.57 ± 0.8, Nₛ=100), ‖∇f‖ = 2.018333880571183, ‖θ‖ = 3.446949460242704, tdvp_error = 0.0032992486086742545\n",
      "\u001b[36m\u001b[1m[ \u001b[22m\u001b[39m\u001b[36m\u001b[1mInfo: \u001b[22m\u001b[39mEigenSolver: Null space size: 9 - 50.0%  - cn: 0.5723879255461377 - max_val: 1.7914699643907535\n",
      "\u001b[36m\u001b[1m[ \u001b[22m\u001b[39m\u001b[36m\u001b[1mInfo: \u001b[22m\u001b[39miter 28: EnergySummary(E = -7.02 ± 0.18, var(E) = 3.35 ± 0.51, Nₛ=100), ‖∇f‖ = 1.9546903955917623, ‖θ‖ = 3.4473187590141534, tdvp_error = 0.0007848678039524826\n",
      "\u001b[36m\u001b[1m[ \u001b[22m\u001b[39m\u001b[36m\u001b[1mInfo: \u001b[22m\u001b[39mEigenSolver: Null space size: 10 - 55.6%  - cn: 0.5079226466936066 - max_val: 1.9821880118910196\n",
      "\u001b[36m\u001b[1m[ \u001b[22m\u001b[39m\u001b[36m\u001b[1mInfo: \u001b[22m\u001b[39miter 29: EnergySummary(E = -7.12 ± 0.19, var(E) = 3.62 ± 0.5, Nₛ=100), ‖∇f‖ = 1.8666329460562916, ‖θ‖ = 3.447665099069226, tdvp_error = 0.004799666125013369\n",
      "\u001b[36m\u001b[1m[ \u001b[22m\u001b[39m\u001b[36m\u001b[1mInfo: \u001b[22m\u001b[39mEigenSolver: Null space size: 9 - 50.0%  - cn: 0.4566866094975951 - max_val: 1.771509477563418\n",
      "\u001b[36m\u001b[1m[ \u001b[22m\u001b[39m\u001b[36m\u001b[1mInfo: \u001b[22m\u001b[39miter 30: EnergySummary(E = -7.4 ± 0.16, var(E) = 2.51 ± 0.35, Nₛ=100), ‖∇f‖ = 1.8091259786158689, ‖θ‖ = 3.4479809069130707, tdvp_error = 0.0026097671068716632\n",
      "\u001b[36m\u001b[1m[ \u001b[22m\u001b[39m\u001b[36m\u001b[1mInfo: \u001b[22m\u001b[39mEigenSolver: Null space size: 10 - 55.6%  - cn: 0.47994610794469417 - max_val: 1.868029006923799\n",
      "\u001b[36m\u001b[1m[ \u001b[22m\u001b[39m\u001b[36m\u001b[1mInfo: \u001b[22m\u001b[39miter 31: EnergySummary(E = -7.62 ± 0.16, var(E) = 2.64 ± 0.5, Nₛ=100), ‖∇f‖ = 1.717188783280985, ‖θ‖ = 3.4482775294255457, tdvp_error = 0.0006466364821338111\n",
      "\u001b[36m\u001b[1m[ \u001b[22m\u001b[39m\u001b[36m\u001b[1mInfo: \u001b[22m\u001b[39mEigenSolver: Null space size: 10 - 55.6%  - cn: 0.6155713849731738 - max_val: 2.563615223533704\n",
      "\u001b[36m\u001b[1m[ \u001b[22m\u001b[39m\u001b[36m\u001b[1mInfo: \u001b[22m\u001b[39miter 32: EnergySummary(E = -7.52 ± 0.16, var(E) = 2.72 ± 0.41, Nₛ=100), ‖∇f‖ = 1.592945850800741, ‖θ‖ = 3.448544748261872, tdvp_error = 0.015174361705665218\n",
      "\u001b[36m\u001b[1m[ \u001b[22m\u001b[39m\u001b[36m\u001b[1mInfo: \u001b[22m\u001b[39mEigenSolver: Null space size: 9 - 50.0%  - cn: 0.5269448725764599 - max_val: 2.0384617119295925\n",
      "\u001b[36m\u001b[1m[ \u001b[22m\u001b[39m\u001b[36m\u001b[1mInfo: \u001b[22m\u001b[39miter 33: EnergySummary(E = -7.76 ± 0.15, var(E) = 2.33 ± 0.36, Nₛ=100), ‖∇f‖ = 1.6057201819782128, ‖θ‖ = 3.44877468147265, tdvp_error = 0.004466443586035429\n",
      "\u001b[36m\u001b[1m[ \u001b[22m\u001b[39m\u001b[36m\u001b[1mInfo: \u001b[22m\u001b[39mEigenSolver: Null space size: 10 - 55.6%  - cn: 0.5099323743285548 - max_val: 1.571650416443432\n",
      "\u001b[36m\u001b[1m[ \u001b[22m\u001b[39m\u001b[36m\u001b[1mInfo: \u001b[22m\u001b[39miter 34: EnergySummary(E = -8.06 ± 0.14, var(E) = 1.9 ± 0.33, Nₛ=100), ‖∇f‖ = 1.4944361676536992, ‖θ‖ = 3.4490083015819257, tdvp_error = 0.00200872994425072\n",
      "\u001b[36m\u001b[1m[ \u001b[22m\u001b[39m\u001b[36m\u001b[1mInfo: \u001b[22m\u001b[39mEigenSolver: Null space size: 10 - 55.6%  - cn: 0.5758236556833566 - max_val: 2.1967520656409483\n",
      "\u001b[36m\u001b[1m[ \u001b[22m\u001b[39m\u001b[36m\u001b[1mInfo: \u001b[22m\u001b[39miter 35: EnergySummary(E = -7.92 ± 0.14, var(E) = 1.89 ± 0.3, Nₛ=100), ‖∇f‖ = 1.4294294719330776, ‖θ‖ = 3.4492106490533496, tdvp_error = 0.016057672226322484\n",
      "\u001b[36m\u001b[1m[ \u001b[22m\u001b[39m\u001b[36m\u001b[1mInfo: \u001b[22m\u001b[39mEigenSolver: Null space size: 10 - 55.6%  - cn: 0.7340679593930438 - max_val: 1.845496644866546\n",
      "\u001b[36m\u001b[1m[ \u001b[22m\u001b[39m\u001b[36m\u001b[1mInfo: \u001b[22m\u001b[39miter 36: EnergySummary(E = -8.12 ± 0.12, var(E) = 1.48 ± 0.21, Nₛ=100), ‖∇f‖ = 1.3817830043958965, ‖θ‖ = 3.4493957651199647, tdvp_error = 0.013011738975845177\n",
      "\u001b[36m\u001b[1m[ \u001b[22m\u001b[39m\u001b[36m\u001b[1mInfo: \u001b[22m\u001b[39mEigenSolver: Null space size: 10 - 55.6%  - cn: 0.7246038121559077 - max_val: 1.9487478873578672\n",
      "\u001b[36m\u001b[1m[ \u001b[22m\u001b[39m\u001b[36m\u001b[1mInfo: \u001b[22m\u001b[39miter 37: EnergySummary(E = -8.1 ± 0.13, var(E) = 1.65 ± 0.31, Nₛ=100), ‖∇f‖ = 1.2356361970843146, ‖θ‖ = 3.4495687371173043, tdvp_error = 0.034473081515322246\n",
      "\u001b[36m\u001b[1m[ \u001b[22m\u001b[39m\u001b[36m\u001b[1mInfo: \u001b[22m\u001b[39mEigenSolver: Null space size: 13 - 72.2%  - cn: 0.7544343765853825 - max_val: 2.036815340629523\n",
      "\u001b[36m\u001b[1m[ \u001b[22m\u001b[39m\u001b[36m\u001b[1mInfo: \u001b[22m\u001b[39miter 38: EnergySummary(E = -8.48 ± 0.093, var(E) = 0.86 ± 0.14, Nₛ=100), ‖∇f‖ = 0.9770807949440803, ‖θ‖ = 3.4497070484469097, tdvp_error = 0.0701582662211695\n",
      "\u001b[36m\u001b[1m[ \u001b[22m\u001b[39m\u001b[36m\u001b[1mInfo: \u001b[22m\u001b[39mEigenSolver: Null space size: 10 - 55.6%  - cn: 0.6248930548208307 - max_val: 2.133557429895361\n",
      "\u001b[36m\u001b[1m[ \u001b[22m\u001b[39m\u001b[36m\u001b[1mInfo: \u001b[22m\u001b[39miter 39: EnergySummary(E = -8.24 ± 0.12, var(E) = 1.52 ± 0.25, Nₛ=100), ‖∇f‖ = 1.251727779875385, ‖θ‖ = 3.4497935299672924, tdvp_error = 0.007399542329749487\n",
      "\u001b[36m\u001b[1m[ \u001b[22m\u001b[39m\u001b[36m\u001b[1mInfo: \u001b[22m\u001b[39mEigenSolver: Null space size: 10 - 55.6%  - cn: 0.6753270683291696 - max_val: 2.4229517143061456\n",
      "\u001b[36m\u001b[1m[ \u001b[22m\u001b[39m\u001b[36m\u001b[1mInfo: \u001b[22m\u001b[39miter 40: EnergySummary(E = -8.28 ± 0.11, var(E) = 1.25 ± 0.2, Nₛ=100), ‖∇f‖ = 1.1627067410928245, ‖θ‖ = 3.4499354578638153, tdvp_error = 0.016836187771383737\n",
      "\u001b[36m\u001b[1m[ \u001b[22m\u001b[39m\u001b[36m\u001b[1mInfo: \u001b[22m\u001b[39mEigenSolver: Null space size: 11 - 61.1%  - cn: 0.5460646944576099 - max_val: 1.9603813255704354\n",
      "\u001b[36m\u001b[1m[ \u001b[22m\u001b[39m\u001b[36m\u001b[1mInfo: \u001b[22m\u001b[39miter 41: EnergySummary(E = -8.52 ± 0.09, var(E) = 0.82 ± 0.15, Nₛ=100), ‖∇f‖ = 1.0866454103599192, ‖θ‖ = 3.450057911510998, tdvp_error = 0.026180382402484548\n",
      "\u001b[36m\u001b[1m[ \u001b[22m\u001b[39m\u001b[36m\u001b[1mInfo: \u001b[22m\u001b[39mEigenSolver: Null space size: 9 - 50.0%  - cn: 0.6476441231858032 - max_val: 2.694859251927093\n",
      "\u001b[36m\u001b[1m[ \u001b[22m\u001b[39m\u001b[36m\u001b[1mInfo: \u001b[22m\u001b[39miter 42: EnergySummary(E = -8.24 ± 0.11, var(E) = 1.28 ± 0.19, Nₛ=100), ‖∇f‖ = 1.091327063375365, ‖θ‖ = 3.4501648644209078, tdvp_error = 0.028334725677435113\n",
      "\u001b[36m\u001b[1m[ \u001b[22m\u001b[39m\u001b[36m\u001b[1mInfo: \u001b[22m\u001b[39mEigenSolver: Null space size: 12 - 66.7%  - cn: 0.41603306030781745 - max_val: 1.4315202229135848\n",
      "\u001b[36m\u001b[1m[ \u001b[22m\u001b[39m\u001b[36m\u001b[1mInfo: \u001b[22m\u001b[39miter 43: EnergySummary(E = -8.56 ± 0.083, var(E) = 0.693 ± 0.093, Nₛ=100), ‖∇f‖ = 0.997551362008186, ‖θ‖ = 3.4502727375396094, tdvp_error = 0.0004117122267756068\n",
      "\u001b[36m\u001b[1m[ \u001b[22m\u001b[39m\u001b[36m\u001b[1mInfo: \u001b[22m\u001b[39mEigenSolver: Null space size: 10 - 55.6%  - cn: 0.5825967956005578 - max_val: 1.8113570920180317\n",
      "\u001b[36m\u001b[1m[ \u001b[22m\u001b[39m\u001b[36m\u001b[1mInfo: \u001b[22m\u001b[39miter 44: EnergySummary(E = -8.64 ± 0.077, var(E) = 0.596 ± 0.099, Nₛ=100), ‖∇f‖ = 0.8544456771976005, ‖θ‖ = 3.4503628658967127, tdvp_error = 0.08624968802913746\n",
      "\u001b[36m\u001b[1m[ \u001b[22m\u001b[39m\u001b[36m\u001b[1mInfo: \u001b[22m\u001b[39mEigenSolver: Null space size: 11 - 61.1%  - cn: 0.6142038906476381 - max_val: 2.7565555956817924\n",
      "\u001b[36m\u001b[1m[ \u001b[22m\u001b[39m\u001b[36m\u001b[1mInfo: \u001b[22m\u001b[39miter 45: EnergySummary(E = -8.56 ± 0.083, var(E) = 0.693 ± 0.093, Nₛ=100), ‖∇f‖ = 0.7875575175788218, ‖θ‖ = 3.4504289885090413, tdvp_error = 0.06667311540752396\n",
      "\u001b[36m\u001b[1m[ \u001b[22m\u001b[39m\u001b[36m\u001b[1mInfo: \u001b[22m\u001b[39mEigenSolver: Null space size: 11 - 61.1%  - cn: 0.6400464925728699 - max_val: 2.104916327697464\n",
      "\u001b[36m\u001b[1m[ \u001b[22m\u001b[39m\u001b[36m\u001b[1mInfo: \u001b[22m\u001b[39miter 46: EnergySummary(E = -8.7 ± 0.077, var(E) = 0.6 ± 0.16, Nₛ=100), ‖∇f‖ = 0.8365443294992988, ‖θ‖ = 3.4504851628460464, tdvp_error = 0.07454100336222202\n",
      "\u001b[36m\u001b[1m[ \u001b[22m\u001b[39m\u001b[36m\u001b[1mInfo: \u001b[22m\u001b[39mEigenSolver: Null space size: 11 - 61.1%  - cn: 0.5841731848251912 - max_val: 1.8761677056402466\n",
      "\u001b[36m\u001b[1m[ \u001b[22m\u001b[39m\u001b[36m\u001b[1mInfo: \u001b[22m\u001b[39miter 47: EnergySummary(E = -8.66 ± 0.081, var(E) = 0.65 ± 0.16, Nₛ=100), ‖∇f‖ = 0.8955991918883919, ‖θ‖ = 3.45054854161338, tdvp_error = 0.004258521199454024\n",
      "\u001b[36m\u001b[1m[ \u001b[22m\u001b[39m\u001b[36m\u001b[1mInfo: \u001b[22m\u001b[39mEigenSolver: Null space size: 11 - 61.1%  - cn: 0.7071575905839159 - max_val: 3.2682027462932193\n",
      "\u001b[36m\u001b[1m[ \u001b[22m\u001b[39m\u001b[36m\u001b[1mInfo: \u001b[22m\u001b[39miter 48: EnergySummary(E = -8.52 ± 0.11, var(E) = 1.14 ± 0.35, Nₛ=100), ‖∇f‖ = 0.8328177503703375, ‖θ‖ = 3.4506211830952322, tdvp_error = 0.008957967171185799\n"
     ]
    },
    {
     "name": "stderr",
     "output_type": "stream",
     "text": [
      "\u001b[36m\u001b[1m[ \u001b[22m\u001b[39m\u001b[36m\u001b[1mInfo: \u001b[22m\u001b[39mEigenSolver: Null space size: 11 - 61.1%  - cn: 0.5883395326279897 - max_val: 1.7825528061176876\n",
      "\u001b[36m\u001b[1m[ \u001b[22m\u001b[39m\u001b[36m\u001b[1mInfo: \u001b[22m\u001b[39miter 49: EnergySummary(E = -8.74 ± 0.068, var(E) = 0.46 ± 0.1, Nₛ=100), ‖∇f‖ = 0.8077899650382709, ‖θ‖ = 3.4506839959787503, tdvp_error = 0.003140666936817471\n",
      "\u001b[36m\u001b[1m[ \u001b[22m\u001b[39m\u001b[36m\u001b[1mInfo: \u001b[22m\u001b[39mEigenSolver: Null space size: 11 - 61.1%  - cn: 0.4806527362533414 - max_val: 1.9603391710087836\n",
      "\u001b[36m\u001b[1m[ \u001b[22m\u001b[39m\u001b[36m\u001b[1mInfo: \u001b[22m\u001b[39miter 50: EnergySummary(E = -8.76 ± 0.065, var(E) = 0.427 ± 0.099, Nₛ=100), ‖∇f‖ = 0.6431365757279311, ‖θ‖ = 3.4507430892484785, tdvp_error = 0.001369527206026011\n",
      "\u001b[36m\u001b[1m[ \u001b[22m\u001b[39m\u001b[36m\u001b[1mInfo: \u001b[22m\u001b[39mEigenSolver: Null space size: 12 - 66.7%  - cn: 0.6298785137892433 - max_val: 2.948758167025944\n",
      "\u001b[36m\u001b[1m[ \u001b[22m\u001b[39m\u001b[36m\u001b[1mInfo: \u001b[22m\u001b[39miter 51: EnergySummary(E = -8.72 ± 0.075, var(E) = 0.57 ± 0.16, Nₛ=100), ‖∇f‖ = 0.7504664499472243, ‖θ‖ = 3.4507805469785433, tdvp_error = 0.015896615378667045\n",
      "\u001b[36m\u001b[1m[ \u001b[22m\u001b[39m\u001b[36m\u001b[1mInfo: \u001b[22m\u001b[39mEigenSolver: Null space size: 12 - 66.7%  - cn: 0.5180819597011168 - max_val: 1.5800178076246874\n",
      "\u001b[36m\u001b[1m[ \u001b[22m\u001b[39m\u001b[36m\u001b[1mInfo: \u001b[22m\u001b[39miter 52: EnergySummary(E = -8.78 ± 0.069, var(E) = 0.48 ± 0.17, Nₛ=100), ‖∇f‖ = 0.6904349948415032, ‖θ‖ = 3.4508315495454633, tdvp_error = 0.0006407347350176895\n",
      "\u001b[36m\u001b[1m[ \u001b[22m\u001b[39m\u001b[36m\u001b[1mInfo: \u001b[22m\u001b[39mEigenSolver: Null space size: 13 - 72.2%  - cn: 0.31351107095294956 - max_val: 1.8433956742466926\n",
      "\u001b[36m\u001b[1m[ \u001b[22m\u001b[39m\u001b[36m\u001b[1mInfo: \u001b[22m\u001b[39miter 53: EnergySummary(E = -8.82 ± 0.064, var(E) = 0.41 ± 0.17, Nₛ=100), ‖∇f‖ = 0.5541587857632821, ‖θ‖ = 3.4508747182619737, tdvp_error = 3.4867404945071456e-5\n",
      "\u001b[36m\u001b[1m[ \u001b[22m\u001b[39m\u001b[36m\u001b[1mInfo: \u001b[22m\u001b[39mEigenSolver: Null space size: 14 - 77.8%  - cn: 0.32200726070229635 - max_val: 2.6544491292767054\n",
      "\u001b[36m\u001b[1m[ \u001b[22m\u001b[39m\u001b[36m\u001b[1mInfo: \u001b[22m\u001b[39miter 54: EnergySummary(E = -8.82 ± 0.058, var(E) = 0.331 ± 0.094, Nₛ=100), ‖∇f‖ = 0.46058614349411486, ‖θ‖ = 3.450902527399833, tdvp_error = 0.11127940317242346\n",
      "\u001b[36m\u001b[1m[ \u001b[22m\u001b[39m\u001b[36m\u001b[1mInfo: \u001b[22m\u001b[39mEigenSolver: Null space size: 11 - 61.1%  - cn: 0.402615649030254 - max_val: 1.506762218109649\n",
      "\u001b[36m\u001b[1m[ \u001b[22m\u001b[39m\u001b[36m\u001b[1mInfo: \u001b[22m\u001b[39miter 55: EnergySummary(E = -8.8 ± 0.06, var(E) = 0.364 ± 0.096, Nₛ=100), ‖∇f‖ = 0.6594330060855793, ‖θ‖ = 3.450921737863928, tdvp_error = 0.0005041429885468407\n",
      "\u001b[36m\u001b[1m[ \u001b[22m\u001b[39m\u001b[36m\u001b[1mInfo: \u001b[22m\u001b[39mEigenSolver: Null space size: 14 - 77.8%  - cn: 0.5590272608092511 - max_val: 3.1503366631486247\n",
      "\u001b[36m\u001b[1m[ \u001b[22m\u001b[39m\u001b[36m\u001b[1mInfo: \u001b[22m\u001b[39miter 56: EnergySummary(E = -8.8 ± 0.06, var(E) = 0.364 ± 0.096, Nₛ=100), ‖∇f‖ = 0.43122405836533423, ‖θ‖ = 3.4509611158766687, tdvp_error = 0.10570800155324211\n",
      "\u001b[36m\u001b[1m[ \u001b[22m\u001b[39m\u001b[36m\u001b[1mInfo: \u001b[22m\u001b[39mEigenSolver: Null space size: 13 - 72.2%  - cn: 0.6502120922181878 - max_val: 4.018100814846768\n",
      "\u001b[36m\u001b[1m[ \u001b[22m\u001b[39m\u001b[36m\u001b[1mInfo: \u001b[22m\u001b[39miter 57: EnergySummary(E = -8.74 ± 0.079, var(E) = 0.62 ± 0.21, Nₛ=100), ‖∇f‖ = 0.46643669373522273, ‖θ‖ = 3.4509779548210036, tdvp_error = 0.0357405527594602\n",
      "\u001b[36m\u001b[1m[ \u001b[22m\u001b[39m\u001b[36m\u001b[1mInfo: \u001b[22m\u001b[39mEigenSolver: Null space size: 13 - 72.2%  - cn: 0.40047992547901706 - max_val: 2.0317106684420287\n",
      "\u001b[36m\u001b[1m[ \u001b[22m\u001b[39m\u001b[36m\u001b[1mInfo: \u001b[22m\u001b[39miter 58: EnergySummary(E = -8.82 ± 0.058, var(E) = 0.331 ± 0.094, Nₛ=100), ‖∇f‖ = 0.5373099783227182, ‖θ‖ = 3.450997655990779, tdvp_error = 0.00021906509180735778\n",
      "\u001b[36m\u001b[1m[ \u001b[22m\u001b[39m\u001b[36m\u001b[1mInfo: \u001b[22m\u001b[39mEigenSolver: Null space size: 16 - 88.9%  - cn: 1.5988096222947286 - max_val: 2.944019014464997\n",
      "\u001b[36m\u001b[1m[ \u001b[22m\u001b[39m\u001b[36m\u001b[1mInfo: \u001b[22m\u001b[39miter 59: EnergySummary(E = -8.94 ± 0.034, var(E) = 0.118 ± 0.064, Nₛ=100), ‖∇f‖ = 0.25876622207005395, ‖θ‖ = 3.4510237988764803, tdvp_error = 0.23380280599252135\n",
      "\u001b[36m\u001b[1m[ \u001b[22m\u001b[39m\u001b[36m\u001b[1mInfo: \u001b[22m\u001b[39mEigenSolver: Null space size: 15 - 83.3%  - cn: 0.27962774571339777 - max_val: 1.6442140759421529\n",
      "\u001b[36m\u001b[1m[ \u001b[22m\u001b[39m\u001b[36m\u001b[1mInfo: \u001b[22m\u001b[39miter 60: EnergySummary(E = -8.9 ± 0.044, var(E) = 0.192 ± 0.079, Nₛ=100), ‖∇f‖ = 0.42561948962304075, ‖θ‖ = 3.4510298622853735, tdvp_error = 3.996250673277135e-5\n",
      "\u001b[36m\u001b[1m[ \u001b[22m\u001b[39m\u001b[36m\u001b[1mInfo: \u001b[22m\u001b[39mEigenSolver: Null space size: 14 - 77.8%  - cn: 0.5700995438755443 - max_val: 3.632756603601183\n",
      "\u001b[36m\u001b[1m[ \u001b[22m\u001b[39m\u001b[36m\u001b[1mInfo: \u001b[22m\u001b[39miter 61: EnergySummary(E = -8.88 ± 0.048, var(E) = 0.228 ± 0.084, Nₛ=100), ‖∇f‖ = 0.32263858494508446, ‖θ‖ = 3.4510462660407963, tdvp_error = 0.0003503198627700099\n",
      "\u001b[36m\u001b[1m[ \u001b[22m\u001b[39m\u001b[36m\u001b[1mInfo: \u001b[22m\u001b[39mEigenSolver: Null space size: 13 - 72.2%  - cn: 0.7501847519659236 - max_val: 4.397965812968755\n",
      "\u001b[36m\u001b[1m[ \u001b[22m\u001b[39m\u001b[36m\u001b[1mInfo: \u001b[22m\u001b[39miter 62: EnergySummary(E = -8.86 ± 0.051, var(E) = 0.263 ± 0.088, Nₛ=100), ‖∇f‖ = 0.3742952130820436, ‖θ‖ = 3.4510556921237066, tdvp_error = 0.013045252039425081\n",
      "\u001b[36m\u001b[1m[ \u001b[22m\u001b[39m\u001b[36m\u001b[1mInfo: \u001b[22m\u001b[39mEigenSolver: Null space size: 14 - 77.8%  - cn: 0.6791601556489855 - max_val: 3.864759861185192\n",
      "\u001b[36m\u001b[1m[ \u001b[22m\u001b[39m\u001b[36m\u001b[1mInfo: \u001b[22m\u001b[39miter 63: EnergySummary(E = -8.86 ± 0.051, var(E) = 0.263 ± 0.088, Nₛ=100), ‖∇f‖ = 0.35305388501518004, ‖θ‖ = 3.4510683781556715, tdvp_error = 0.13632647707626544\n",
      "\u001b[36m\u001b[1m[ \u001b[22m\u001b[39m\u001b[36m\u001b[1mInfo: \u001b[22m\u001b[39mEigenSolver: Null space size: 15 - 83.3%  - cn: 0.5296614265801474 - max_val: 2.4583227021156646\n",
      "\u001b[36m\u001b[1m[ \u001b[22m\u001b[39m\u001b[36m\u001b[1mInfo: \u001b[22m\u001b[39miter 64: EnergySummary(E = -8.9 ± 0.044, var(E) = 0.192 ± 0.079, Nₛ=100), ‖∇f‖ = 0.4075271996761801, ‖θ‖ = 3.451079665135187, tdvp_error = 0.00035838800482357325\n",
      "\u001b[36m\u001b[1m[ \u001b[22m\u001b[39m\u001b[36m\u001b[1mInfo: \u001b[22m\u001b[39mEigenSolver: Null space size: 12 - 66.7%  - cn: 0.5469441728966793 - max_val: 2.9778696316743303\n",
      "\u001b[36m\u001b[1m[ \u001b[22m\u001b[39m\u001b[36m\u001b[1mInfo: \u001b[22m\u001b[39miter 65: EnergySummary(E = -8.84 ± 0.055, var(E) = 0.297 ± 0.092, Nₛ=100), ‖∇f‖ = 0.48651681130397023, ‖θ‖ = 3.4510947037311426, tdvp_error = 0.001868059145510248\n",
      "\u001b[36m\u001b[1m[ \u001b[22m\u001b[39m\u001b[36m\u001b[1mInfo: \u001b[22m\u001b[39mEigenSolver: Null space size: 13 - 72.2%  - cn: 0.4432982042149638 - max_val: 3.0114655188629884\n",
      "\u001b[36m\u001b[1m[ \u001b[22m\u001b[39m\u001b[36m\u001b[1mInfo: \u001b[22m\u001b[39miter 66: EnergySummary(E = -8.88 ± 0.048, var(E) = 0.228 ± 0.084, Nₛ=100), ‖∇f‖ = 0.4032288641694525, ‖θ‖ = 3.4511161369549623, tdvp_error = 0.0010734448093563387\n",
      "\u001b[36m\u001b[1m[ \u001b[22m\u001b[39m\u001b[36m\u001b[1mInfo: \u001b[22m\u001b[39mEigenSolver: Null space size: 16 - 88.9%  - cn: 0.09648784239443846 - max_val: 1.901506604338207\n",
      "\u001b[36m\u001b[1m[ \u001b[22m\u001b[39m\u001b[36m\u001b[1mInfo: \u001b[22m\u001b[39miter 67: EnergySummary(E = -8.96 ± 0.028, var(E) = 0.079 ± 0.054, Nₛ=100), ‖∇f‖ = 0.2114029823100408, ‖θ‖ = 3.451130859834064, tdvp_error = 3.4555603274366575e-6\n",
      "\u001b[36m\u001b[1m[ \u001b[22m\u001b[39m\u001b[36m\u001b[1mInfo: \u001b[22m\u001b[39mEigenSolver: Null space size: 16 - 88.9%  - cn: 0.1635981966645252 - max_val: 1.4775073652603565\n",
      "\u001b[36m\u001b[1m[ \u001b[22m\u001b[39m\u001b[36m\u001b[1mInfo: \u001b[22m\u001b[39miter 68: EnergySummary(E = -8.92 ± 0.039, var(E) = 0.155 ± 0.072, Nₛ=100), ‖∇f‖ = 0.3355646622415279, ‖θ‖ = 3.45113490662305, tdvp_error = 3.9215483033094856e-6\n",
      "\u001b[36m\u001b[1m[ \u001b[22m\u001b[39m\u001b[36m\u001b[1mInfo: \u001b[22m\u001b[39mEigenSolver: Null space size: 13 - 72.2%  - cn: 0.73862714389309 - max_val: 6.599589380314315\n",
      "\u001b[36m\u001b[1m[ \u001b[22m\u001b[39m\u001b[36m\u001b[1mInfo: \u001b[22m\u001b[39miter 69: EnergySummary(E = -8.84 ± 0.055, var(E) = 0.297 ± 0.092, Nₛ=100), ‖∇f‖ = 0.33917793991512085, ‖θ‖ = 3.451145102859148, tdvp_error = 0.14932242171622256\n",
      "\u001b[36m\u001b[1m[ \u001b[22m\u001b[39m\u001b[36m\u001b[1mInfo: \u001b[22m\u001b[39mEigenSolver: Null space size: 15 - 83.3%  - cn: 0.6688208579212214 - max_val: 7.019502323343849\n",
      "\u001b[36m\u001b[1m[ \u001b[22m\u001b[39m\u001b[36m\u001b[1mInfo: \u001b[22m\u001b[39miter 70: EnergySummary(E = -8.9 ± 0.044, var(E) = 0.192 ± 0.079, Nₛ=100), ‖∇f‖ = 0.22838315011391205, ‖θ‖ = 3.4511555198274544, tdvp_error = 0.0010126340891802865\n",
      "\u001b[36m\u001b[1m[ \u001b[22m\u001b[39m\u001b[36m\u001b[1mInfo: \u001b[22m\u001b[39mEigenSolver: Null space size: 17 - 94.4%  - cn: NaN - max_val: 1.6711879557620066\n",
      "\u001b[36m\u001b[1m[ \u001b[22m\u001b[39m\u001b[36m\u001b[1mInfo: \u001b[22m\u001b[39miter 71: EnergySummary(E = -8.94 ± 0.034, var(E) = 0.118 ± 0.064, Nₛ=100), ‖∇f‖ = 0.26391459446511684, ‖θ‖ = 3.451160242777064, tdvp_error = 1.9999970075623708e-6\n",
      "\u001b[36m\u001b[1m[ \u001b[22m\u001b[39m\u001b[36m\u001b[1mInfo: \u001b[22m\u001b[39mEigenSolver: Null space size: 13 - 72.2%  - cn: 0.741045412497438 - max_val: 4.747937757096294\n",
      "\u001b[36m\u001b[1m[ \u001b[22m\u001b[39m\u001b[36m\u001b[1mInfo: \u001b[22m\u001b[39miter 72: EnergySummary(E = -8.84 ± 0.055, var(E) = 0.297 ± 0.092, Nₛ=100), ‖∇f‖ = 0.3565443652074346, ‖θ‖ = 3.451166549609823, tdvp_error = 0.04040159861705617\n"
     ]
    },
    {
     "name": "stderr",
     "output_type": "stream",
     "text": [
      "\u001b[36m\u001b[1m[ \u001b[22m\u001b[39m\u001b[36m\u001b[1mInfo: \u001b[22m\u001b[39mEigenSolver: Null space size: 17 - 94.4%  - cn: NaN - max_val: 2.997875494506249\n",
      "\u001b[36m\u001b[1m[ \u001b[22m\u001b[39m\u001b[36m\u001b[1mInfo: \u001b[22m\u001b[39miter 73: EnergySummary(E = -8.98 ± 0.02, var(E) = 0.04 ± 0.039, Nₛ=100), ‖∇f‖ = 0.1149318408015337, ‖θ‖ = 3.4511780605430227, tdvp_error = 1.999997010226906e-6\n",
      "\u001b[36m\u001b[1m[ \u001b[22m\u001b[39m\u001b[36m\u001b[1mInfo: \u001b[22m\u001b[39mEigenSolver: Null space size: 15 - 83.3%  - cn: 0.4766239480094735 - max_val: 3.684631556030668\n",
      "\u001b[36m\u001b[1m[ \u001b[22m\u001b[39m\u001b[36m\u001b[1mInfo: \u001b[22m\u001b[39miter 74: EnergySummary(E = -8.94 ± 0.034, var(E) = 0.118 ± 0.064, Nₛ=100), ‖∇f‖ = 0.2317955054290962, ‖θ‖ = 3.451179256631495, tdvp_error = 0.00021029882421164103\n",
      "\u001b[36m\u001b[1m[ \u001b[22m\u001b[39m\u001b[36m\u001b[1mInfo: \u001b[22m\u001b[39mEigenSolver: Null space size: 16 - 88.9%  - cn: 0.2468461243691308 - max_val: 2.249996294488004\n",
      "\u001b[36m\u001b[1m[ \u001b[22m\u001b[39m\u001b[36m\u001b[1mInfo: \u001b[22m\u001b[39miter 75: EnergySummary(E = -8.96 ± 0.028, var(E) = 0.079 ± 0.054, Nₛ=100), ‖∇f‖ = 0.2062722001834131, ‖θ‖ = 3.4511841217365133, tdvp_error = 9.538069750458789e-6\n",
      "\u001b[36m\u001b[1m[ \u001b[22m\u001b[39m\u001b[36m\u001b[1mInfo: \u001b[22m\u001b[39mEigenSolver: Null space size: 15 - 83.3%  - cn: 0.3839334399022221 - max_val: 2.853294371635601\n",
      "\u001b[36m\u001b[1m[ \u001b[22m\u001b[39m\u001b[36m\u001b[1mInfo: \u001b[22m\u001b[39miter 76: EnergySummary(E = -8.92 ± 0.039, var(E) = 0.155 ± 0.072, Nₛ=100), ‖∇f‖ = 0.2982066723374203, ‖θ‖ = 3.451187974417517, tdvp_error = 9.597224218904632e-5\n",
      "\u001b[36m\u001b[1m[ \u001b[22m\u001b[39m\u001b[36m\u001b[1mInfo: \u001b[22m\u001b[39mEigenSolver: Null space size: 17 - 94.4%  - cn: NaN - max_val: 2.643863529009308\n",
      "\u001b[36m\u001b[1m[ \u001b[22m\u001b[39m\u001b[36m\u001b[1mInfo: \u001b[22m\u001b[39miter 77: EnergySummary(E = -8.98 ± 0.02, var(E) = 0.04 ± 0.039, Nₛ=100), ‖∇f‖ = 0.12238484486735143, ‖θ‖ = 3.451196026637175, tdvp_error = 1.99999699113107e-6\n",
      "\u001b[36m\u001b[1m[ \u001b[22m\u001b[39m\u001b[36m\u001b[1mInfo: \u001b[22m\u001b[39mEigenSolver: Null space size: 16 - 88.9%  - cn: 0.43214520535111134 - max_val: 2.4909080933724392\n",
      "\u001b[36m\u001b[1m[ \u001b[22m\u001b[39m\u001b[36m\u001b[1mInfo: \u001b[22m\u001b[39miter 78: EnergySummary(E = -8.96 ± 0.028, var(E) = 0.079 ± 0.054, Nₛ=100), ‖∇f‖ = 0.21256342168653086, ‖θ‖ = 3.4511973828741866, tdvp_error = 4.142639873960796e-5\n",
      "\u001b[36m\u001b[1m[ \u001b[22m\u001b[39m\u001b[36m\u001b[1mInfo: \u001b[22m\u001b[39mEigenSolver: Null space size: 16 - 88.9%  - cn: 1.0449611627435849 - max_val: 3.318669714110108\n",
      "\u001b[36m\u001b[1m[ \u001b[22m\u001b[39m\u001b[36m\u001b[1mInfo: \u001b[22m\u001b[39miter 79: EnergySummary(E = -8.96 ± 0.028, var(E) = 0.079 ± 0.054, Nₛ=100), ‖∇f‖ = 0.2519743051200266, ‖θ‖ = 3.451201474133723, tdvp_error = 0.007131500215731168\n",
      "\u001b[36m\u001b[1m[ \u001b[22m\u001b[39m\u001b[36m\u001b[1mInfo: \u001b[22m\u001b[39mEigenSolver: Null space size: 14 - 77.8%  - cn: 0.4892902507245944 - max_val: 4.080046967921008\n",
      "\u001b[36m\u001b[1m[ \u001b[22m\u001b[39m\u001b[36m\u001b[1mInfo: \u001b[22m\u001b[39miter 80: EnergySummary(E = -8.9 ± 0.044, var(E) = 0.192 ± 0.079, Nₛ=100), ‖∇f‖ = 0.3097766431027362, ‖θ‖ = 3.451207223127773, tdvp_error = 0.0003984028335565215\n",
      "\u001b[36m\u001b[1m[ \u001b[22m\u001b[39m\u001b[36m\u001b[1mInfo: \u001b[22m\u001b[39mEigenSolver: Null space size: 14 - 77.8%  - cn: 0.22644561928851303 - max_val: 4.518217481781756\n",
      "\u001b[36m\u001b[1m[ \u001b[22m\u001b[39m\u001b[36m\u001b[1mInfo: \u001b[22m\u001b[39miter 81: EnergySummary(E = -8.92 ± 0.039, var(E) = 0.155 ± 0.072, Nₛ=100), ‖∇f‖ = 0.21778943592249264, ‖θ‖ = 3.4512159122474055, tdvp_error = 2.1751525971613894e-5\n",
      "\u001b[36m\u001b[1m[ \u001b[22m\u001b[39m\u001b[36m\u001b[1mInfo: \u001b[22m\u001b[39mEigenSolver: Null space size: 15 - 83.3%  - cn: 0.24787351586849765 - max_val: 5.0017742555530615\n",
      "\u001b[36m\u001b[1m[ \u001b[22m\u001b[39m\u001b[36m\u001b[1mInfo: \u001b[22m\u001b[39miter 82: EnergySummary(E = -8.92 ± 0.039, var(E) = 0.155 ± 0.072, Nₛ=100), ‖∇f‖ = 0.20987749005683234, ‖θ‖ = 3.4512202071294573, tdvp_error = 2.2538163975571734e-5\n",
      "\u001b[36m\u001b[1m[ \u001b[22m\u001b[39m\u001b[36m\u001b[1mInfo: \u001b[22m\u001b[39mEigenSolver: Null space size: 16 - 88.9%  - cn: 0.6234036609603194 - max_val: 4.424525869115025\n",
      "\u001b[36m\u001b[1m[ \u001b[22m\u001b[39m\u001b[36m\u001b[1mInfo: \u001b[22m\u001b[39miter 83: EnergySummary(E = -8.94 ± 0.045, var(E) = 0.2 ± 0.16, Nₛ=100), ‖∇f‖ = 0.23958988898319292, ‖θ‖ = 3.4512241956223617, tdvp_error = 8.380108131345043e-5\n",
      "\u001b[36m\u001b[1m[ \u001b[22m\u001b[39m\u001b[36m\u001b[1mInfo: \u001b[22m\u001b[39mEigenSolver: Null space size: 16 - 88.9%  - cn: 0.5245208599465451 - max_val: 2.028632630366904\n",
      "\u001b[36m\u001b[1m[ \u001b[22m\u001b[39m\u001b[36m\u001b[1mInfo: \u001b[22m\u001b[39miter 84: EnergySummary(E = -8.96 ± 0.028, var(E) = 0.079 ± 0.054, Nₛ=100), ‖∇f‖ = 0.24595536457806244, ‖θ‖ = 3.4512293933497133, tdvp_error = 8.908739301516366e-5\n",
      "\u001b[36m\u001b[1m[ \u001b[22m\u001b[39m\u001b[36m\u001b[1mInfo: \u001b[22m\u001b[39mEigenSolver: Null space size: 17 - 94.4%  - cn: NaN - max_val: 2.2455386351896176\n",
      "\u001b[36m\u001b[1m[ \u001b[22m\u001b[39m\u001b[36m\u001b[1mInfo: \u001b[22m\u001b[39miter 85: EnergySummary(E = -8.98 ± 0.02, var(E) = 0.04 ± 0.039, Nₛ=100), ‖∇f‖ = 0.13279658071988937, ‖θ‖ = 3.4512348709261853, tdvp_error = 1.9999970058970362e-6\n",
      "\u001b[36m\u001b[1m[ \u001b[22m\u001b[39m\u001b[36m\u001b[1mInfo: \u001b[22m\u001b[39mEigenSolver: Null space size: 15 - 83.3%  - cn: 0.7306893076944017 - max_val: 4.07264015276095\n",
      "\u001b[36m\u001b[1m[ \u001b[22m\u001b[39m\u001b[36m\u001b[1mInfo: \u001b[22m\u001b[39miter 86: EnergySummary(E = -8.92 ± 0.039, var(E) = 0.155 ± 0.072, Nₛ=100), ‖∇f‖ = 0.26277985444049007, ‖θ‖ = 3.4512364677212846, tdvp_error = 0.0016103319770193192\n",
      "\u001b[36m\u001b[1m[ \u001b[22m\u001b[39m\u001b[36m\u001b[1mInfo: \u001b[22m\u001b[39mEigenSolver: Null space size: 13 - 72.2%  - cn: 0.627138486558182 - max_val: 5.538685410613523\n",
      "\u001b[36m\u001b[1m[ \u001b[22m\u001b[39m\u001b[36m\u001b[1mInfo: \u001b[22m\u001b[39miter 87: EnergySummary(E = -8.9 ± 0.044, var(E) = 0.192 ± 0.079, Nₛ=100), ‖∇f‖ = 0.29138567644000163, ‖θ‖ = 3.4512427202982585, tdvp_error = 0.004885977253386686\n",
      "\u001b[36m\u001b[1m[ \u001b[22m\u001b[39m\u001b[36m\u001b[1mInfo: \u001b[22m\u001b[39mEigenSolver: Null space size: 16 - 88.9%  - cn: 0.36425592867793466 - max_val: 4.268513073468261\n",
      "\u001b[36m\u001b[1m[ \u001b[22m\u001b[39m\u001b[36m\u001b[1mInfo: \u001b[22m\u001b[39miter 88: EnergySummary(E = -8.94 ± 0.034, var(E) = 0.118 ± 0.064, Nₛ=100), ‖∇f‖ = 0.18409999572362762, ‖θ‖ = 3.4512504082461906, tdvp_error = 1.713591645180479e-5\n",
      "\u001b[36m\u001b[1m[ \u001b[22m\u001b[39m\u001b[36m\u001b[1mInfo: \u001b[22m\u001b[39mEigenSolver: Null space size: 17 - 94.4%  - cn: NaN - max_val: 3.0538960823862737\n",
      "\u001b[36m\u001b[1m[ \u001b[22m\u001b[39m\u001b[36m\u001b[1mInfo: \u001b[22m\u001b[39miter 89: EnergySummary(E = -8.98 ± 0.02, var(E) = 0.04 ± 0.039, Nₛ=100), ‖∇f‖ = 0.11387280830252328, ‖θ‖ = 3.45125347713331, tdvp_error = 1.9999970016781887e-6\n",
      "\u001b[36m\u001b[1m[ \u001b[22m\u001b[39m\u001b[36m\u001b[1mInfo: \u001b[22m\u001b[39mEigenSolver: Null space size: 17 - 94.4%  - cn: NaN - max_val: 1.3091148752339978\n",
      "\u001b[36m\u001b[1m[ \u001b[22m\u001b[39m\u001b[36m\u001b[1mInfo: \u001b[22m\u001b[39miter 90: EnergySummary(E = -8.98 ± 0.02, var(E) = 0.04 ± 0.039, Nₛ=100), ‖∇f‖ = 0.1739235053417356, ‖θ‖ = 3.451254651255113, tdvp_error = 1.999997010226906e-6\n",
      "\u001b[36m\u001b[1m[ \u001b[22m\u001b[39m\u001b[36m\u001b[1mInfo: \u001b[22m\u001b[39mEigenSolver: Null space size: 16 - 88.9%  - cn: 0.42075811842628735 - max_val: 6.130468560520228\n",
      "\u001b[36m\u001b[1m[ \u001b[22m\u001b[39m\u001b[36m\u001b[1mInfo: \u001b[22m\u001b[39miter 91: EnergySummary(E = -8.96 ± 0.028, var(E) = 0.079 ± 0.054, Nₛ=100), ‖∇f‖ = 0.13479114914353138, ‖θ‖ = 3.451257390238538, tdvp_error = 3.773009425911411e-5\n",
      "\u001b[36m\u001b[1m[ \u001b[22m\u001b[39m\u001b[36m\u001b[1mInfo: \u001b[22m\u001b[39mEigenSolver: Null space size: 17 - 94.4%  - cn: NaN - max_val: 4.120932308017777\n",
      "\u001b[36m\u001b[1m[ \u001b[22m\u001b[39m\u001b[36m\u001b[1mInfo: \u001b[22m\u001b[39miter 92: EnergySummary(E = -8.98 ± 0.02, var(E) = 0.04 ± 0.039, Nₛ=100), ‖∇f‖ = 0.09802783662824913, ‖θ‖ = 3.45125903534997, tdvp_error = 1.999997001345122e-6\n",
      "\u001b[36m\u001b[1m[ \u001b[22m\u001b[39m\u001b[36m\u001b[1mInfo: \u001b[22m\u001b[39mEigenSolver: Null space size: 14 - 77.8%  - cn: 0.6995637834523362 - max_val: 7.418932565139853\n",
      "\u001b[36m\u001b[1m[ \u001b[22m\u001b[39m\u001b[36m\u001b[1mInfo: \u001b[22m\u001b[39miter 93: EnergySummary(E = -8.9 ± 0.044, var(E) = 0.192 ± 0.079, Nₛ=100), ‖∇f‖ = 0.24483091123837558, ‖θ‖ = 3.4512599054541337, tdvp_error = 0.0078085825970805045\n",
      "\u001b[36m\u001b[1m[ \u001b[22m\u001b[39m\u001b[36m\u001b[1mInfo: \u001b[22m\u001b[39mEigenSolver: Null space size: 16 - 88.9%  - cn: 0.04314160343572543 - max_val: 5.004574570705544\n",
      "\u001b[36m\u001b[1m[ \u001b[22m\u001b[39m\u001b[36m\u001b[1mInfo: \u001b[22m\u001b[39miter 94: EnergySummary(E = -8.94 ± 0.034, var(E) = 0.118 ± 0.064, Nₛ=100), ‖∇f‖ = 0.15662103795937907, ‖θ‖ = 3.4512653330126204, tdvp_error = 2.7682539207596335e-6\n",
      "\u001b[36m\u001b[1m[ \u001b[22m\u001b[39m\u001b[36m\u001b[1mInfo: \u001b[22m\u001b[39mEigenSolver: Null space size: 17 - 94.4%  - cn: NaN - max_val: 3.158525108795061e-31\n",
      "\u001b[36m\u001b[1m[ \u001b[22m\u001b[39m\u001b[36m\u001b[1mInfo: \u001b[22m\u001b[39miter 95: EnergySummary(E = -9.0 ± 0.0, var(E) = 0.0 ± 0.0, Nₛ=100), ‖∇f‖ = 0.0, ‖θ‖ = 3.451267554131115, tdvp_error = NaN\n",
      "\u001b[36m\u001b[1m[ \u001b[22m\u001b[39m\u001b[36m\u001b[1mInfo: \u001b[22m\u001b[39mEigenSolver: Null space size: 17 - 94.4%  - cn: NaN - max_val: 3.158525108795061e-31\n",
      "\u001b[36m\u001b[1m[ \u001b[22m\u001b[39m\u001b[36m\u001b[1mInfo: \u001b[22m\u001b[39miter 96: EnergySummary(E = -9.0 ± 0.0, var(E) = 0.0 ± 0.0, Nₛ=100), ‖∇f‖ = 0.0, ‖θ‖ = 3.451267554131115, tdvp_error = NaN\n"
     ]
    },
    {
     "name": "stderr",
     "output_type": "stream",
     "text": [
      "\u001b[36m\u001b[1m[ \u001b[22m\u001b[39m\u001b[36m\u001b[1mInfo: \u001b[22m\u001b[39mEigenSolver: Null space size: 16 - 88.9%  - cn: 0.8752832679956698 - max_val: 5.522984122193095\n",
      "\u001b[36m\u001b[1m[ \u001b[22m\u001b[39m\u001b[36m\u001b[1mInfo: \u001b[22m\u001b[39miter 97: EnergySummary(E = -8.96 ± 0.028, var(E) = 0.079 ± 0.054, Nₛ=100), ‖∇f‖ = 0.17834391614434855, ‖θ‖ = 3.451267554131115, tdvp_error = 0.0017083229828932511\n",
      "\u001b[36m\u001b[1m[ \u001b[22m\u001b[39m\u001b[36m\u001b[1mInfo: \u001b[22m\u001b[39mEigenSolver: Null space size: 16 - 88.9%  - cn: 0.27188990875588687 - max_val: 4.149042051658863\n",
      "\u001b[36m\u001b[1m[ \u001b[22m\u001b[39m\u001b[36m\u001b[1mInfo: \u001b[22m\u001b[39miter 98: EnergySummary(E = -8.96 ± 0.028, var(E) = 0.079 ± 0.054, Nₛ=100), ‖∇f‖ = 0.15349702204282847, ‖θ‖ = 3.451270434100092, tdvp_error = 1.1525766971498541e-5\n",
      "\u001b[36m\u001b[1m[ \u001b[22m\u001b[39m\u001b[36m\u001b[1mInfo: \u001b[22m\u001b[39mEigenSolver: Null space size: 15 - 83.3%  - cn: 0.336862743833937 - max_val: 5.057167294800621\n",
      "\u001b[36m\u001b[1m[ \u001b[22m\u001b[39m\u001b[36m\u001b[1mInfo: \u001b[22m\u001b[39miter 99: EnergySummary(E = -8.94 ± 0.034, var(E) = 0.118 ± 0.064, Nₛ=100), ‖∇f‖ = 0.18832050354289093, ‖θ‖ = 3.451272567492793, tdvp_error = 4.949964229150616e-5\n",
      "\u001b[36m\u001b[1m[ \u001b[22m\u001b[39m\u001b[36m\u001b[1mInfo: \u001b[22m\u001b[39mEigenSolver: Null space size: 15 - 83.3%  - cn: 0.7468536190659425 - max_val: 6.7947547341292065\n",
      "\u001b[36m\u001b[1m[ \u001b[22m\u001b[39m\u001b[36m\u001b[1mInfo: \u001b[22m\u001b[39miter 100: EnergySummary(E = -8.94 ± 0.034, var(E) = 0.118 ± 0.064, Nₛ=100), ‖∇f‖ = 0.18572083462789785, ‖θ‖ = 3.4512757786810995, tdvp_error = 0.002179198567717422\n"
     ]
    },
    {
     "name": "stdout",
     "output_type": "stream",
     "text": [
      "\u001b[0m\u001b[1m ──────────────────────────────────────────────────────────────────────────────\u001b[22m\n",
      "\u001b[0m\u001b[1m                             \u001b[22m         Time                    Allocations      \n",
      "                             ───────────────────────   ────────────────────────\n",
      "      Tot / % measured:           97.8s / 100.0%           52.2GiB / 100.0%    \n",
      "\n",
      " Section             ncalls     time    %tot     avg     alloc    %tot      avg\n",
      " ──────────────────────────────────────────────────────────────────────────────\n",
      " integrator             100    97.8s  100.0%   978ms   52.2GiB  100.0%   534MiB\n",
      "   NaturalGradient      100    97.8s  100.0%   978ms   52.2GiB  100.0%   534MiB\n",
      "     Oks_and_Eks        100    97.7s   99.9%   977ms   52.2GiB  100.0%   534MiB\n",
      "     solver             100   54.5ms    0.1%   545μs   7.15MiB    0.0%  73.3KiB\n",
      "     copy Oks           100   41.3ms    0.0%   413μs   8.38MiB    0.0%  85.8KiB\n",
      "\u001b[0m\u001b[1m ──────────────────────────────────────────────────────────────────────────────\u001b[22m 97.825986 seconds (216.85 M allocations: 52.179 GiB, 11.27% gc time)\n"
     ]
    },
    {
     "name": "stderr",
     "output_type": "stream",
     "text": [
      "\u001b[36m\u001b[1m[ \u001b[22m\u001b[39m\u001b[36m\u001b[1mInfo: \u001b[22m\u001b[39mevolve: Done\n"
     ]
    },
    {
     "data": {
      "text/plain": [
       "(-8.94, ComplexF64[0.7291279081130918 + 1.017366211196627im, 0.050673686747292 + 0.013901090865963731im, 0.8248789815436334 + 1.0705777901463038im, 0.03746145555416469 + 0.044542287490837544im, 1.0243337324543196 + 0.1993924695517553im, 0.014065551168353776 + 0.055320398179086544im, 0.4645218573855911 + 0.6342479893432859im, 0.03607922570551875 + 0.004234855588938363im, 1.3687592852974995 + 0.44972725574362865im, 0.042465456493800346 + 0.05701689010526223im, 0.7950538686042011 + 0.7543191756607357im, 0.04112598144356766 + 0.021617415187447087im, 0.061121212508836446 + 0.8355617620506136im, 0.015355162675048228 + 0.0350541085016978im, 0.9796953629343788 + 0.7065831277468876im, 0.0309514985764676 + 0.043636337363834855im, 1.0465618056934984 + 0.5038652521017708im, 0.02523761466522068 + 0.033662090237316006im], Dict{String, Any}(\"niter\" => 100, \"history\" => [1.1200000000000003 10.167272727272724 … 10.167272727272724 0.0005562860392309688; 1.16 6.762020202020204 … 6.762020202020204 0.000778805671809657; … ; -8.94 0.11757575757575765 … 0.11757575757575765 4.949964229150616e-5; -8.94 0.11757575757575751 … 0.11757575757575751 0.002179198567717422], \"history_legend\" => Dict(\"norm_grad\" => 4, \"var_energy\" => 6, \"sample_nr\" => 3, \"energy\" => 1, \"norm_θ\" => 5, \"tdvp_error\" => 7), \"energy\" => -8.94))"
      ]
     },
     "execution_count": 16,
     "metadata": {},
     "output_type": "execute_result"
    }
   ],
   "source": [
    "dt = 0.025  # Time step\n",
    "eigen_cut = 0.1  # Eigenvalue cutoff for solver\n",
    "integrator = QuantumNaturalGradient.Euler(lr=dt)  # Define the integrator with learning rate\n",
    "solver = QuantumNaturalGradient.EigenSolver(eigen_cut, verbose=true)  # Eigenvalue solver with verbosity\n",
    "\n",
    "θ = complex(rand(length(peps))+im.*rand(length(peps)))  # Initialize your parameter vector\n",
    "\n",
    "# Evolve the system\n",
    "@time loss_value, trained_θ, misc = QuantumNaturalGradient.evolve(ok_ek, θ; \n",
    "                                        integrator, \n",
    "                                        verbosity=2, \n",
    "                                        solver, \n",
    "                                        sample_nr = 100,  # Number of samples \n",
    "                                        maxiter = 100,  # Maximum iterations \n",
    "                                        callback = test,  # Callback function for each iteration\n",
    "                                        )"
   ]
  },
  {
   "cell_type": "code",
   "execution_count": 22,
   "id": "53ac2e43",
   "metadata": {},
   "outputs": [
    {
     "data": {
      "text/plain": [
       "9-element Vector{Float64}:\n",
       " 23.82042142705733\n",
       " 23.221246082572538\n",
       " 18.28223854397602\n",
       " 21.641317655912864\n",
       " 20.265636551609454\n",
       " 23.588429268767126\n",
       " 21.89183149851564\n",
       " 22.578374209981693\n",
       " 27.608192643030133"
      ]
     },
     "execution_count": 22,
     "metadata": {},
     "output_type": "execute_result"
    }
   ],
   "source": [
    "# As one can see the values corresponding to Spin up are very big\n",
    "# compared to the ones corresponding to Spin down after optimization\n",
    "abs.(trained_θ[1:2:end])./abs.(trained_θ[2:2:end])"
   ]
  }
 ],
 "metadata": {
  "kernelspec": {
   "display_name": "Julia 1.8.2",
   "language": "julia",
   "name": "julia-1.8"
  },
  "language_info": {
   "file_extension": ".jl",
   "mimetype": "application/julia",
   "name": "julia",
   "version": "1.8.2"
  }
 },
 "nbformat": 4,
 "nbformat_minor": 5
}
