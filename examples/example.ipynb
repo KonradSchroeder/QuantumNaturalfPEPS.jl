{
 "cells": [
  {
   "cell_type": "code",
   "execution_count": 1,
   "id": "bb92e57a",
   "metadata": {},
   "outputs": [
    {
     "name": "stderr",
     "output_type": "stream",
     "text": [
      "\u001b[36m\u001b[1m[ \u001b[22m\u001b[39m\u001b[36m\u001b[1mInfo: \u001b[22m\u001b[39mPrecompiling QuantumNaturalfPEPS [8cccb88f-824b-4ada-bd77-4bd123faaa4e]\n",
      "WARNING: Method definition (::Type{QuantumNaturalfPEPS.PEPS})(Array{ITensors.Index{Int64}, 2}) in module QuantumNaturalfPEPS at /home/konrad/Schreibtisch/Uni Koeln/FZJ/QuantumNaturalfPEPS.jl/src/PEPS.jl:71 overwritten at /home/konrad/Schreibtisch/Uni Koeln/FZJ/QuantumNaturalfPEPS.jl/src/PEPS.jl:73.\n",
      "  ** incremental compilation may be fatally broken for this module **\n",
      "\n",
      "WARNING: Method definition Type##kw(Any, Type{QuantumNaturalfPEPS.PEPS}, Array{ITensors.Index{Int64}, 2}) in module QuantumNaturalfPEPS at /home/konrad/Schreibtisch/Uni Koeln/FZJ/QuantumNaturalfPEPS.jl/src/PEPS.jl:71 overwritten at /home/konrad/Schreibtisch/Uni Koeln/FZJ/QuantumNaturalfPEPS.jl/src/PEPS.jl:73.\n",
      "  ** incremental compilation may be fatally broken for this module **\n",
      "\n"
     ]
    }
   ],
   "source": [
    "using Revise\n",
    "using Plots\n",
    "using ITensors\n",
    "using QuantumNaturalGradient\n",
    "using QuantumNaturalfPEPS"
   ]
  },
  {
   "cell_type": "code",
   "execution_count": 3,
   "id": "14111d9d",
   "metadata": {},
   "outputs": [
    {
     "data": {
      "text/plain": [
       "PEPS(L=(3, 3), bond_dim=1, sample_dim=1, contract_dim=3, double_contract_dim=2)"
      ]
     },
     "execution_count": 3,
     "metadata": {},
     "output_type": "execute_result"
    }
   ],
   "source": [
    "# PEPS(Lx,Ly,phys_dim,bond_dim) generates a PEPS with dimensions Lx * Ly, physical dimension = phys_dim and bond dimension bond_dim\n",
    "L = 3\n",
    "hilbert = siteinds(\"S=1/2\", L, L) # Check why it gives errors if used with this\n",
    "peps = PEPS(Float64, hilbert; bond_dim=1) "
   ]
  },
  {
   "cell_type": "code",
   "execution_count": 4,
   "id": "e1372f11",
   "metadata": {},
   "outputs": [
    {
     "data": {
      "text/plain": [
       "2-element Vector{QuantumNaturalfPEPS.Environment}:\n",
       " QuantumNaturalfPEPS.Environment(MPS\n",
       "[1] ((dim=1|id=65|\"Link,l=9\"), (dim=1|id=788|\"-1\"))\n",
       "[2] ((dim=1|id=32|\"-1\"), (dim=1|id=87|\"Link,l=12\"), (dim=1|id=65|\"Link,l=9\"))\n",
       "[3] ((dim=1|id=714|\"-1\"), (dim=1|id=87|\"Link,l=12\"))\n",
       ", -0.6026543072064008)\n",
       " QuantumNaturalfPEPS.Environment(MPS\n",
       "[1] ((dim=1|id=660|\"Link,l=9\"), (dim=1|id=559|\"-1\"))\n",
       "[2] ((dim=1|id=174|\"Link,l=12\"), (dim=1|id=660|\"Link,l=9\"), (dim=1|id=245|\"-1\"))\n",
       "[3] ((dim=1|id=174|\"Link,l=12\"), (dim=1|id=874|\"-1\"))\n",
       ", -1.413732042752206)"
      ]
     },
     "execution_count": 4,
     "metadata": {},
     "output_type": "execute_result"
    }
   ],
   "source": [
    "QuantumNaturalfPEPS.update_double_layer_envs!(peps)"
   ]
  },
  {
   "cell_type": "code",
   "execution_count": 5,
   "id": "a88f80db",
   "metadata": {},
   "outputs": [
    {
     "data": {
      "text/plain": [
       "([0 1 1; 0 0 0; 0 1 0], -2.0136453397972525, QuantumNaturalfPEPS.Environment[QuantumNaturalfPEPS.Environment(MPS\n",
       "[1] ((dim=1|id=892|\"Link,l=1\"), (dim=1|id=993|\"Link,l=7\"))\n",
       "[2] ((dim=1|id=993|\"Link,l=7\"), (dim=1|id=149|\"Link,l=10\"), (dim=1|id=831|\"Link,l=3\"))\n",
       "[3] ((dim=1|id=149|\"Link,l=10\"), (dim=1|id=491|\"Link,l=5\"))\n",
       ", 0.17805079630453874), QuantumNaturalfPEPS.Environment(MPS\n",
       "[1] ((dim=1|id=110|\"Link,l=7\"), (dim=1|id=660|\"Link,l=2\"))\n",
       "[2] ((dim=1|id=312|\"Link,l=4\"), (dim=1|id=864|\"Link,l=10\"), (dim=1|id=110|\"Link,l=7\"))\n",
       "[3] ((dim=1|id=853|\"Link,l=6\"), (dim=1|id=864|\"Link,l=10\"))\n",
       ", 0.26845611011965775)])"
      ]
     },
     "execution_count": 5,
     "metadata": {},
     "output_type": "execute_result"
    }
   ],
   "source": [
    "S, pc, et = QuantumNaturalfPEPS.get_sample(peps)"
   ]
  },
  {
   "cell_type": "code",
   "execution_count": 6,
   "id": "4e611e9b",
   "metadata": {},
   "outputs": [
    {
     "data": {
      "text/plain": [
       "(-0.6532522634462028 + 3.141592653589793im, QuantumNaturalfPEPS.Environment[QuantumNaturalfPEPS.Environment(MPS\n",
       "[1] ((dim=1|id=892|\"Link,l=1\"), (dim=1|id=993|\"Link,l=7\"))\n",
       "[2] ((dim=1|id=993|\"Link,l=7\"), (dim=1|id=149|\"Link,l=10\"), (dim=1|id=831|\"Link,l=3\"))\n",
       "[3] ((dim=1|id=149|\"Link,l=10\"), (dim=1|id=491|\"Link,l=5\"))\n",
       ", 0.1780507963045386), QuantumNaturalfPEPS.Environment(MPS\n",
       "[1] ((dim=1|id=126|\"Link,l=7\"), (dim=1|id=660|\"Link,l=2\"))\n",
       "[2] ((dim=1|id=312|\"Link,l=4\"), (dim=1|id=663|\"Link,l=10\"), (dim=1|id=126|\"Link,l=7\"))\n",
       "[3] ((dim=1|id=853|\"Link,l=6\"), (dim=1|id=663|\"Link,l=10\"))\n",
       ", 0.2684561101196574)], QuantumNaturalfPEPS.Environment[QuantumNaturalfPEPS.Environment(MPS\n",
       "[1] ((dim=1|id=660|\"Link,l=2\"), (dim=1|id=222|\"Link,l=9\"))\n",
       "[2] ((dim=1|id=222|\"Link,l=9\"), (dim=1|id=408|\"Link,l=12\"), (dim=1|id=312|\"Link,l=4\"))\n",
       "[3] ((dim=1|id=408|\"Link,l=12\"), (dim=1|id=853|\"Link,l=6\"))\n",
       ", -0.9217083735658602), QuantumNaturalfPEPS.Environment(MPS\n",
       "[1] ((dim=1|id=488|\"Link,l=9\"), (dim=1|id=892|\"Link,l=1\"))\n",
       "[2] ((dim=1|id=831|\"Link,l=3\"), (dim=1|id=552|\"Link,l=12\"), (dim=1|id=488|\"Link,l=9\"))\n",
       "[3] ((dim=1|id=491|\"Link,l=5\"), (dim=1|id=552|\"Link,l=12\"))\n",
       ", -0.8313030597507414)])"
      ]
     },
     "execution_count": 6,
     "metadata": {},
     "output_type": "execute_result"
    }
   ],
   "source": [
    "QuantumNaturalfPEPS.get_logψ_and_envs(peps, S, et)"
   ]
  },
  {
   "cell_type": "code",
   "execution_count": 4,
   "id": "564ea37c",
   "metadata": {},
   "outputs": [],
   "source": [
    "# Construct a Hamiltonian using OpSum()\n",
    "# example: Heisenberg\n",
    "\n",
    "Lx, Ly = size(peps)\n",
    "\n",
    "ham_heisenberg = OpSum()\n",
    "for i in 1:Lx-1\n",
    "    for j in 1:Ly-1\n",
    "        for t in [\"X\", \"Y\", \"Z\"]\n",
    "            ham_heisenberg += (-1,t,(i,j),t,(i,j+1)) #structure: (prefactor, operator, position which it acts on, operator, position)\n",
    "            ham_heisenberg += (-1,t,(i,j),t,(i+1,j))\n",
    "        end\n",
    "    end\n",
    "end"
   ]
  },
  {
   "cell_type": "code",
   "execution_count": 7,
   "id": "93aade80",
   "metadata": {},
   "outputs": [],
   "source": [
    "# Construct a Hamiltonian using OpSum()\n",
    "# easy example: only -Sz so the ground state should have energy -9 \n",
    "\n",
    "Lx, Ly = size(peps)\n",
    "\n",
    "ham = OpSum()\n",
    "for i in 1:Lx\n",
    "    for j in 1:Ly\n",
    "        ham += (-1,\"Z\",(i,j))\n",
    "    end\n",
    "end"
   ]
  },
  {
   "cell_type": "code",
   "execution_count": 8,
   "id": "086168b4",
   "metadata": {},
   "outputs": [
    {
     "data": {
      "text/plain": [
       "(::QuantumNaturalfPEPS.var\"#Oks_and_Eks_#40\"{TimerOutputs.TimerOutput, Base.Pairs{Symbol, Union{}, Tuple{}, NamedTuple{(), Tuple{}}}, PEPS, QuantumNaturalGradient.TensorOperatorSum}) (generic function with 1 method)"
      ]
     },
     "execution_count": 8,
     "metadata": {},
     "output_type": "execute_result"
    }
   ],
   "source": [
    "# this function generates the function needed for the optimization\n",
    "Oks_and_Eks = generate_Oks_and_Eks(peps, ham) "
   ]
  },
  {
   "cell_type": "code",
   "execution_count": 10,
   "id": "c48c6322",
   "metadata": {},
   "outputs": [
    {
     "data": {
      "text/plain": [
       "([-1.161011631649339 0.0 … -0.9622275658211762 0.0; 0.0 1.983306138759291 … -0.962227565821176 0.0], [-1.0, 1.0], ComplexF64[-1.292779431745029 + 0.0im, -1.8282529296777998 + 3.141592653589793im], [[0 0 1; 0 1 0; 1 1 0], [1 0 1; 0 1 0; 1 1 0]], ComplexF64[-2.8238340925560723 - 8.340890040735886e-16im, 4.823834092556071 + 8.340890040735882e-16im])"
      ]
     },
     "execution_count": 10,
     "metadata": {},
     "output_type": "execute_result"
    }
   ],
   "source": [
    "grad, E_loc, logpsi, S, pc = Oks_and_Eks(flatten(peps), 2)"
   ]
  },
  {
   "cell_type": "code",
   "execution_count": 17,
   "id": "993f05e1",
   "metadata": {},
   "outputs": [
    {
     "data": {
      "text/plain": [
       "2×18 Matrix{Float64}:\n",
       " -1.16101  0.0      0.724006  0.0  0.0  …  0.0  -0.821268  -0.962228  0.0\n",
       "  0.0      1.98331  0.724006  0.0  0.0     0.0  -0.821268  -0.962228  0.0"
      ]
     },
     "execution_count": 17,
     "metadata": {},
     "output_type": "execute_result"
    }
   ],
   "source": [
    "grad"
   ]
  },
  {
   "cell_type": "code",
   "execution_count": null,
   "id": "2049e470",
   "metadata": {},
   "outputs": [],
   "source": [
    "dt = 0.01  # Time step\n",
    "eigen_cut = 1e-5  # Eigenvalue cutoff for solver\n",
    "integrator = QuantumNaturalGradient.Euler(lr=dt)  # Define the integrator with learning rate\n",
    "solver = QuantumNaturalGradient.EigenSolver(eigen_cut, verbose=true)  # Eigenvalue solver with verbosity\n",
    "\n",
    "θ = flatten(peps)\n",
    "\n",
    "# Evolve the system\n",
    "@time loss_value, θ_opt, misc = QuantumNaturalGradient.evolve(Oks_and_Eks, θ; \n",
    "                                        integrator, \n",
    "                                        verbosity=2, \n",
    "                                        solver, \n",
    "                                        sample_nr = 9,  # Number of samples \n",
    "                                        maxiter = 10,  # Maximum iterations\n",
    "                                        );"
   ]
  },
  {
   "cell_type": "code",
   "execution_count": 15,
   "id": "9d60fb5d",
   "metadata": {},
   "outputs": [
    {
     "data": {
      "image/svg+xml": [
       "<?xml version=\"1.0\" encoding=\"utf-8\"?>\n",
       "<svg xmlns=\"http://www.w3.org/2000/svg\" xmlns:xlink=\"http://www.w3.org/1999/xlink\" width=\"600\" height=\"400\" viewBox=\"0 0 2400 1600\">\n",
       "<defs>\n",
       "  <clipPath id=\"clip040\">\n",
       "    <rect x=\"0\" y=\"0\" width=\"2400\" height=\"1600\"/>\n",
       "  </clipPath>\n",
       "</defs>\n",
       "<path clip-path=\"url(#clip040)\" d=\"M0 1600 L2400 1600 L2400 0 L0 0  Z\" fill=\"#ffffff\" fill-rule=\"evenodd\" fill-opacity=\"1\"/>\n",
       "<defs>\n",
       "  <clipPath id=\"clip041\">\n",
       "    <rect x=\"480\" y=\"0\" width=\"1681\" height=\"1600\"/>\n",
       "  </clipPath>\n",
       "</defs>\n",
       "<path clip-path=\"url(#clip040)\" d=\"M149.191 1486.45 L2352.76 1486.45 L2352.76 47.2441 L149.191 47.2441  Z\" fill=\"#ffffff\" fill-rule=\"evenodd\" fill-opacity=\"1\"/>\n",
       "<defs>\n",
       "  <clipPath id=\"clip042\">\n",
       "    <rect x=\"149\" y=\"47\" width=\"2205\" height=\"1440\"/>\n",
       "  </clipPath>\n",
       "</defs>\n",
       "<polyline clip-path=\"url(#clip042)\" style=\"stroke:#000000; stroke-linecap:round; stroke-linejoin:round; stroke-width:2; stroke-opacity:0.1; fill:none\" points=\"190.558,1486.45 190.558,47.2441 \"/>\n",
       "<polyline clip-path=\"url(#clip042)\" style=\"stroke:#000000; stroke-linecap:round; stroke-linejoin:round; stroke-width:2; stroke-opacity:0.1; fill:none\" points=\"715.516,1486.45 715.516,47.2441 \"/>\n",
       "<polyline clip-path=\"url(#clip042)\" style=\"stroke:#000000; stroke-linecap:round; stroke-linejoin:round; stroke-width:2; stroke-opacity:0.1; fill:none\" points=\"1240.47,1486.45 1240.47,47.2441 \"/>\n",
       "<polyline clip-path=\"url(#clip042)\" style=\"stroke:#000000; stroke-linecap:round; stroke-linejoin:round; stroke-width:2; stroke-opacity:0.1; fill:none\" points=\"1765.43,1486.45 1765.43,47.2441 \"/>\n",
       "<polyline clip-path=\"url(#clip042)\" style=\"stroke:#000000; stroke-linecap:round; stroke-linejoin:round; stroke-width:2; stroke-opacity:0.1; fill:none\" points=\"2290.39,1486.45 2290.39,47.2441 \"/>\n",
       "<polyline clip-path=\"url(#clip040)\" style=\"stroke:#000000; stroke-linecap:round; stroke-linejoin:round; stroke-width:4; stroke-opacity:1; fill:none\" points=\"149.191,1486.45 2352.76,1486.45 \"/>\n",
       "<polyline clip-path=\"url(#clip040)\" style=\"stroke:#000000; stroke-linecap:round; stroke-linejoin:round; stroke-width:4; stroke-opacity:1; fill:none\" points=\"190.558,1486.45 190.558,1467.55 \"/>\n",
       "<polyline clip-path=\"url(#clip040)\" style=\"stroke:#000000; stroke-linecap:round; stroke-linejoin:round; stroke-width:4; stroke-opacity:1; fill:none\" points=\"715.516,1486.45 715.516,1467.55 \"/>\n",
       "<polyline clip-path=\"url(#clip040)\" style=\"stroke:#000000; stroke-linecap:round; stroke-linejoin:round; stroke-width:4; stroke-opacity:1; fill:none\" points=\"1240.47,1486.45 1240.47,1467.55 \"/>\n",
       "<polyline clip-path=\"url(#clip040)\" style=\"stroke:#000000; stroke-linecap:round; stroke-linejoin:round; stroke-width:4; stroke-opacity:1; fill:none\" points=\"1765.43,1486.45 1765.43,1467.55 \"/>\n",
       "<polyline clip-path=\"url(#clip040)\" style=\"stroke:#000000; stroke-linecap:round; stroke-linejoin:round; stroke-width:4; stroke-opacity:1; fill:none\" points=\"2290.39,1486.45 2290.39,1467.55 \"/>\n",
       "<path clip-path=\"url(#clip040)\" d=\"M190.558 1517.37 Q186.946 1517.37 185.118 1520.93 Q183.312 1524.47 183.312 1531.6 Q183.312 1538.71 185.118 1542.27 Q186.946 1545.82 190.558 1545.82 Q194.192 1545.82 195.997 1542.27 Q197.826 1538.71 197.826 1531.6 Q197.826 1524.47 195.997 1520.93 Q194.192 1517.37 190.558 1517.37 M190.558 1513.66 Q196.368 1513.66 199.423 1518.27 Q202.502 1522.85 202.502 1531.6 Q202.502 1540.33 199.423 1544.94 Q196.368 1549.52 190.558 1549.52 Q184.747 1549.52 181.669 1544.94 Q178.613 1540.33 178.613 1531.6 Q178.613 1522.85 181.669 1518.27 Q184.747 1513.66 190.558 1513.66 Z\" fill=\"#000000\" fill-rule=\"nonzero\" fill-opacity=\"1\" /><path clip-path=\"url(#clip040)\" d=\"M694.787 1544.91 L711.106 1544.91 L711.106 1548.85 L689.162 1548.85 L689.162 1544.91 Q691.824 1542.16 696.407 1537.53 Q701.014 1532.88 702.194 1531.53 Q704.44 1529.01 705.319 1527.27 Q706.222 1525.51 706.222 1523.82 Q706.222 1521.07 704.278 1519.33 Q702.356 1517.6 699.254 1517.6 Q697.055 1517.6 694.602 1518.36 Q692.171 1519.13 689.393 1520.68 L689.393 1515.95 Q692.217 1514.82 694.671 1514.24 Q697.125 1513.66 699.162 1513.66 Q704.532 1513.66 707.727 1516.35 Q710.921 1519.03 710.921 1523.52 Q710.921 1525.65 710.111 1527.57 Q709.324 1529.47 707.217 1532.07 Q706.639 1532.74 703.537 1535.95 Q700.435 1539.15 694.787 1544.91 Z\" fill=\"#000000\" fill-rule=\"nonzero\" fill-opacity=\"1\" /><path clip-path=\"url(#clip040)\" d=\"M720.967 1514.29 L739.324 1514.29 L739.324 1518.22 L725.25 1518.22 L725.25 1526.7 Q726.268 1526.35 727.287 1526.19 Q728.305 1526 729.324 1526 Q735.111 1526 738.49 1529.17 Q741.87 1532.34 741.87 1537.76 Q741.87 1543.34 738.398 1546.44 Q734.926 1549.52 728.606 1549.52 Q726.43 1549.52 724.162 1549.15 Q721.916 1548.78 719.509 1548.04 L719.509 1543.34 Q721.592 1544.47 723.814 1545.03 Q726.037 1545.58 728.514 1545.58 Q732.518 1545.58 734.856 1543.48 Q737.194 1541.37 737.194 1537.76 Q737.194 1534.15 734.856 1532.04 Q732.518 1529.94 728.514 1529.94 Q726.639 1529.94 724.764 1530.35 Q722.912 1530.77 720.967 1531.65 L720.967 1514.29 Z\" fill=\"#000000\" fill-rule=\"nonzero\" fill-opacity=\"1\" /><path clip-path=\"url(#clip040)\" d=\"M1215.17 1514.29 L1233.53 1514.29 L1233.53 1518.22 L1219.46 1518.22 L1219.46 1526.7 Q1220.47 1526.35 1221.49 1526.19 Q1222.51 1526 1223.53 1526 Q1229.32 1526 1232.7 1529.17 Q1236.08 1532.34 1236.08 1537.76 Q1236.08 1543.34 1232.6 1546.44 Q1229.13 1549.52 1222.81 1549.52 Q1220.64 1549.52 1218.37 1549.15 Q1216.12 1548.78 1213.72 1548.04 L1213.72 1543.34 Q1215.8 1544.47 1218.02 1545.03 Q1220.24 1545.58 1222.72 1545.58 Q1226.72 1545.58 1229.06 1543.48 Q1231.4 1541.37 1231.4 1537.76 Q1231.4 1534.15 1229.06 1532.04 Q1226.72 1529.94 1222.72 1529.94 Q1220.84 1529.94 1218.97 1530.35 Q1217.12 1530.77 1215.17 1531.65 L1215.17 1514.29 Z\" fill=\"#000000\" fill-rule=\"nonzero\" fill-opacity=\"1\" /><path clip-path=\"url(#clip040)\" d=\"M1255.29 1517.37 Q1251.68 1517.37 1249.85 1520.93 Q1248.04 1524.47 1248.04 1531.6 Q1248.04 1538.71 1249.85 1542.27 Q1251.68 1545.82 1255.29 1545.82 Q1258.92 1545.82 1260.73 1542.27 Q1262.56 1538.71 1262.56 1531.6 Q1262.56 1524.47 1260.73 1520.93 Q1258.92 1517.37 1255.29 1517.37 M1255.29 1513.66 Q1261.1 1513.66 1264.15 1518.27 Q1267.23 1522.85 1267.23 1531.6 Q1267.23 1540.33 1264.15 1544.94 Q1261.1 1549.52 1255.29 1549.52 Q1249.48 1549.52 1246.4 1544.94 Q1243.34 1540.33 1243.34 1531.6 Q1243.34 1522.85 1246.4 1518.27 Q1249.48 1513.66 1255.29 1513.66 Z\" fill=\"#000000\" fill-rule=\"nonzero\" fill-opacity=\"1\" /><path clip-path=\"url(#clip040)\" d=\"M1739.29 1514.29 L1761.51 1514.29 L1761.51 1516.28 L1748.96 1548.85 L1744.08 1548.85 L1755.88 1518.22 L1739.29 1518.22 L1739.29 1514.29 Z\" fill=\"#000000\" fill-rule=\"nonzero\" fill-opacity=\"1\" /><path clip-path=\"url(#clip040)\" d=\"M1770.68 1514.29 L1789.03 1514.29 L1789.03 1518.22 L1774.96 1518.22 L1774.96 1526.7 Q1775.98 1526.35 1776.99 1526.19 Q1778.01 1526 1779.03 1526 Q1784.82 1526 1788.2 1529.17 Q1791.58 1532.34 1791.58 1537.76 Q1791.58 1543.34 1788.11 1546.44 Q1784.63 1549.52 1778.31 1549.52 Q1776.14 1549.52 1773.87 1549.15 Q1771.62 1548.78 1769.22 1548.04 L1769.22 1543.34 Q1771.3 1544.47 1773.52 1545.03 Q1775.74 1545.58 1778.22 1545.58 Q1782.23 1545.58 1784.56 1543.48 Q1786.9 1541.37 1786.9 1537.76 Q1786.9 1534.15 1784.56 1532.04 Q1782.23 1529.94 1778.22 1529.94 Q1776.35 1529.94 1774.47 1530.35 Q1772.62 1530.77 1770.68 1531.65 L1770.68 1514.29 Z\" fill=\"#000000\" fill-rule=\"nonzero\" fill-opacity=\"1\" /><path clip-path=\"url(#clip040)\" d=\"M2250 1544.91 L2257.64 1544.91 L2257.64 1518.55 L2249.33 1520.21 L2249.33 1515.95 L2257.59 1514.29 L2262.27 1514.29 L2262.27 1544.91 L2269.9 1544.91 L2269.9 1548.85 L2250 1548.85 L2250 1544.91 Z\" fill=\"#000000\" fill-rule=\"nonzero\" fill-opacity=\"1\" /><path clip-path=\"url(#clip040)\" d=\"M2289.35 1517.37 Q2285.74 1517.37 2283.91 1520.93 Q2282.1 1524.47 2282.1 1531.6 Q2282.1 1538.71 2283.91 1542.27 Q2285.74 1545.82 2289.35 1545.82 Q2292.98 1545.82 2294.79 1542.27 Q2296.62 1538.71 2296.62 1531.6 Q2296.62 1524.47 2294.79 1520.93 Q2292.98 1517.37 2289.35 1517.37 M2289.35 1513.66 Q2295.16 1513.66 2298.21 1518.27 Q2301.29 1522.85 2301.29 1531.6 Q2301.29 1540.33 2298.21 1544.94 Q2295.16 1549.52 2289.35 1549.52 Q2283.54 1549.52 2280.46 1544.94 Q2277.4 1540.33 2277.4 1531.6 Q2277.4 1522.85 2280.46 1518.27 Q2283.54 1513.66 2289.35 1513.66 Z\" fill=\"#000000\" fill-rule=\"nonzero\" fill-opacity=\"1\" /><path clip-path=\"url(#clip040)\" d=\"M2319.51 1517.37 Q2315.9 1517.37 2314.07 1520.93 Q2312.27 1524.47 2312.27 1531.6 Q2312.27 1538.71 2314.07 1542.27 Q2315.9 1545.82 2319.51 1545.82 Q2323.15 1545.82 2324.95 1542.27 Q2326.78 1538.71 2326.78 1531.6 Q2326.78 1524.47 2324.95 1520.93 Q2323.15 1517.37 2319.51 1517.37 M2319.51 1513.66 Q2325.32 1513.66 2328.38 1518.27 Q2331.46 1522.85 2331.46 1531.6 Q2331.46 1540.33 2328.38 1544.94 Q2325.32 1549.52 2319.51 1549.52 Q2313.7 1549.52 2310.62 1544.94 Q2307.57 1540.33 2307.57 1531.6 Q2307.57 1522.85 2310.62 1518.27 Q2313.7 1513.66 2319.51 1513.66 Z\" fill=\"#000000\" fill-rule=\"nonzero\" fill-opacity=\"1\" /><polyline clip-path=\"url(#clip042)\" style=\"stroke:#000000; stroke-linecap:round; stroke-linejoin:round; stroke-width:2; stroke-opacity:0.1; fill:none\" points=\"149.191,1276 2352.76,1276 \"/>\n",
       "<polyline clip-path=\"url(#clip042)\" style=\"stroke:#000000; stroke-linecap:round; stroke-linejoin:round; stroke-width:2; stroke-opacity:0.1; fill:none\" points=\"149.191,1057.79 2352.76,1057.79 \"/>\n",
       "<polyline clip-path=\"url(#clip042)\" style=\"stroke:#000000; stroke-linecap:round; stroke-linejoin:round; stroke-width:2; stroke-opacity:0.1; fill:none\" points=\"149.191,839.582 2352.76,839.582 \"/>\n",
       "<polyline clip-path=\"url(#clip042)\" style=\"stroke:#000000; stroke-linecap:round; stroke-linejoin:round; stroke-width:2; stroke-opacity:0.1; fill:none\" points=\"149.191,621.374 2352.76,621.374 \"/>\n",
       "<polyline clip-path=\"url(#clip042)\" style=\"stroke:#000000; stroke-linecap:round; stroke-linejoin:round; stroke-width:2; stroke-opacity:0.1; fill:none\" points=\"149.191,403.166 2352.76,403.166 \"/>\n",
       "<polyline clip-path=\"url(#clip042)\" style=\"stroke:#000000; stroke-linecap:round; stroke-linejoin:round; stroke-width:2; stroke-opacity:0.1; fill:none\" points=\"149.191,184.958 2352.76,184.958 \"/>\n",
       "<polyline clip-path=\"url(#clip040)\" style=\"stroke:#000000; stroke-linecap:round; stroke-linejoin:round; stroke-width:4; stroke-opacity:1; fill:none\" points=\"149.191,1486.45 149.191,47.2441 \"/>\n",
       "<polyline clip-path=\"url(#clip040)\" style=\"stroke:#000000; stroke-linecap:round; stroke-linejoin:round; stroke-width:4; stroke-opacity:1; fill:none\" points=\"149.191,1276 168.089,1276 \"/>\n",
       "<polyline clip-path=\"url(#clip040)\" style=\"stroke:#000000; stroke-linecap:round; stroke-linejoin:round; stroke-width:4; stroke-opacity:1; fill:none\" points=\"149.191,1057.79 168.089,1057.79 \"/>\n",
       "<polyline clip-path=\"url(#clip040)\" style=\"stroke:#000000; stroke-linecap:round; stroke-linejoin:round; stroke-width:4; stroke-opacity:1; fill:none\" points=\"149.191,839.582 168.089,839.582 \"/>\n",
       "<polyline clip-path=\"url(#clip040)\" style=\"stroke:#000000; stroke-linecap:round; stroke-linejoin:round; stroke-width:4; stroke-opacity:1; fill:none\" points=\"149.191,621.374 168.089,621.374 \"/>\n",
       "<polyline clip-path=\"url(#clip040)\" style=\"stroke:#000000; stroke-linecap:round; stroke-linejoin:round; stroke-width:4; stroke-opacity:1; fill:none\" points=\"149.191,403.166 168.089,403.166 \"/>\n",
       "<polyline clip-path=\"url(#clip040)\" style=\"stroke:#000000; stroke-linecap:round; stroke-linejoin:round; stroke-width:4; stroke-opacity:1; fill:none\" points=\"149.191,184.958 168.089,184.958 \"/>\n",
       "<path clip-path=\"url(#clip040)\" d=\"M51.5708 1276.45 L81.2466 1276.45 L81.2466 1280.38 L51.5708 1280.38 L51.5708 1276.45 Z\" fill=\"#000000\" fill-rule=\"nonzero\" fill-opacity=\"1\" /><path clip-path=\"url(#clip040)\" d=\"M101.339 1276.87 Q98.0058 1276.87 96.0845 1278.65 Q94.1863 1280.43 94.1863 1283.56 Q94.1863 1286.68 96.0845 1288.46 Q98.0058 1290.25 101.339 1290.25 Q104.672 1290.25 106.594 1288.46 Q108.515 1286.66 108.515 1283.56 Q108.515 1280.43 106.594 1278.65 Q104.696 1276.87 101.339 1276.87 M96.6632 1274.88 Q93.6539 1274.13 91.9641 1272.07 Q90.2975 1270.01 90.2975 1267.05 Q90.2975 1262.91 93.2373 1260.5 Q96.2002 1258.09 101.339 1258.09 Q106.501 1258.09 109.441 1260.5 Q112.381 1262.91 112.381 1267.05 Q112.381 1270.01 110.691 1272.07 Q109.024 1274.13 106.038 1274.88 Q109.418 1275.66 111.293 1277.95 Q113.191 1280.25 113.191 1283.56 Q113.191 1288.58 110.112 1291.26 Q107.057 1293.95 101.339 1293.95 Q95.6215 1293.95 92.5428 1291.26 Q89.4873 1288.58 89.4873 1283.56 Q89.4873 1280.25 91.3854 1277.95 Q93.2836 1275.66 96.6632 1274.88 M94.9502 1267.49 Q94.9502 1270.18 96.6169 1271.68 Q98.3067 1273.19 101.339 1273.19 Q104.348 1273.19 106.038 1271.68 Q107.751 1270.18 107.751 1267.49 Q107.751 1264.81 106.038 1263.3 Q104.348 1261.8 101.339 1261.8 Q98.3067 1261.8 96.6169 1263.3 Q94.9502 1264.81 94.9502 1267.49 Z\" fill=\"#000000\" fill-rule=\"nonzero\" fill-opacity=\"1\" /><path clip-path=\"url(#clip040)\" d=\"M52.381 1058.24 L82.0568 1058.24 L82.0568 1062.18 L52.381 1062.18 L52.381 1058.24 Z\" fill=\"#000000\" fill-rule=\"nonzero\" fill-opacity=\"1\" /><path clip-path=\"url(#clip040)\" d=\"M90.9688 1040.51 L113.191 1040.51 L113.191 1042.5 L100.645 1075.07 L95.7604 1075.07 L107.566 1044.45 L90.9688 1044.45 L90.9688 1040.51 Z\" fill=\"#000000\" fill-rule=\"nonzero\" fill-opacity=\"1\" /><path clip-path=\"url(#clip040)\" d=\"M51.3162 840.033 L80.992 840.033 L80.992 843.969 L51.3162 843.969 L51.3162 840.033 Z\" fill=\"#000000\" fill-rule=\"nonzero\" fill-opacity=\"1\" /><path clip-path=\"url(#clip040)\" d=\"M101.663 837.719 Q98.515 837.719 96.6632 839.871 Q94.8345 842.024 94.8345 845.774 Q94.8345 849.501 96.6632 851.677 Q98.515 853.83 101.663 853.83 Q104.811 853.83 106.64 851.677 Q108.492 849.501 108.492 845.774 Q108.492 842.024 106.64 839.871 Q104.811 837.719 101.663 837.719 M110.946 823.066 L110.946 827.325 Q109.186 826.492 107.381 826.052 Q105.598 825.612 103.839 825.612 Q99.2095 825.612 96.7558 828.737 Q94.3252 831.862 93.978 838.182 Q95.3437 836.168 97.4039 835.103 Q99.4641 834.015 101.941 834.015 Q107.149 834.015 110.158 837.186 Q113.191 840.334 113.191 845.774 Q113.191 851.098 110.043 854.316 Q106.895 857.533 101.663 857.533 Q95.6678 857.533 92.4965 852.95 Q89.3253 848.344 89.3253 839.617 Q89.3253 831.422 93.2141 826.561 Q97.103 821.677 103.654 821.677 Q105.413 821.677 107.196 822.024 Q109.001 822.371 110.946 823.066 Z\" fill=\"#000000\" fill-rule=\"nonzero\" fill-opacity=\"1\" /><path clip-path=\"url(#clip040)\" d=\"M52.4736 621.825 L82.1494 621.825 L82.1494 625.76 L52.4736 625.76 L52.4736 621.825 Z\" fill=\"#000000\" fill-rule=\"nonzero\" fill-opacity=\"1\" /><path clip-path=\"url(#clip040)\" d=\"M92.2882 604.094 L110.645 604.094 L110.645 608.029 L96.5706 608.029 L96.5706 616.501 Q97.5891 616.154 98.6076 615.992 Q99.6261 615.807 100.645 615.807 Q106.432 615.807 109.811 618.978 Q113.191 622.149 113.191 627.566 Q113.191 633.145 109.719 636.247 Q106.246 639.325 99.927 639.325 Q97.7511 639.325 95.4826 638.955 Q93.2373 638.584 90.8299 637.844 L90.8299 633.145 Q92.9132 634.279 95.1354 634.834 Q97.3576 635.39 99.8345 635.39 Q103.839 635.39 106.177 633.284 Q108.515 631.177 108.515 627.566 Q108.515 623.955 106.177 621.848 Q103.839 619.742 99.8345 619.742 Q97.9595 619.742 96.0845 620.159 Q94.2326 620.575 92.2882 621.455 L92.2882 604.094 Z\" fill=\"#000000\" fill-rule=\"nonzero\" fill-opacity=\"1\" /><path clip-path=\"url(#clip040)\" d=\"M50.9921 403.617 L80.6679 403.617 L80.6679 407.552 L50.9921 407.552 L50.9921 403.617 Z\" fill=\"#000000\" fill-rule=\"nonzero\" fill-opacity=\"1\" /><path clip-path=\"url(#clip040)\" d=\"M103.608 389.96 L91.8021 408.409 L103.608 408.409 L103.608 389.96 M102.381 385.886 L108.26 385.886 L108.26 408.409 L113.191 408.409 L113.191 412.298 L108.26 412.298 L108.26 420.446 L103.608 420.446 L103.608 412.298 L88.0058 412.298 L88.0058 407.784 L102.381 385.886 Z\" fill=\"#000000\" fill-rule=\"nonzero\" fill-opacity=\"1\" /><path clip-path=\"url(#clip040)\" d=\"M52.1264 185.409 L81.8021 185.409 L81.8021 189.344 L52.1264 189.344 L52.1264 185.409 Z\" fill=\"#000000\" fill-rule=\"nonzero\" fill-opacity=\"1\" /><path clip-path=\"url(#clip040)\" d=\"M106.061 183.604 Q109.418 184.321 111.293 186.59 Q113.191 188.858 113.191 192.191 Q113.191 197.307 109.672 200.108 Q106.154 202.909 99.6724 202.909 Q97.4965 202.909 95.1817 202.469 Q92.89 202.052 90.4364 201.196 L90.4364 196.682 Q92.3808 197.816 94.6956 198.395 Q97.0104 198.974 99.5335 198.974 Q103.932 198.974 106.223 197.238 Q108.538 195.502 108.538 192.191 Q108.538 189.136 106.385 187.423 Q104.256 185.687 100.436 185.687 L96.4085 185.687 L96.4085 181.844 L100.621 181.844 Q104.071 181.844 105.899 180.479 Q107.728 179.09 107.728 176.497 Q107.728 173.835 105.83 172.423 Q103.955 170.988 100.436 170.988 Q98.515 170.988 96.316 171.404 Q94.1169 171.821 91.478 172.701 L91.478 168.534 Q94.14 167.793 96.4548 167.423 Q98.7928 167.053 100.853 167.053 Q106.177 167.053 109.279 169.483 Q112.381 171.891 112.381 176.011 Q112.381 178.881 110.737 180.872 Q109.094 182.84 106.061 183.604 Z\" fill=\"#000000\" fill-rule=\"nonzero\" fill-opacity=\"1\" /><polyline clip-path=\"url(#clip042)\" style=\"stroke:#009af9; stroke-linecap:round; stroke-linejoin:round; stroke-width:4; stroke-opacity:1; fill:none\" points=\"211.556,281.939 232.554,378.92 253.553,572.883 274.551,330.43 295.549,184.958 316.548,475.902 337.546,378.92 358.544,233.448 379.543,475.902 400.541,281.939 421.539,572.883 442.538,330.43 463.536,330.43 484.534,718.355 505.533,669.865 526.531,330.43 547.529,87.9763 568.528,427.411 589.526,427.411 610.524,718.355 631.523,475.902 652.521,475.902 673.519,621.374 694.518,718.355 715.516,766.846 736.514,766.846 757.513,718.355 778.511,766.846 799.509,669.865 820.508,815.337 841.506,718.355 862.504,427.411 883.503,718.355 904.501,912.318 925.499,863.827 946.498,766.846 967.496,912.318 988.494,960.809 1009.49,815.337 1030.49,815.337 1051.49,960.809 1072.49,863.827 1093.49,912.318 1114.48,718.355 1135.48,863.827 1156.48,863.827 1177.48,1106.28 1198.48,863.827 1219.48,718.355 1240.47,960.809 1261.47,1106.28 1282.47,1009.3 1303.47,960.809 1324.47,912.318 1345.47,1057.79 1366.46,1154.77 1387.46,1251.75 1408.46,1106.28 1429.46,1057.79 1450.46,815.337 1471.46,960.809 1492.45,1154.77 1513.45,1009.3 1534.45,1106.28 1555.45,1154.77 1576.45,1154.77 1597.45,1154.77 1618.44,1106.28 1639.44,1106.28 1660.44,1251.75 1681.44,1348.73 1702.44,960.809 1723.44,1154.77 1744.43,1300.24 1765.43,1251.75 1786.43,1397.22 1807.43,1009.3 1828.43,1057.79 1849.43,1203.26 1870.42,1251.75 1891.42,960.809 1912.42,1203.26 1933.42,1106.28 1954.42,960.809 1975.42,1154.77 1996.41,1203.26 2017.41,1300.24 2038.41,1057.79 2059.41,1251.75 2080.41,1300.24 2101.41,1203.26 2122.4,1203.26 2143.4,1251.75 2164.4,1348.73 2185.4,1300.24 2206.4,1203.26 2227.4,1300.24 2248.39,1154.77 2269.39,1445.72 2290.39,1300.24 \"/>\n",
       "<path clip-path=\"url(#clip040)\" d=\"M2006.52 198.898 L2279.3 198.898 L2279.3 95.2176 L2006.52 95.2176  Z\" fill=\"#ffffff\" fill-rule=\"evenodd\" fill-opacity=\"1\"/>\n",
       "<polyline clip-path=\"url(#clip040)\" style=\"stroke:#000000; stroke-linecap:round; stroke-linejoin:round; stroke-width:4; stroke-opacity:1; fill:none\" points=\"2006.52,198.898 2279.3,198.898 2279.3,95.2176 2006.52,95.2176 2006.52,198.898 \"/>\n",
       "<polyline clip-path=\"url(#clip040)\" style=\"stroke:#009af9; stroke-linecap:round; stroke-linejoin:round; stroke-width:4; stroke-opacity:1; fill:none\" points=\"2031,147.058 2177.91,147.058 \"/>\n",
       "<path clip-path=\"url(#clip040)\" d=\"M2216.23 166.745 Q2214.43 171.375 2212.71 172.787 Q2211 174.199 2208.13 174.199 L2204.73 174.199 L2204.73 170.634 L2207.23 170.634 Q2208.99 170.634 2209.96 169.8 Q2210.93 168.967 2212.11 165.865 L2212.88 163.921 L2202.39 138.412 L2206.9 138.412 L2215.01 158.689 L2223.11 138.412 L2227.62 138.412 L2216.23 166.745 Z\" fill=\"#000000\" fill-rule=\"nonzero\" fill-opacity=\"1\" /><path clip-path=\"url(#clip040)\" d=\"M2234.91 160.402 L2242.55 160.402 L2242.55 134.037 L2234.24 135.703 L2234.24 131.444 L2242.5 129.778 L2247.18 129.778 L2247.18 160.402 L2254.82 160.402 L2254.82 164.338 L2234.91 164.338 L2234.91 160.402 Z\" fill=\"#000000\" fill-rule=\"nonzero\" fill-opacity=\"1\" /></svg>\n"
      ]
     },
     "execution_count": 15,
     "metadata": {},
     "output_type": "execute_result"
    }
   ],
   "source": [
    "plot(misc[\"history\"][:, 1])"
   ]
  },
  {
   "cell_type": "code",
   "execution_count": null,
   "id": "67a783d4",
   "metadata": {},
   "outputs": [],
   "source": []
  }
 ],
 "metadata": {
  "@webio": {
   "lastCommId": null,
   "lastKernelId": null
  },
  "kernelspec": {
   "display_name": "Julia 1.8.2",
   "language": "julia",
   "name": "julia-1.8"
  },
  "language_info": {
   "file_extension": ".jl",
   "mimetype": "application/julia",
   "name": "julia",
   "version": "1.8.2"
  }
 },
 "nbformat": 4,
 "nbformat_minor": 5
}
