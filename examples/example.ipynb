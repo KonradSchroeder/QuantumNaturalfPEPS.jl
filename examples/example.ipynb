{
 "cells": [
  {
   "cell_type": "code",
   "execution_count": 1,
   "id": "bb92e57a",
   "metadata": {},
   "outputs": [
    {
     "name": "stderr",
     "output_type": "stream",
     "text": [
      "\u001b[36m\u001b[1m[ \u001b[22m\u001b[39m\u001b[36m\u001b[1mInfo: \u001b[22m\u001b[39mPrecompiling QuantumNaturalfPEPS [8cccb88f-824b-4ada-bd77-4bd123faaa4e]\n",
      "WARNING: Method definition (::Type{QuantumNaturalfPEPS.PEPS})(Array{ITensors.Index{Int64}, 2}) in module QuantumNaturalfPEPS at /home/konrad/Schreibtisch/Uni Koeln/FZJ/QuantumNaturalfPEPS.jl/src/PEPS.jl:71 overwritten at /home/konrad/Schreibtisch/Uni Koeln/FZJ/QuantumNaturalfPEPS.jl/src/PEPS.jl:73.\n",
      "  ** incremental compilation may be fatally broken for this module **\n",
      "\n",
      "WARNING: Method definition Type##kw(Any, Type{QuantumNaturalfPEPS.PEPS}, Array{ITensors.Index{Int64}, 2}) in module QuantumNaturalfPEPS at /home/konrad/Schreibtisch/Uni Koeln/FZJ/QuantumNaturalfPEPS.jl/src/PEPS.jl:71 overwritten at /home/konrad/Schreibtisch/Uni Koeln/FZJ/QuantumNaturalfPEPS.jl/src/PEPS.jl:73.\n",
      "  ** incremental compilation may be fatally broken for this module **\n",
      "\n"
     ]
    }
   ],
   "source": [
    "using Revise\n",
    "using Plots\n",
    "using ITensors\n",
    "using QuantumNaturalGradient\n",
    "using QuantumNaturalfPEPS"
   ]
  },
  {
   "cell_type": "code",
   "execution_count": 2,
   "id": "14111d9d",
   "metadata": {},
   "outputs": [
    {
     "data": {
      "text/plain": [
       "PEPS(L=(3, 3), bond_dim=1, sample_dim=1, contract_dim=3, double_contract_dim=2)"
      ]
     },
     "execution_count": 2,
     "metadata": {},
     "output_type": "execute_result"
    }
   ],
   "source": [
    "# PEPS(Lx,Ly,phys_dim,bond_dim) generates a PEPS with dimensions Lx * Ly, physical dimension = phys_dim and bond dimension bond_dim\n",
    "L = 3\n",
    "hilbert = siteinds(\"S=1/2\", L, L) # Check why it gives errors if used with this\n",
    "peps = PEPS(Float64, hilbert; bond_dim=1) "
   ]
  },
  {
   "cell_type": "code",
   "execution_count": 3,
   "id": "e1372f11",
   "metadata": {},
   "outputs": [
    {
     "data": {
      "text/plain": [
       "2-element Vector{QuantumNaturalfPEPS.Environment}:\n",
       " QuantumNaturalfPEPS.Environment(MPS\n",
       "[1] ((dim=1|id=786|\"Link,l=9\"), (dim=1|id=710|\"-1\"))\n",
       "[2] ((dim=1|id=162|\"-1\"), (dim=1|id=845|\"Link,l=12\"), (dim=1|id=786|\"Link,l=9\"))\n",
       "[3] ((dim=1|id=491|\"-1\"), (dim=1|id=845|\"Link,l=12\"))\n",
       ", 3.243769404316753)\n",
       " QuantumNaturalfPEPS.Environment(MPS\n",
       "[1] ((dim=1|id=216|\"Link,l=9\"), (dim=1|id=837|\"-1\"))\n",
       "[2] ((dim=1|id=947|\"Link,l=12\"), (dim=1|id=216|\"Link,l=9\"), (dim=1|id=563|\"-1\"))\n",
       "[3] ((dim=1|id=947|\"Link,l=12\"), (dim=1|id=5|\"-1\"))\n",
       ", 4.401627961906437)"
      ]
     },
     "execution_count": 3,
     "metadata": {},
     "output_type": "execute_result"
    }
   ],
   "source": [
    "QuantumNaturalfPEPS.update_double_layer_envs!(peps)"
   ]
  },
  {
   "cell_type": "code",
   "execution_count": 4,
   "id": "a88f80db",
   "metadata": {},
   "outputs": [
    {
     "data": {
      "text/plain": [
       "([1 1 1; 1 0 0; 0 1 1], -2.3540423323489867, QuantumNaturalfPEPS.Environment[QuantumNaturalfPEPS.Environment(MPS\n",
       "[1] ((dim=1|id=777|\"Link,l=1\"), (dim=1|id=586|\"Link,l=7\"))\n",
       "[2] ((dim=1|id=586|\"Link,l=7\"), (dim=1|id=48|\"Link,l=10\"), (dim=1|id=66|\"Link,l=3\"))\n",
       "[3] ((dim=1|id=48|\"Link,l=10\"), (dim=1|id=730|\"Link,l=5\"))\n",
       ", -0.231164019137011), QuantumNaturalfPEPS.Environment(MPS\n",
       "[1] ((dim=1|id=780|\"Link,l=7\"), (dim=1|id=401|\"Link,l=2\"))\n",
       "[2] ((dim=1|id=650|\"Link,l=4\"), (dim=1|id=881|\"Link,l=10\"), (dim=1|id=780|\"Link,l=7\"))\n",
       "[3] ((dim=1|id=282|\"Link,l=6\"), (dim=1|id=881|\"Link,l=10\"))\n",
       ", -1.6088068091282988)])"
      ]
     },
     "execution_count": 4,
     "metadata": {},
     "output_type": "execute_result"
    }
   ],
   "source": [
    "S, pc, et = QuantumNaturalfPEPS.get_sample(peps)"
   ]
  },
  {
   "cell_type": "code",
   "execution_count": 5,
   "id": "4e611e9b",
   "metadata": {},
   "outputs": [
    {
     "data": {
      "text/plain": [
       "(0.49933864974848596 + 3.141592653589793im, QuantumNaturalfPEPS.Environment[QuantumNaturalfPEPS.Environment(MPS\n",
       "[1] ((dim=1|id=777|\"Link,l=1\"), (dim=1|id=586|\"Link,l=7\"))\n",
       "[2] ((dim=1|id=586|\"Link,l=7\"), (dim=1|id=48|\"Link,l=10\"), (dim=1|id=66|\"Link,l=3\"))\n",
       "[3] ((dim=1|id=48|\"Link,l=10\"), (dim=1|id=730|\"Link,l=5\"))\n",
       ", -0.2311640191370109), QuantumNaturalfPEPS.Environment(MPS\n",
       "[1] ((dim=1|id=205|\"Link,l=7\"), (dim=1|id=401|\"Link,l=2\"))\n",
       "[2] ((dim=1|id=650|\"Link,l=4\"), (dim=1|id=700|\"Link,l=10\"), (dim=1|id=205|\"Link,l=7\"))\n",
       "[3] ((dim=1|id=282|\"Link,l=6\"), (dim=1|id=700|\"Link,l=10\"))\n",
       ", -1.6088068091282985)], QuantumNaturalfPEPS.Environment[QuantumNaturalfPEPS.Environment(MPS\n",
       "[1] ((dim=1|id=401|\"Link,l=2\"), (dim=1|id=896|\"Link,l=9\"))\n",
       "[2] ((dim=1|id=896|\"Link,l=9\"), (dim=1|id=121|\"Link,l=12\"), (dim=1|id=650|\"Link,l=4\"))\n",
       "[3] ((dim=1|id=121|\"Link,l=12\"), (dim=1|id=282|\"Link,l=6\"))\n",
       ", 2.1081454588767845), QuantumNaturalfPEPS.Environment(MPS\n",
       "[1] ((dim=1|id=246|\"Link,l=9\"), (dim=1|id=777|\"Link,l=1\"))\n",
       "[2] ((dim=1|id=66|\"Link,l=3\"), (dim=1|id=840|\"Link,l=12\"), (dim=1|id=246|\"Link,l=9\"))\n",
       "[3] ((dim=1|id=730|\"Link,l=5\"), (dim=1|id=840|\"Link,l=12\"))\n",
       ", 0.7305026688854968)])"
      ]
     },
     "execution_count": 5,
     "metadata": {},
     "output_type": "execute_result"
    }
   ],
   "source": [
    "QuantumNaturalfPEPS.get_logψ_and_envs(peps, S, et)"
   ]
  },
  {
   "cell_type": "code",
   "execution_count": 49,
   "id": "564ea37c",
   "metadata": {},
   "outputs": [],
   "source": [
    "# Construct a Hamiltonian using OpSum()\n",
    "# example: Heisenberg\n",
    "\n",
    "Lx, Ly = size(peps)\n",
    "\n",
    "ham_heisenberg = OpSum()\n",
    "for i in 1:Lx-1\n",
    "    for j in 1:Ly-1\n",
    "        for t in [\"X\", \"Y\", \"Z\"]\n",
    "            ham_heisenberg += (-1,t,(i,j),t,(i,j+1)) #structure: (prefactor, operator, position which it acts on, operator, position)\n",
    "            ham_heisenberg += (-1,t,(i,j),t,(i+1,j))\n",
    "        end\n",
    "    end\n",
    "end"
   ]
  },
  {
   "cell_type": "code",
   "execution_count": 6,
   "id": "93aade80",
   "metadata": {},
   "outputs": [],
   "source": [
    "# Construct a Hamiltonian using OpSum()\n",
    "# easy example: only -Sz so the ground state should have energy -9 \n",
    "\n",
    "Lx, Ly = size(peps)\n",
    "\n",
    "ham = OpSum()\n",
    "for i in 1:Lx\n",
    "    for j in 1:Ly\n",
    "        ham += (-1,\"Z\",(i,j))\n",
    "    end\n",
    "end"
   ]
  },
  {
   "cell_type": "code",
   "execution_count": 91,
   "id": "086168b4",
   "metadata": {},
   "outputs": [
    {
     "data": {
      "text/plain": [
       "(::QuantumNaturalfPEPS.var\"#Oks_and_Eks_#40\"{TimerOutputs.TimerOutput, Base.Pairs{Symbol, Union{}, Tuple{}, NamedTuple{(), Tuple{}}}, PEPS, QuantumNaturalGradient.TensorOperatorSum}) (generic function with 1 method)"
      ]
     },
     "execution_count": 91,
     "metadata": {},
     "output_type": "execute_result"
    }
   ],
   "source": [
    "# this function generates the function needed for the optimization\n",
    "Oks_and_Eks = generate_Oks_and_Eks(peps, ham) "
   ]
  },
  {
   "cell_type": "code",
   "execution_count": 92,
   "id": "c48c6322",
   "metadata": {},
   "outputs": [
    {
     "data": {
      "text/plain": [
       "([-1.0366035097150523 0.0 … 0.0 -0.9117740097138375; -1.036603509715052 0.0 … 1.28301811148503 0.0; … ; -1.036603509715052 0.0 … 0.0 -0.911774009713837; -1.036603509715052 0.0 … 1.2830181114850303 0.0], [1.0, -5.0, 1.0, -1.0, -3.0], ComplexF64[1.321447259531022 + 3.141592653589793im, 2.5740134321730976 + 3.141592653589793im, 1.3609307131808346 + 0.0im, 3.18080388503358 + 0.0im, 2.839225567006808 + 3.141592653589793im], [[0 1 0; 1 1 0; 1 0 1], [0 0 0; 1 1 0; 0 0 0], [1 0 1; 1 1 0; 0 0 1], [0 0 0; 1 1 0; 1 0 1], [0 0 0; 1 1 0; 1 0 0]], [0.9999999999999991, 0.9999999999999991, 1.0, 0.9999999999999991, 0.9999999999999991])"
      ]
     },
     "execution_count": 92,
     "metadata": {},
     "output_type": "execute_result"
    }
   ],
   "source": [
    "grad, E_loc, logpsi, S, pc = Oks_and_Eks(flatten(peps), 5)"
   ]
  },
  {
   "cell_type": "code",
   "execution_count": 94,
   "id": "2049e470",
   "metadata": {},
   "outputs": [
    {
     "name": "stderr",
     "output_type": "stream",
     "text": [
      "\u001b[36m\u001b[1m[ \u001b[22m\u001b[39m\u001b[36m\u001b[1mInfo: \u001b[22m\u001b[39mEigenSolver: Null space size: 4 - 44.4%  - cn: 1.5342960342794136 - max_val: 24.330334445423084\n",
      "\u001b[36m\u001b[1m[ \u001b[22m\u001b[39m\u001b[36m\u001b[1mInfo: \u001b[22m\u001b[39miter 1: EnergySummary(E = -2.78 ± 0.52, var(E) = 2.4 ± 1.6, Nₛ=9), ‖∇f‖ = 2.672776596913183, ‖θ‖ = 5.662710581132659, tdvp_error = -1.1102230246251565e-15\n",
      "\u001b[36m\u001b[1m[ \u001b[22m\u001b[39m\u001b[36m\u001b[1mInfo: \u001b[22m\u001b[39mEigenSolver: Null space size: 2 - 22.2%  - cn: 1.438097478186851 - max_val: 59.33568220618858\n",
      "\u001b[36m\u001b[1m[ \u001b[22m\u001b[39m\u001b[36m\u001b[1mInfo: \u001b[22m\u001b[39miter 2: EnergySummary(E = -0.78 ± 0.97, var(E) = 8.4 ± 2.3, Nₛ=9), ‖∇f‖ = 2.9248736376312174, ‖θ‖ = 5.662773657771029, tdvp_error = 0.0\n",
      "\u001b[36m\u001b[1m[ \u001b[22m\u001b[39m\u001b[36m\u001b[1mInfo: \u001b[22m\u001b[39mEigenSolver: Null space size: 3 - 33.3%  - cn: 1.5205992763759886 - max_val: 26.43403579951432\n",
      "\u001b[36m\u001b[1m[ \u001b[22m\u001b[39m\u001b[36m\u001b[1mInfo: \u001b[22m\u001b[39miter 3: EnergySummary(E = -1.67 ± 0.47, var(E) = 2.0 ± 0.7, Nₛ=9), ‖∇f‖ = 2.3776765012986543, ‖θ‖ = 5.662849193447155, tdvp_error = -1.3322676295501878e-15\n",
      "\u001b[36m\u001b[1m[ \u001b[22m\u001b[39m\u001b[36m\u001b[1mInfo: \u001b[22m\u001b[39mEigenSolver: Null space size: 5 - 55.6%  - cn: 2.137981253729727 - max_val: 40.88408077325186\n",
      "\u001b[36m\u001b[1m[ \u001b[22m\u001b[39m\u001b[36m\u001b[1mInfo: \u001b[22m\u001b[39miter 4: EnergySummary(E = -1.22 ± 0.52, var(E) = 2.4 ± 1.6, Nₛ=9), ‖∇f‖ = 2.5019692761867005, ‖θ‖ = 5.662899109314908, tdvp_error = -2.220446049250313e-15\n",
      "\u001b[36m\u001b[1m[ \u001b[22m\u001b[39m\u001b[36m\u001b[1mInfo: \u001b[22m\u001b[39mEigenSolver: Null space size: 4 - 44.4%  - cn: 1.831188731035458 - max_val: 26.45932457107596\n",
      "\u001b[36m\u001b[1m[ \u001b[22m\u001b[39m\u001b[36m\u001b[1mInfo: \u001b[22m\u001b[39miter 5: EnergySummary(E = -1.44 ± 0.73, var(E) = 4.8 ± 3.4, Nₛ=9), ‖∇f‖ = 2.7069524626252677, ‖θ‖ = 5.662954379765519, tdvp_error = 1.887379141862766e-15\n",
      "\u001b[36m\u001b[1m[ \u001b[22m\u001b[39m\u001b[36m\u001b[1mInfo: \u001b[22m\u001b[39mEigenSolver: Null space size: 3 - 33.3%  - cn: 1.3557426808592112 - max_val: 50.68160107476687\n",
      "\u001b[36m\u001b[1m[ \u001b[22m\u001b[39m\u001b[36m\u001b[1mInfo: \u001b[22m\u001b[39miter 6: EnergySummary(E = -2.11 ± 0.48, var(E) = 2.11 ± 0.81, Nₛ=9), ‖∇f‖ = 2.9537377276384436, ‖θ‖ = 5.663019077000268, tdvp_error = 0.0\n",
      "\u001b[36m\u001b[1m[ \u001b[22m\u001b[39m\u001b[36m\u001b[1mInfo: \u001b[22m\u001b[39mEigenSolver: Null space size: 5 - 55.6%  - cn: 1.4826585448570693 - max_val: 52.27360856941056\n",
      "\u001b[36m\u001b[1m[ \u001b[22m\u001b[39m\u001b[36m\u001b[1mInfo: \u001b[22m\u001b[39miter 7: EnergySummary(E = -0.78 ± 0.7, var(E) = 4.4 ± 1.5, Nₛ=9), ‖∇f‖ = 2.1777780889735716, ‖θ‖ = 5.663096107530343, tdvp_error = 2.9976021664879227e-15\n",
      "\u001b[36m\u001b[1m[ \u001b[22m\u001b[39m\u001b[36m\u001b[1mInfo: \u001b[22m\u001b[39mEigenSolver: Null space size: 4 - 44.4%  - cn: 1.2125122149570593 - max_val: 27.29963052224057\n",
      "\u001b[36m\u001b[1m[ \u001b[22m\u001b[39m\u001b[36m\u001b[1mInfo: \u001b[22m\u001b[39miter 8: EnergySummary(E = -2.78 ± 0.52, var(E) = 2.44 ± 0.71, Nₛ=9), ‖∇f‖ = 2.521318316351715, ‖θ‖ = 5.663137981266731, tdvp_error = 2.220446049250313e-16\n",
      "\u001b[36m\u001b[1m[ \u001b[22m\u001b[39m\u001b[36m\u001b[1mInfo: \u001b[22m\u001b[39mEigenSolver: Null space size: 6 - 66.7%  - cn: 1.3377109795504742 - max_val: 6.480189027636355\n",
      "\u001b[36m\u001b[1m[ \u001b[22m\u001b[39m\u001b[36m\u001b[1mInfo: \u001b[22m\u001b[39miter 9: EnergySummary(E = -2.78 ± 0.22, var(E) = 0.44 ± 0.35, Nₛ=9), ‖∇f‖ = 2.5947381443138426, ‖θ‖ = 5.6631941075219245, tdvp_error = -3.1086244689504383e-15\n",
      "\u001b[36m\u001b[1m[ \u001b[22m\u001b[39m\u001b[36m\u001b[1mInfo: \u001b[22m\u001b[39mEigenSolver: Null space size: 5 - 55.6%  - cn: 1.3218392610395289 - max_val: 27.59147139207821\n",
      "\u001b[36m\u001b[1m[ \u001b[22m\u001b[39m\u001b[36m\u001b[1mInfo: \u001b[22m\u001b[39miter 10: EnergySummary(E = -2.78 ± 0.52, var(E) = 2.44 ± 0.71, Nₛ=9), ‖∇f‖ = 2.631426898860629, ‖θ‖ = 5.663253549513284, tdvp_error = -8.881784197001252e-16\n",
      "\u001b[36m\u001b[1m[ \u001b[22m\u001b[39m\u001b[36m\u001b[1mInfo: \u001b[22m\u001b[39mevolve: Done\n"
     ]
    },
    {
     "name": "stdout",
     "output_type": "stream",
     "text": [
      "\u001b[0m\u001b[1m ──────────────────────────────────────────────────────────────────────────────\u001b[22m\n",
      "\u001b[0m\u001b[1m                             \u001b[22m         Time                    Allocations      \n",
      "                             ───────────────────────   ────────────────────────\n",
      "      Tot / % measured:           27.5s /  78.0%           1.10GiB /  91.5%    \n",
      "\n",
      " Section             ncalls     time    %tot     avg     alloc    %tot      avg\n",
      " ──────────────────────────────────────────────────────────────────────────────\n",
      " integrator              10    21.5s  100.0%   2.15s   1.01GiB  100.0%   103MiB\n",
      "   NaturalGradient       10    20.8s   97.0%   2.08s   0.99GiB   98.8%   102MiB\n",
      "     solver              10    7.87s   36.7%   787ms    221MiB   21.5%  22.1MiB\n",
      "     Oks_and_Eks         10    4.03s   18.8%   403ms    502MiB   48.7%  50.2MiB\n",
      "     copy Oks            10    2.12s    9.9%   212ms   35.4MiB    3.4%  3.54MiB\n",
      "\u001b[0m\u001b[1m ──────────────────────────────────────────────────────────────────────────────\u001b[22m 27.556400 seconds (13.30 M allocations: 1.101 GiB, 4.66% gc time, 84.75% compilation time: 3% of which was recompilation)\n"
     ]
    }
   ],
   "source": [
    "dt = 0.01  # Time step\n",
    "eigen_cut = 1e-5  # Eigenvalue cutoff for solver\n",
    "integrator = QuantumNaturalGradient.Euler(lr=dt)  # Define the integrator with learning rate\n",
    "solver = QuantumNaturalGradient.EigenSolver(eigen_cut, verbose=true)  # Eigenvalue solver with verbosity\n",
    "\n",
    "θ = flatten(peps)\n",
    "\n",
    "# Evolve the system\n",
    "@time loss_value, θ_opt, misc = QuantumNaturalGradient.evolve(Oks_and_Eks, θ; \n",
    "                                        integrator, \n",
    "                                        verbosity=2, \n",
    "                                        solver, \n",
    "                                        sample_nr = 9,  # Number of samples \n",
    "                                        maxiter = 10,  # Maximum iterations\n",
    "                                        );"
   ]
  },
  {
   "cell_type": "code",
   "execution_count": 95,
   "id": "9d60fb5d",
   "metadata": {},
   "outputs": [
    {
     "data": {
      "image/svg+xml": [
       "<?xml version=\"1.0\" encoding=\"utf-8\"?>\n",
       "<svg xmlns=\"http://www.w3.org/2000/svg\" xmlns:xlink=\"http://www.w3.org/1999/xlink\" width=\"600\" height=\"400\" viewBox=\"0 0 2400 1600\">\n",
       "<defs>\n",
       "  <clipPath id=\"clip590\">\n",
       "    <rect x=\"0\" y=\"0\" width=\"2400\" height=\"1600\"/>\n",
       "  </clipPath>\n",
       "</defs>\n",
       "<path clip-path=\"url(#clip590)\" d=\"M0 1600 L2400 1600 L2400 0 L0 0  Z\" fill=\"#ffffff\" fill-rule=\"evenodd\" fill-opacity=\"1\"/>\n",
       "<defs>\n",
       "  <clipPath id=\"clip591\">\n",
       "    <rect x=\"480\" y=\"0\" width=\"1681\" height=\"1600\"/>\n",
       "  </clipPath>\n",
       "</defs>\n",
       "<path clip-path=\"url(#clip590)\" d=\"M193.936 1486.45 L2352.76 1486.45 L2352.76 47.2441 L193.936 47.2441  Z\" fill=\"#ffffff\" fill-rule=\"evenodd\" fill-opacity=\"1\"/>\n",
       "<defs>\n",
       "  <clipPath id=\"clip592\">\n",
       "    <rect x=\"193\" y=\"47\" width=\"2160\" height=\"1440\"/>\n",
       "  </clipPath>\n",
       "</defs>\n",
       "<polyline clip-path=\"url(#clip592)\" style=\"stroke:#000000; stroke-linecap:round; stroke-linejoin:round; stroke-width:2; stroke-opacity:0.1; fill:none\" points=\"481.326,1486.45 481.326,47.2441 \"/>\n",
       "<polyline clip-path=\"url(#clip592)\" style=\"stroke:#000000; stroke-linecap:round; stroke-linejoin:round; stroke-width:2; stroke-opacity:0.1; fill:none\" points=\"933.909,1486.45 933.909,47.2441 \"/>\n",
       "<polyline clip-path=\"url(#clip592)\" style=\"stroke:#000000; stroke-linecap:round; stroke-linejoin:round; stroke-width:2; stroke-opacity:0.1; fill:none\" points=\"1386.49,1486.45 1386.49,47.2441 \"/>\n",
       "<polyline clip-path=\"url(#clip592)\" style=\"stroke:#000000; stroke-linecap:round; stroke-linejoin:round; stroke-width:2; stroke-opacity:0.1; fill:none\" points=\"1839.07,1486.45 1839.07,47.2441 \"/>\n",
       "<polyline clip-path=\"url(#clip592)\" style=\"stroke:#000000; stroke-linecap:round; stroke-linejoin:round; stroke-width:2; stroke-opacity:0.1; fill:none\" points=\"2291.66,1486.45 2291.66,47.2441 \"/>\n",
       "<polyline clip-path=\"url(#clip590)\" style=\"stroke:#000000; stroke-linecap:round; stroke-linejoin:round; stroke-width:4; stroke-opacity:1; fill:none\" points=\"193.936,1486.45 2352.76,1486.45 \"/>\n",
       "<polyline clip-path=\"url(#clip590)\" style=\"stroke:#000000; stroke-linecap:round; stroke-linejoin:round; stroke-width:4; stroke-opacity:1; fill:none\" points=\"481.326,1486.45 481.326,1467.55 \"/>\n",
       "<polyline clip-path=\"url(#clip590)\" style=\"stroke:#000000; stroke-linecap:round; stroke-linejoin:round; stroke-width:4; stroke-opacity:1; fill:none\" points=\"933.909,1486.45 933.909,1467.55 \"/>\n",
       "<polyline clip-path=\"url(#clip590)\" style=\"stroke:#000000; stroke-linecap:round; stroke-linejoin:round; stroke-width:4; stroke-opacity:1; fill:none\" points=\"1386.49,1486.45 1386.49,1467.55 \"/>\n",
       "<polyline clip-path=\"url(#clip590)\" style=\"stroke:#000000; stroke-linecap:round; stroke-linejoin:round; stroke-width:4; stroke-opacity:1; fill:none\" points=\"1839.07,1486.45 1839.07,1467.55 \"/>\n",
       "<polyline clip-path=\"url(#clip590)\" style=\"stroke:#000000; stroke-linecap:round; stroke-linejoin:round; stroke-width:4; stroke-opacity:1; fill:none\" points=\"2291.66,1486.45 2291.66,1467.55 \"/>\n",
       "<path clip-path=\"url(#clip590)\" d=\"M475.979 1544.91 L492.298 1544.91 L492.298 1548.85 L470.354 1548.85 L470.354 1544.91 Q473.016 1542.16 477.599 1537.53 Q482.206 1532.88 483.386 1531.53 Q485.632 1529.01 486.511 1527.27 Q487.414 1525.51 487.414 1523.82 Q487.414 1521.07 485.47 1519.33 Q483.548 1517.6 480.446 1517.6 Q478.247 1517.6 475.794 1518.36 Q473.363 1519.13 470.585 1520.68 L470.585 1515.95 Q473.409 1514.82 475.863 1514.24 Q478.317 1513.66 480.354 1513.66 Q485.724 1513.66 488.919 1516.35 Q492.113 1519.03 492.113 1523.52 Q492.113 1525.65 491.303 1527.57 Q490.516 1529.47 488.409 1532.07 Q487.831 1532.74 484.729 1535.95 Q481.627 1539.15 475.979 1544.91 Z\" fill=\"#000000\" fill-rule=\"nonzero\" fill-opacity=\"1\" /><path clip-path=\"url(#clip590)\" d=\"M936.918 1518.36 L925.113 1536.81 L936.918 1536.81 L936.918 1518.36 M935.691 1514.29 L941.571 1514.29 L941.571 1536.81 L946.501 1536.81 L946.501 1540.7 L941.571 1540.7 L941.571 1548.85 L936.918 1548.85 L936.918 1540.7 L921.316 1540.7 L921.316 1536.19 L935.691 1514.29 Z\" fill=\"#000000\" fill-rule=\"nonzero\" fill-opacity=\"1\" /><path clip-path=\"url(#clip590)\" d=\"M1386.9 1529.7 Q1383.75 1529.7 1381.9 1531.86 Q1380.07 1534.01 1380.07 1537.76 Q1380.07 1541.49 1381.9 1543.66 Q1383.75 1545.82 1386.9 1545.82 Q1390.04 1545.82 1391.87 1543.66 Q1393.73 1541.49 1393.73 1537.76 Q1393.73 1534.01 1391.87 1531.86 Q1390.04 1529.7 1386.9 1529.7 M1396.18 1515.05 L1396.18 1519.31 Q1394.42 1518.48 1392.61 1518.04 Q1390.83 1517.6 1389.07 1517.6 Q1384.44 1517.6 1381.99 1520.72 Q1379.56 1523.85 1379.21 1530.17 Q1380.58 1528.15 1382.64 1527.09 Q1384.7 1526 1387.17 1526 Q1392.38 1526 1395.39 1529.17 Q1398.42 1532.32 1398.42 1537.76 Q1398.42 1543.08 1395.28 1546.3 Q1392.13 1549.52 1386.9 1549.52 Q1380.9 1549.52 1377.73 1544.94 Q1374.56 1540.33 1374.56 1531.6 Q1374.56 1523.41 1378.45 1518.55 Q1382.34 1513.66 1388.89 1513.66 Q1390.65 1513.66 1392.43 1514.01 Q1394.23 1514.36 1396.18 1515.05 Z\" fill=\"#000000\" fill-rule=\"nonzero\" fill-opacity=\"1\" /><path clip-path=\"url(#clip590)\" d=\"M1839.07 1532.44 Q1835.74 1532.44 1833.82 1534.22 Q1831.92 1536 1831.92 1539.13 Q1831.92 1542.25 1833.82 1544.03 Q1835.74 1545.82 1839.07 1545.82 Q1842.41 1545.82 1844.33 1544.03 Q1846.25 1542.23 1846.25 1539.13 Q1846.25 1536 1844.33 1534.22 Q1842.43 1532.44 1839.07 1532.44 M1834.4 1530.45 Q1831.39 1529.7 1829.7 1527.64 Q1828.03 1525.58 1828.03 1522.62 Q1828.03 1518.48 1830.97 1516.07 Q1833.94 1513.66 1839.07 1513.66 Q1844.24 1513.66 1847.18 1516.07 Q1850.12 1518.48 1850.12 1522.62 Q1850.12 1525.58 1848.43 1527.64 Q1846.76 1529.7 1843.77 1530.45 Q1847.15 1531.23 1849.03 1533.52 Q1850.93 1535.82 1850.93 1539.13 Q1850.93 1544.15 1847.85 1546.83 Q1844.79 1549.52 1839.07 1549.52 Q1833.36 1549.52 1830.28 1546.83 Q1827.22 1544.15 1827.22 1539.13 Q1827.22 1535.82 1829.12 1533.52 Q1831.02 1531.23 1834.4 1530.45 M1832.69 1523.06 Q1832.69 1525.75 1834.35 1527.25 Q1836.04 1528.76 1839.07 1528.76 Q1842.08 1528.76 1843.77 1527.25 Q1845.49 1525.75 1845.49 1523.06 Q1845.49 1520.38 1843.77 1518.87 Q1842.08 1517.37 1839.07 1517.37 Q1836.04 1517.37 1834.35 1518.87 Q1832.69 1520.38 1832.69 1523.06 Z\" fill=\"#000000\" fill-rule=\"nonzero\" fill-opacity=\"1\" /><path clip-path=\"url(#clip590)\" d=\"M2266.34 1544.91 L2273.98 1544.91 L2273.98 1518.55 L2265.67 1520.21 L2265.67 1515.95 L2273.94 1514.29 L2278.61 1514.29 L2278.61 1544.91 L2286.25 1544.91 L2286.25 1548.85 L2266.34 1548.85 L2266.34 1544.91 Z\" fill=\"#000000\" fill-rule=\"nonzero\" fill-opacity=\"1\" /><path clip-path=\"url(#clip590)\" d=\"M2305.7 1517.37 Q2302.09 1517.37 2300.26 1520.93 Q2298.45 1524.47 2298.45 1531.6 Q2298.45 1538.71 2300.26 1542.27 Q2302.09 1545.82 2305.7 1545.82 Q2309.33 1545.82 2311.14 1542.27 Q2312.96 1538.71 2312.96 1531.6 Q2312.96 1524.47 2311.14 1520.93 Q2309.33 1517.37 2305.7 1517.37 M2305.7 1513.66 Q2311.51 1513.66 2314.56 1518.27 Q2317.64 1522.85 2317.64 1531.6 Q2317.64 1540.33 2314.56 1544.94 Q2311.51 1549.52 2305.7 1549.52 Q2299.89 1549.52 2296.81 1544.94 Q2293.75 1540.33 2293.75 1531.6 Q2293.75 1522.85 2296.81 1518.27 Q2299.89 1513.66 2305.7 1513.66 Z\" fill=\"#000000\" fill-rule=\"nonzero\" fill-opacity=\"1\" /><polyline clip-path=\"url(#clip592)\" style=\"stroke:#000000; stroke-linecap:round; stroke-linejoin:round; stroke-width:2; stroke-opacity:0.1; fill:none\" points=\"193.936,1257.14 2352.76,1257.14 \"/>\n",
       "<polyline clip-path=\"url(#clip592)\" style=\"stroke:#000000; stroke-linecap:round; stroke-linejoin:round; stroke-width:2; stroke-opacity:0.1; fill:none\" points=\"193.936,917.706 2352.76,917.706 \"/>\n",
       "<polyline clip-path=\"url(#clip592)\" style=\"stroke:#000000; stroke-linecap:round; stroke-linejoin:round; stroke-width:2; stroke-opacity:0.1; fill:none\" points=\"193.936,578.271 2352.76,578.271 \"/>\n",
       "<polyline clip-path=\"url(#clip592)\" style=\"stroke:#000000; stroke-linecap:round; stroke-linejoin:round; stroke-width:2; stroke-opacity:0.1; fill:none\" points=\"193.936,238.836 2352.76,238.836 \"/>\n",
       "<polyline clip-path=\"url(#clip590)\" style=\"stroke:#000000; stroke-linecap:round; stroke-linejoin:round; stroke-width:4; stroke-opacity:1; fill:none\" points=\"193.936,1486.45 193.936,47.2441 \"/>\n",
       "<polyline clip-path=\"url(#clip590)\" style=\"stroke:#000000; stroke-linecap:round; stroke-linejoin:round; stroke-width:4; stroke-opacity:1; fill:none\" points=\"193.936,1257.14 212.834,1257.14 \"/>\n",
       "<polyline clip-path=\"url(#clip590)\" style=\"stroke:#000000; stroke-linecap:round; stroke-linejoin:round; stroke-width:4; stroke-opacity:1; fill:none\" points=\"193.936,917.706 212.834,917.706 \"/>\n",
       "<polyline clip-path=\"url(#clip590)\" style=\"stroke:#000000; stroke-linecap:round; stroke-linejoin:round; stroke-width:4; stroke-opacity:1; fill:none\" points=\"193.936,578.271 212.834,578.271 \"/>\n",
       "<polyline clip-path=\"url(#clip590)\" style=\"stroke:#000000; stroke-linecap:round; stroke-linejoin:round; stroke-width:4; stroke-opacity:1; fill:none\" points=\"193.936,238.836 212.834,238.836 \"/>\n",
       "<path clip-path=\"url(#clip590)\" d=\"M51.9875 1257.59 L81.6633 1257.59 L81.6633 1261.53 L51.9875 1261.53 L51.9875 1257.59 Z\" fill=\"#000000\" fill-rule=\"nonzero\" fill-opacity=\"1\" /><path clip-path=\"url(#clip590)\" d=\"M95.7836 1270.49 L112.103 1270.49 L112.103 1274.42 L90.1586 1274.42 L90.1586 1270.49 Q92.8206 1267.73 97.4039 1263.1 Q102.01 1258.45 103.191 1257.11 Q105.436 1254.58 106.316 1252.85 Q107.219 1251.09 107.219 1249.4 Q107.219 1246.64 105.274 1244.91 Q103.353 1243.17 100.251 1243.17 Q98.0521 1243.17 95.5984 1243.93 Q93.1678 1244.7 90.3901 1246.25 L90.3901 1241.53 Q93.2141 1240.39 95.6678 1239.81 Q98.1215 1239.24 100.159 1239.24 Q105.529 1239.24 108.723 1241.92 Q111.918 1244.61 111.918 1249.1 Q111.918 1251.23 111.108 1253.15 Q110.321 1255.05 108.214 1257.64 Q107.635 1258.31 104.534 1261.53 Q101.432 1264.72 95.7836 1270.49 Z\" fill=\"#000000\" fill-rule=\"nonzero\" fill-opacity=\"1\" /><path clip-path=\"url(#clip590)\" d=\"M121.918 1268.54 L126.802 1268.54 L126.802 1274.42 L121.918 1274.42 L121.918 1268.54 Z\" fill=\"#000000\" fill-rule=\"nonzero\" fill-opacity=\"1\" /><path clip-path=\"url(#clip590)\" d=\"M137.033 1239.86 L155.39 1239.86 L155.39 1243.8 L141.316 1243.8 L141.316 1252.27 Q142.334 1251.92 143.353 1251.76 Q144.371 1251.57 145.39 1251.57 Q151.177 1251.57 154.556 1254.74 Q157.936 1257.92 157.936 1263.33 Q157.936 1268.91 154.464 1272.01 Q150.992 1275.09 144.672 1275.09 Q142.496 1275.09 140.228 1274.72 Q137.982 1274.35 135.575 1273.61 L135.575 1268.91 Q137.658 1270.05 139.881 1270.6 Q142.103 1271.16 144.58 1271.16 Q148.584 1271.16 150.922 1269.05 Q153.26 1266.94 153.26 1263.33 Q153.26 1259.72 150.922 1257.62 Q148.584 1255.51 144.58 1255.51 Q142.705 1255.51 140.83 1255.93 Q138.978 1256.34 137.033 1257.22 L137.033 1239.86 Z\" fill=\"#000000\" fill-rule=\"nonzero\" fill-opacity=\"1\" /><path clip-path=\"url(#clip590)\" d=\"M50.9921 918.157 L80.6679 918.157 L80.6679 922.092 L50.9921 922.092 L50.9921 918.157 Z\" fill=\"#000000\" fill-rule=\"nonzero\" fill-opacity=\"1\" /><path clip-path=\"url(#clip590)\" d=\"M94.7882 931.051 L111.108 931.051 L111.108 934.986 L89.1632 934.986 L89.1632 931.051 Q91.8252 928.296 96.4085 923.667 Q101.015 919.014 102.196 917.671 Q104.441 915.148 105.321 913.412 Q106.223 911.653 106.223 909.963 Q106.223 907.208 104.279 905.472 Q102.358 903.736 99.2558 903.736 Q97.0567 903.736 94.603 904.5 Q92.1725 905.264 89.3947 906.815 L89.3947 902.093 Q92.2188 900.958 94.6724 900.38 Q97.1261 899.801 99.1632 899.801 Q104.534 899.801 107.728 902.486 Q110.922 905.171 110.922 909.662 Q110.922 911.792 110.112 913.713 Q109.325 915.611 107.219 918.204 Q106.64 918.875 103.538 922.092 Q100.436 925.287 94.7882 931.051 Z\" fill=\"#000000\" fill-rule=\"nonzero\" fill-opacity=\"1\" /><path clip-path=\"url(#clip590)\" d=\"M120.922 929.106 L125.807 929.106 L125.807 934.986 L120.922 934.986 L120.922 929.106 Z\" fill=\"#000000\" fill-rule=\"nonzero\" fill-opacity=\"1\" /><path clip-path=\"url(#clip590)\" d=\"M145.992 903.505 Q142.381 903.505 140.552 907.069 Q138.746 910.611 138.746 917.741 Q138.746 924.847 140.552 928.412 Q142.381 931.954 145.992 931.954 Q149.626 931.954 151.431 928.412 Q153.26 924.847 153.26 917.741 Q153.26 910.611 151.431 907.069 Q149.626 903.505 145.992 903.505 M145.992 899.801 Q151.802 899.801 154.857 904.407 Q157.936 908.991 157.936 917.741 Q157.936 926.467 154.857 931.074 Q151.802 935.657 145.992 935.657 Q140.181 935.657 137.103 931.074 Q134.047 926.467 134.047 917.741 Q134.047 908.991 137.103 904.407 Q140.181 899.801 145.992 899.801 Z\" fill=\"#000000\" fill-rule=\"nonzero\" fill-opacity=\"1\" /><path clip-path=\"url(#clip590)\" d=\"M51.9875 578.722 L81.6633 578.722 L81.6633 582.658 L51.9875 582.658 L51.9875 578.722 Z\" fill=\"#000000\" fill-rule=\"nonzero\" fill-opacity=\"1\" /><path clip-path=\"url(#clip590)\" d=\"M92.566 591.616 L100.205 591.616 L100.205 565.25 L91.8947 566.917 L91.8947 562.658 L100.159 560.991 L104.834 560.991 L104.834 591.616 L112.473 591.616 L112.473 595.551 L92.566 595.551 L92.566 591.616 Z\" fill=\"#000000\" fill-rule=\"nonzero\" fill-opacity=\"1\" /><path clip-path=\"url(#clip590)\" d=\"M121.918 589.671 L126.802 589.671 L126.802 595.551 L121.918 595.551 L121.918 589.671 Z\" fill=\"#000000\" fill-rule=\"nonzero\" fill-opacity=\"1\" /><path clip-path=\"url(#clip590)\" d=\"M137.033 560.991 L155.39 560.991 L155.39 564.926 L141.316 564.926 L141.316 573.398 Q142.334 573.051 143.353 572.889 Q144.371 572.704 145.39 572.704 Q151.177 572.704 154.556 575.875 Q157.936 579.047 157.936 584.463 Q157.936 590.042 154.464 593.144 Q150.992 596.222 144.672 596.222 Q142.496 596.222 140.228 595.852 Q137.982 595.482 135.575 594.741 L135.575 590.042 Q137.658 591.176 139.881 591.732 Q142.103 592.287 144.58 592.287 Q148.584 592.287 150.922 590.181 Q153.26 588.074 153.26 584.463 Q153.26 580.852 150.922 578.746 Q148.584 576.639 144.58 576.639 Q142.705 576.639 140.83 577.056 Q138.978 577.472 137.033 578.352 L137.033 560.991 Z\" fill=\"#000000\" fill-rule=\"nonzero\" fill-opacity=\"1\" /><path clip-path=\"url(#clip590)\" d=\"M50.9921 239.288 L80.6679 239.288 L80.6679 243.223 L50.9921 243.223 L50.9921 239.288 Z\" fill=\"#000000\" fill-rule=\"nonzero\" fill-opacity=\"1\" /><path clip-path=\"url(#clip590)\" d=\"M91.5706 252.181 L99.2095 252.181 L99.2095 225.815 L90.8993 227.482 L90.8993 223.223 L99.1632 221.556 L103.839 221.556 L103.839 252.181 L111.478 252.181 L111.478 256.116 L91.5706 256.116 L91.5706 252.181 Z\" fill=\"#000000\" fill-rule=\"nonzero\" fill-opacity=\"1\" /><path clip-path=\"url(#clip590)\" d=\"M120.922 250.237 L125.807 250.237 L125.807 256.116 L120.922 256.116 L120.922 250.237 Z\" fill=\"#000000\" fill-rule=\"nonzero\" fill-opacity=\"1\" /><path clip-path=\"url(#clip590)\" d=\"M145.992 224.635 Q142.381 224.635 140.552 228.2 Q138.746 231.741 138.746 238.871 Q138.746 245.977 140.552 249.542 Q142.381 253.084 145.992 253.084 Q149.626 253.084 151.431 249.542 Q153.26 245.977 153.26 238.871 Q153.26 231.741 151.431 228.2 Q149.626 224.635 145.992 224.635 M145.992 220.931 Q151.802 220.931 154.857 225.538 Q157.936 230.121 157.936 238.871 Q157.936 247.598 154.857 252.204 Q151.802 256.788 145.992 256.788 Q140.181 256.788 137.103 252.204 Q134.047 247.598 134.047 238.871 Q134.047 230.121 137.103 225.538 Q140.181 220.931 145.992 220.931 Z\" fill=\"#000000\" fill-rule=\"nonzero\" fill-opacity=\"1\" /><polyline clip-path=\"url(#clip592)\" style=\"stroke:#009af9; stroke-linecap:round; stroke-linejoin:round; stroke-width:4; stroke-opacity:1; fill:none\" points=\"255.035,1445.72 481.326,87.9763 707.617,691.416 933.909,389.696 1160.2,540.556 1386.49,993.136 1612.78,87.9763 1839.07,1445.72 2065.37,1445.72 2291.66,1445.72 \"/>\n",
       "<path clip-path=\"url(#clip590)\" d=\"M2012.48 198.898 L2280.8 198.898 L2280.8 95.2176 L2012.48 95.2176  Z\" fill=\"#ffffff\" fill-rule=\"evenodd\" fill-opacity=\"1\"/>\n",
       "<polyline clip-path=\"url(#clip590)\" style=\"stroke:#000000; stroke-linecap:round; stroke-linejoin:round; stroke-width:4; stroke-opacity:1; fill:none\" points=\"2012.48,198.898 2280.8,198.898 2280.8,95.2176 2012.48,95.2176 2012.48,198.898 \"/>\n",
       "<polyline clip-path=\"url(#clip590)\" style=\"stroke:#009af9; stroke-linecap:round; stroke-linejoin:round; stroke-width:4; stroke-opacity:1; fill:none\" points=\"2036.47,147.058 2180.39,147.058 \"/>\n",
       "<path clip-path=\"url(#clip590)\" d=\"M2218.22 166.745 Q2216.42 171.375 2214.7 172.787 Q2212.99 174.199 2210.12 174.199 L2206.72 174.199 L2206.72 170.634 L2209.22 170.634 Q2210.98 170.634 2211.95 169.8 Q2212.92 168.967 2214.1 165.865 L2214.86 163.921 L2204.38 138.412 L2208.89 138.412 L2216.99 158.689 L2225.1 138.412 L2229.61 138.412 L2218.22 166.745 Z\" fill=\"#000000\" fill-rule=\"nonzero\" fill-opacity=\"1\" /><path clip-path=\"url(#clip590)\" d=\"M2236.9 160.402 L2244.54 160.402 L2244.54 134.037 L2236.23 135.703 L2236.23 131.444 L2244.49 129.778 L2249.17 129.778 L2249.17 160.402 L2256.81 160.402 L2256.81 164.338 L2236.9 164.338 L2236.9 160.402 Z\" fill=\"#000000\" fill-rule=\"nonzero\" fill-opacity=\"1\" /></svg>\n"
      ]
     },
     "execution_count": 95,
     "metadata": {},
     "output_type": "execute_result"
    }
   ],
   "source": [
    "plot(misc[\"history\"][:, 1])"
   ]
  },
  {
   "cell_type": "code",
   "execution_count": null,
   "id": "67a783d4",
   "metadata": {},
   "outputs": [],
   "source": []
  }
 ],
 "metadata": {
  "@webio": {
   "lastCommId": null,
   "lastKernelId": null
  },
  "kernelspec": {
   "display_name": "Julia 1.8.2",
   "language": "julia",
   "name": "julia-1.8"
  },
  "language_info": {
   "file_extension": ".jl",
   "mimetype": "application/julia",
   "name": "julia",
   "version": "1.8.2"
  }
 },
 "nbformat": 4,
 "nbformat_minor": 5
}
