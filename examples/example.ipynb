{
 "cells": [
  {
   "cell_type": "code",
   "execution_count": 12,
   "id": "bb92e57a",
   "metadata": {},
   "outputs": [],
   "source": [
    "using Revise\n",
    "using Plots\n",
    "using ITensors\n",
    "using QuantumNaturalGradient\n",
    "using QuantumNaturalfPEPS"
   ]
  },
  {
   "cell_type": "code",
   "execution_count": 2,
   "id": "44641f4a",
   "metadata": {
    "scrolled": true
   },
   "outputs": [
    {
     "data": {
      "text/plain": [
       "PEPS(L=(3, 3), bond_dim=1, sample_dim=1, contract_dim=3, double_contract_dim=2)"
      ]
     },
     "execution_count": 2,
     "metadata": {},
     "output_type": "execute_result"
    }
   ],
   "source": [
    "# PEPS(Lx,Ly,phys_dim,bond_dim) generates a PEPS with dimensions Lx * Ly, physical dimension = phys_dim and bond dimension bond_dim\n",
    "L = 3\n",
    "hilbert = siteinds(\"S=1/2\", L, L) # Check why it gives errors if used with this\n",
    "hilbert = QuantumNaturalfPEPS.siteinds_compat(2, L, L)\n",
    "peps = PEPS(Float64, hilbert; bond_dim=1) "
   ]
  },
  {
   "cell_type": "code",
   "execution_count": 3,
   "id": "564ea37c",
   "metadata": {},
   "outputs": [],
   "source": [
    "# Construct a Hamiltonian using OpSum()\n",
    "# example: Heisenberg\n",
    "\n",
    "Lx, Ly = size(peps)\n",
    "\n",
    "ham_heisenberg = OpSum()\n",
    "for i in 1:Lx-1\n",
    "    for j in 1:Ly-1\n",
    "        for t in [\"X\", \"Y\", \"Z\"]\n",
    "            ham_heisenberg += (-1,t,(i,j),t,(i,j+1)) #structure: (prefactor, operator, position which it acts on, operator, position)\n",
    "            ham_heisenberg += (-1,t,(i,j),t,(i+1,j))\n",
    "        end\n",
    "    end\n",
    "end"
   ]
  },
  {
   "cell_type": "code",
   "execution_count": 4,
   "id": "93aade80",
   "metadata": {},
   "outputs": [],
   "source": [
    "# Construct a Hamiltonian using OpSum()\n",
    "# easy example: only -Sz so the ground state should have energy -9 \n",
    "\n",
    "Lx, Ly = size(peps)\n",
    "\n",
    "ham = OpSum()\n",
    "for i in 1:Lx\n",
    "    for j in 1:Ly\n",
    "        ham += (-1,\"Z\",(i,j))\n",
    "    end\n",
    "end"
   ]
  },
  {
   "cell_type": "code",
   "execution_count": 8,
   "id": "086168b4",
   "metadata": {},
   "outputs": [
    {
     "data": {
      "text/plain": [
       "(::QuantumNaturalfPEPS.var\"#Oks_and_Eks#33\"{Base.Pairs{Symbol, Union{}, Tuple{}, NamedTuple{(), Tuple{}}}, PEPS, QuantumNaturalGradient.TensorOperatorSum}) (generic function with 1 method)"
      ]
     },
     "execution_count": 8,
     "metadata": {},
     "output_type": "execute_result"
    }
   ],
   "source": [
    "# this function generates the function needed for the optimization\n",
    "Oks_and_Eks = generate_Oks_and_Eks(peps, ham) "
   ]
  },
  {
   "cell_type": "code",
   "execution_count": 9,
   "id": "2049e470",
   "metadata": {},
   "outputs": [
    {
     "name": "stderr",
     "output_type": "stream",
     "text": [
      "\u001b[36m\u001b[1m[ \u001b[22m\u001b[39m\u001b[36m\u001b[1mInfo: \u001b[22m\u001b[39mEigenSolver: Null space size: 3 - 33.3%  - cn: 1.4790007173260629 - max_val: 23.04713708021245\n",
      "\u001b[36m\u001b[1m[ \u001b[22m\u001b[39m\u001b[36m\u001b[1mInfo: \u001b[22m\u001b[39miter 1: EnergySummary(E = -1.0 ± 0.58, var(E) = 3.0 ± 0.67, Nₛ=9), ‖∇f‖ = 3.189215873652963, ‖θ‖ = 4.9474911104749, tdvp_error = 1.2212453270876722e-15\n",
      "\u001b[36m\u001b[1m[ \u001b[22m\u001b[39m\u001b[36m\u001b[1mInfo: \u001b[22m\u001b[39mEigenSolver: Null space size: 4 - 44.4%  - cn: 1.0594342247776087 - max_val: 13.565590968150929\n",
      "\u001b[36m\u001b[1m[ \u001b[22m\u001b[39m\u001b[36m\u001b[1mInfo: \u001b[22m\u001b[39miter 2: EnergySummary(E = -0.56 ± 0.44, var(E) = 1.78 ± 0.66, Nₛ=9), ‖∇f‖ = 2.5919395870550215, ‖θ‖ = 4.947593899868605, tdvp_error = -3.552713678800501e-15\n",
      "\u001b[36m\u001b[1m[ \u001b[22m\u001b[39m\u001b[36m\u001b[1mInfo: \u001b[22m\u001b[39mEigenSolver: Null space size: 4 - 44.4%  - cn: 1.2063462788766153 - max_val: 10.19255481700062\n",
      "\u001b[36m\u001b[1m[ \u001b[22m\u001b[39m\u001b[36m\u001b[1mInfo: \u001b[22m\u001b[39miter 3: EnergySummary(E = 0.11 ± 0.75, var(E) = 5.1 ± 1.4, Nₛ=9), ‖∇f‖ = 3.141464633868467, ‖θ‖ = 4.947661792513644, tdvp_error = -4.440892098500626e-16\n",
      "\u001b[36m\u001b[1m[ \u001b[22m\u001b[39m\u001b[36m\u001b[1mInfo: \u001b[22m\u001b[39mEigenSolver: Null space size: 3 - 33.3%  - cn: 1.4203378327150848 - max_val: 16.76388986812631\n",
      "\u001b[36m\u001b[1m[ \u001b[22m\u001b[39m\u001b[36m\u001b[1mInfo: \u001b[22m\u001b[39miter 4: EnergySummary(E = -0.33 ± 0.58, var(E) = 3.0 ± 1.3, Nₛ=9), ‖∇f‖ = 3.400720902349431, ‖θ‖ = 4.947761523467346, tdvp_error = -9.769962616701378e-15\n",
      "\u001b[36m\u001b[1m[ \u001b[22m\u001b[39m\u001b[36m\u001b[1mInfo: \u001b[22m\u001b[39mEigenSolver: Null space size: 2 - 22.2%  - cn: 1.5343005354852657 - max_val: 11.411636989471758\n",
      "\u001b[36m\u001b[1m[ \u001b[22m\u001b[39m\u001b[36m\u001b[1mInfo: \u001b[22m\u001b[39miter 5: EnergySummary(E = -2.11 ± 0.59, var(E) = 3.1 ± 1.2, Nₛ=9), ‖∇f‖ = 3.595964861985079, ‖θ‖ = 4.947878392136318, tdvp_error = -2.6645352591003757e-15\n",
      "\u001b[36m\u001b[1m[ \u001b[22m\u001b[39m\u001b[36m\u001b[1mInfo: \u001b[22m\u001b[39mEigenSolver: Null space size: 2 - 22.2%  - cn: 1.4725779626154243 - max_val: 8.367305713098574\n",
      "\u001b[36m\u001b[1m[ \u001b[22m\u001b[39m\u001b[36m\u001b[1mInfo: \u001b[22m\u001b[39miter 6: EnergySummary(E = -1.89 ± 0.68, var(E) = 4.1 ± 1.4, Nₛ=9), ‖∇f‖ = 3.594796468959259, ‖θ‖ = 4.948009062208591, tdvp_error = -2.220446049250313e-15\n",
      "\u001b[36m\u001b[1m[ \u001b[22m\u001b[39m\u001b[36m\u001b[1mInfo: \u001b[22m\u001b[39mEigenSolver: Null space size: 2 - 22.2%  - cn: 1.4853827444922394 - max_val: 15.97417568054743\n",
      "\u001b[36m\u001b[1m[ \u001b[22m\u001b[39m\u001b[36m\u001b[1mInfo: \u001b[22m\u001b[39miter 7: EnergySummary(E = -1.44 ± 0.65, var(E) = 3.8 ± 2.1, Nₛ=9), ‖∇f‖ = 3.593437848978486, ‖θ‖ = 4.948139643933229, tdvp_error = -1.5543122344752192e-15\n",
      "\u001b[36m\u001b[1m[ \u001b[22m\u001b[39m\u001b[36m\u001b[1mInfo: \u001b[22m\u001b[39mEigenSolver: Null space size: 3 - 33.3%  - cn: 1.414490487825069 - max_val: 11.592422078330753\n",
      "\u001b[36m\u001b[1m[ \u001b[22m\u001b[39m\u001b[36m\u001b[1mInfo: \u001b[22m\u001b[39miter 8: EnergySummary(E = -2.33 ± 0.75, var(E) = 5.0 ± 1.6, Nₛ=9), ‖∇f‖ = 3.1533788188329717, ‖θ‖ = 4.948270123530153, tdvp_error = 4.218847493575595e-15\n",
      "\u001b[36m\u001b[1m[ \u001b[22m\u001b[39m\u001b[36m\u001b[1mInfo: \u001b[22m\u001b[39mEigenSolver: Null space size: 3 - 33.3%  - cn: 1.1030206258135493 - max_val: 15.53360245814677\n",
      "\u001b[36m\u001b[1m[ \u001b[22m\u001b[39m\u001b[36m\u001b[1mInfo: \u001b[22m\u001b[39miter 9: EnergySummary(E = -2.33 ± 0.67, var(E) = 4.0 ± 1.3, Nₛ=9), ‖∇f‖ = 3.5900536042995244, ‖θ‖ = 4.948370600027713, tdvp_error = -1.3322676295501878e-15\n",
      "\u001b[36m\u001b[1m[ \u001b[22m\u001b[39m\u001b[36m\u001b[1mInfo: \u001b[22m\u001b[39mEigenSolver: Null space size: 4 - 44.4%  - cn: 1.1917439393383618 - max_val: 17.258909975443974\n",
      "\u001b[36m\u001b[1m[ \u001b[22m\u001b[39m\u001b[36m\u001b[1mInfo: \u001b[22m\u001b[39miter 10: EnergySummary(E = -2.11 ± 0.59, var(E) = 3.1 ± 1.2, Nₛ=9), ‖∇f‖ = 2.846188364906508, ‖θ‖ = 4.94850082789796, tdvp_error = 1.1102230246251565e-16\n",
      "\u001b[36m\u001b[1m[ \u001b[22m\u001b[39m\u001b[36m\u001b[1mInfo: \u001b[22m\u001b[39mEigenSolver: Null space size: 4 - 44.4%  - cn: 1.5674897200279643 - max_val: 13.151248910001685\n",
      "\u001b[36m\u001b[1m[ \u001b[22m\u001b[39m\u001b[36m\u001b[1mInfo: \u001b[22m\u001b[39miter 11: EnergySummary(E = -2.11 ± 0.59, var(E) = 3.1 ± 1.2, Nₛ=9), ‖∇f‖ = 2.7184934291908776, ‖θ‖ = 4.948582678154185, tdvp_error = -4.884981308350689e-15\n",
      "\u001b[36m\u001b[1m[ \u001b[22m\u001b[39m\u001b[36m\u001b[1mInfo: \u001b[22m\u001b[39mEigenSolver: Null space size: 3 - 33.3%  - cn: 1.0456631310293711 - max_val: 13.819923059459427\n",
      "\u001b[36m\u001b[1m[ \u001b[22m\u001b[39m\u001b[36m\u001b[1mInfo: \u001b[22m\u001b[39miter 12: EnergySummary(E = -0.33 ± 0.82, var(E) = 6.0 ± 2.4, Nₛ=9), ‖∇f‖ = 2.948565332858216, ‖θ‖ = 4.948657347521659, tdvp_error = -4.884981308350689e-15\n",
      "\u001b[36m\u001b[1m[ \u001b[22m\u001b[39m\u001b[36m\u001b[1mInfo: \u001b[22m\u001b[39mEigenSolver: Null space size: 3 - 33.3%  - cn: 1.200162436895446 - max_val: 10.353694050593187\n",
      "\u001b[36m\u001b[1m[ \u001b[22m\u001b[39m\u001b[36m\u001b[1mInfo: \u001b[22m\u001b[39miter 13: EnergySummary(E = -3.0 ± 0.75, var(E) = 5.0 ± 1.6, Nₛ=9), ‖∇f‖ = 2.5158772472915527, ‖θ‖ = 4.948745189129495, tdvp_error = -3.1086244689504383e-15\n",
      "\u001b[36m\u001b[1m[ \u001b[22m\u001b[39m\u001b[36m\u001b[1mInfo: \u001b[22m\u001b[39mEigenSolver: Null space size: 4 - 44.4%  - cn: 1.1982963269310147 - max_val: 11.825913885430658\n",
      "\u001b[36m\u001b[1m[ \u001b[22m\u001b[39m\u001b[36m\u001b[1mInfo: \u001b[22m\u001b[39miter 14: EnergySummary(E = -2.33 ± 0.67, var(E) = 4.0 ± 1.3, Nₛ=9), ‖∇f‖ = 3.0167724971764307, ‖θ‖ = 4.948809140668557, tdvp_error = -1.9984014443252818e-15\n",
      "\u001b[36m\u001b[1m[ \u001b[22m\u001b[39m\u001b[36m\u001b[1mInfo: \u001b[22m\u001b[39mEigenSolver: Null space size: 3 - 33.3%  - cn: 1.430255718658274 - max_val: 14.26464702228601\n",
      "\u001b[36m\u001b[1m[ \u001b[22m\u001b[39m\u001b[36m\u001b[1mInfo: \u001b[22m\u001b[39miter 15: EnergySummary(E = -3.0 ± 0.58, var(E) = 3.0 ± 0.67, Nₛ=9), ‖∇f‖ = 3.1934228538955733, ‖θ‖ = 4.9489010903830595, tdvp_error = -1.1102230246251565e-15\n",
      "\u001b[36m\u001b[1m[ \u001b[22m\u001b[39m\u001b[36m\u001b[1mInfo: \u001b[22m\u001b[39mEigenSolver: Null space size: 3 - 33.3%  - cn: 1.1183073875329284 - max_val: 10.987411415506164\n",
      "\u001b[36m\u001b[1m[ \u001b[22m\u001b[39m\u001b[36m\u001b[1mInfo: \u001b[22m\u001b[39miter 16: EnergySummary(E = -2.33 ± 0.88, var(E) = 7.0 ± 2.9, Nₛ=9), ‖∇f‖ = 3.5141631498725836, ‖θ‖ = 4.949004121775109, tdvp_error = 5.551115123125783e-16\n",
      "\u001b[36m\u001b[1m[ \u001b[22m\u001b[39m\u001b[36m\u001b[1mInfo: \u001b[22m\u001b[39mEigenSolver: Null space size: 3 - 33.3%  - cn: 1.4026098915401624 - max_val: 13.158474199684061\n",
      "\u001b[36m\u001b[1m[ \u001b[22m\u001b[39m\u001b[36m\u001b[1mInfo: \u001b[22m\u001b[39miter 17: EnergySummary(E = -2.33 ± 0.82, var(E) = 6.0 ± 3.0, Nₛ=9), ‖∇f‖ = 3.4395278368686393, ‖θ‖ = 4.94912888613859, tdvp_error = 7.771561172376096e-16\n",
      "\u001b[36m\u001b[1m[ \u001b[22m\u001b[39m\u001b[36m\u001b[1mInfo: \u001b[22m\u001b[39mEigenSolver: Null space size: 2 - 22.2%  - cn: 1.4806394760553452 - max_val: 24.273822637938668\n",
      "\u001b[36m\u001b[1m[ \u001b[22m\u001b[39m\u001b[36m\u001b[1mInfo: \u001b[22m\u001b[39miter 18: EnergySummary(E = -3.44 ± 0.73, var(E) = 4.8 ± 1.3, Nₛ=9), ‖∇f‖ = 3.523307134086068, ‖θ‖ = 4.949248404231239, tdvp_error = -3.552713678800501e-15\n",
      "\u001b[36m\u001b[1m[ \u001b[22m\u001b[39m\u001b[36m\u001b[1mInfo: \u001b[22m\u001b[39mEigenSolver: Null space size: 4 - 44.4%  - cn: 1.2616131990192787 - max_val: 10.644497153073688\n",
      "\u001b[36m\u001b[1m[ \u001b[22m\u001b[39m\u001b[36m\u001b[1mInfo: \u001b[22m\u001b[39miter 19: EnergySummary(E = -3.22 ± 0.78, var(E) = 5.4 ± 2.2, Nₛ=9), ‖∇f‖ = 2.9937416176706795, ‖θ‖ = 4.949373812524325, tdvp_error = -3.552713678800501e-15\n",
      "\u001b[36m\u001b[1m[ \u001b[22m\u001b[39m\u001b[36m\u001b[1mInfo: \u001b[22m\u001b[39mEigenSolver: Null space size: 2 - 22.2%  - cn: 1.4677234837751714 - max_val: 10.55068881289089\n",
      "\u001b[36m\u001b[1m[ \u001b[22m\u001b[39m\u001b[36m\u001b[1mInfo: \u001b[22m\u001b[39miter 20: EnergySummary(E = -2.33 ± 0.94, var(E) = 8.0 ± 3.0, Nₛ=9), ‖∇f‖ = 3.5714483808410926, ‖θ‖ = 4.949464353340562, tdvp_error = -1.1102230246251565e-15\n",
      "\u001b[36m\u001b[1m[ \u001b[22m\u001b[39m\u001b[36m\u001b[1mInfo: \u001b[22m\u001b[39mEigenSolver: Null space size: 4 - 44.4%  - cn: 1.2020899701787475 - max_val: 11.798977346840594\n",
      "\u001b[36m\u001b[1m[ \u001b[22m\u001b[39m\u001b[36m\u001b[1mInfo: \u001b[22m\u001b[39miter 21: EnergySummary(E = -2.33 ± 0.75, var(E) = 5.0 ± 1.2, Nₛ=9), ‖∇f‖ = 2.690064424486503, ‖θ‖ = 4.949593206450668, tdvp_error = 2.220446049250313e-16\n",
      "\u001b[36m\u001b[1m[ \u001b[22m\u001b[39m\u001b[36m\u001b[1mInfo: \u001b[22m\u001b[39mEigenSolver: Null space size: 3 - 33.3%  - cn: 1.1115073171485303 - max_val: 14.67142119232646\n",
      "\u001b[36m\u001b[1m[ \u001b[22m\u001b[39m\u001b[36m\u001b[1mInfo: \u001b[22m\u001b[39miter 22: EnergySummary(E = -2.78 ± 0.62, var(E) = 3.4 ± 1.6, Nₛ=9), ‖∇f‖ = 3.2285273916915425, ‖θ‖ = 4.949666307338647, tdvp_error = -6.217248937900877e-15\n",
      "\u001b[36m\u001b[1m[ \u001b[22m\u001b[39m\u001b[36m\u001b[1mInfo: \u001b[22m\u001b[39mEigenSolver: Null space size: 4 - 44.4%  - cn: 0.996059038540745 - max_val: 10.653024547179728\n",
      "\u001b[36m\u001b[1m[ \u001b[22m\u001b[39m\u001b[36m\u001b[1mInfo: \u001b[22m\u001b[39miter 23: EnergySummary(E = -2.56 ± 0.65, var(E) = 3.8 ± 1.4, Nₛ=9), ‖∇f‖ = 2.9462503984663493, ‖θ‖ = 4.949771600075633, tdvp_error = -2.886579864025407e-15\n",
      "\u001b[36m\u001b[1m[ \u001b[22m\u001b[39m\u001b[36m\u001b[1mInfo: \u001b[22m\u001b[39mEigenSolver: Null space size: 2 - 22.2%  - cn: 1.2804043999831332 - max_val: 13.623199079968353\n",
      "\u001b[36m\u001b[1m[ \u001b[22m\u001b[39m\u001b[36m\u001b[1mInfo: \u001b[22m\u001b[39miter 24: EnergySummary(E = -2.11 ± 0.89, var(E) = 7.1 ± 2.8, Nₛ=9), ‖∇f‖ = 3.559002596323018, ‖θ‖ = 4.949859284066198, tdvp_error = -9.103828801926284e-15\n"
     ]
    },
    {
     "name": "stderr",
     "output_type": "stream",
     "text": [
      "\u001b[36m\u001b[1m[ \u001b[22m\u001b[39m\u001b[36m\u001b[1mInfo: \u001b[22m\u001b[39mEigenSolver: Null space size: 5 - 55.6%  - cn: 1.1641721876824511 - max_val: 10.999064138919794\n",
      "\u001b[36m\u001b[1m[ \u001b[22m\u001b[39m\u001b[36m\u001b[1mInfo: \u001b[22m\u001b[39miter 25: EnergySummary(E = -2.11 ± 0.35, var(E) = 1.111 ± 0.078, Nₛ=9), ‖∇f‖ = 2.4357618303362996, ‖θ‖ = 4.9499872304890244, tdvp_error = -2.220446049250313e-16\n",
      "\u001b[36m\u001b[1m[ \u001b[22m\u001b[39m\u001b[36m\u001b[1mInfo: \u001b[22m\u001b[39mEigenSolver: Null space size: 3 - 33.3%  - cn: 1.0322950467806287 - max_val: 11.607671128844986\n",
      "\u001b[36m\u001b[1m[ \u001b[22m\u001b[39m\u001b[36m\u001b[1mInfo: \u001b[22m\u001b[39miter 26: EnergySummary(E = -3.44 ± 0.87, var(E) = 6.8 ± 3.2, Nₛ=9), ‖∇f‖ = 3.247612151410992, ‖θ‖ = 4.950047158924227, tdvp_error = -3.1086244689504383e-15\n",
      "\u001b[36m\u001b[1m[ \u001b[22m\u001b[39m\u001b[36m\u001b[1mInfo: \u001b[22m\u001b[39mEigenSolver: Null space size: 2 - 22.2%  - cn: 1.6163432600606158 - max_val: 27.323067304702327\n",
      "\u001b[36m\u001b[1m[ \u001b[22m\u001b[39m\u001b[36m\u001b[1mInfo: \u001b[22m\u001b[39miter 27: EnergySummary(E = -3.67 ± 0.47, var(E) = 2.0 ± 1.2, Nₛ=9), ‖∇f‖ = 3.3567166834962423, ‖θ‖ = 4.950153691961737, tdvp_error = -6.661338147750939e-16\n",
      "\u001b[36m\u001b[1m[ \u001b[22m\u001b[39m\u001b[36m\u001b[1mInfo: \u001b[22m\u001b[39mEigenSolver: Null space size: 3 - 33.3%  - cn: 1.0802257896855483 - max_val: 10.403885389871988\n",
      "\u001b[36m\u001b[1m[ \u001b[22m\u001b[39m\u001b[36m\u001b[1mInfo: \u001b[22m\u001b[39miter 28: EnergySummary(E = -4.33 ± 0.75, var(E) = 5.0 ± 1.6, Nₛ=9), ‖∇f‖ = 3.4532253644629654, ‖θ‖ = 4.950267500724757, tdvp_error = -8.881784197001252e-16\n",
      "\u001b[36m\u001b[1m[ \u001b[22m\u001b[39m\u001b[36m\u001b[1mInfo: \u001b[22m\u001b[39mEigenSolver: Null space size: 3 - 33.3%  - cn: 1.3044995709146257 - max_val: 14.55184766268005\n",
      "\u001b[36m\u001b[1m[ \u001b[22m\u001b[39m\u001b[36m\u001b[1mInfo: \u001b[22m\u001b[39miter 29: EnergySummary(E = -3.67 ± 0.58, var(E) = 3.0 ± 1.3, Nₛ=9), ‖∇f‖ = 3.5580689422491596, ‖θ‖ = 4.95038794492649, tdvp_error = -5.10702591327572e-15\n",
      "\u001b[36m\u001b[1m[ \u001b[22m\u001b[39m\u001b[36m\u001b[1mInfo: \u001b[22m\u001b[39mEigenSolver: Null space size: 4 - 44.4%  - cn: 0.7850951456299836 - max_val: 7.438215274258701\n",
      "\u001b[36m\u001b[1m[ \u001b[22m\u001b[39m\u001b[36m\u001b[1mInfo: \u001b[22m\u001b[39miter 30: EnergySummary(E = -3.67 ± 0.67, var(E) = 4.0 ± 1.3, Nₛ=9), ‖∇f‖ = 3.1876143738966665, ‖θ‖ = 4.9505158105730045, tdvp_error = 8.881784197001252e-16\n",
      "\u001b[36m\u001b[1m[ \u001b[22m\u001b[39m\u001b[36m\u001b[1mInfo: \u001b[22m\u001b[39mEigenSolver: Null space size: 3 - 33.3%  - cn: 1.2290763241214244 - max_val: 12.714138178650524\n",
      "\u001b[36m\u001b[1m[ \u001b[22m\u001b[39m\u001b[36m\u001b[1mInfo: \u001b[22m\u001b[39miter 31: EnergySummary(E = -3.0 ± 0.47, var(E) = 2.0 ± 0.7, Nₛ=9), ‖∇f‖ = 3.4449544408568675, ‖θ‖ = 4.950618434021447, tdvp_error = -3.9968028886505635e-15\n",
      "\u001b[36m\u001b[1m[ \u001b[22m\u001b[39m\u001b[36m\u001b[1mInfo: \u001b[22m\u001b[39mEigenSolver: Null space size: 2 - 22.2%  - cn: 1.5029356488085261 - max_val: 11.926924540380607\n",
      "\u001b[36m\u001b[1m[ \u001b[22m\u001b[39m\u001b[36m\u001b[1mInfo: \u001b[22m\u001b[39miter 32: EnergySummary(E = -3.44 ± 0.87, var(E) = 6.8 ± 2.1, Nₛ=9), ‖∇f‖ = 3.543924287505411, ‖θ‖ = 4.9507382934652195, tdvp_error = 1.2212453270876722e-15\n",
      "\u001b[36m\u001b[1m[ \u001b[22m\u001b[39m\u001b[36m\u001b[1mInfo: \u001b[22m\u001b[39mEigenSolver: Null space size: 3 - 33.3%  - cn: 1.4444264193032095 - max_val: 15.377848010559163\n",
      "\u001b[36m\u001b[1m[ \u001b[22m\u001b[39m\u001b[36m\u001b[1mInfo: \u001b[22m\u001b[39miter 33: EnergySummary(E = -2.78 ± 0.4, var(E) = 1.44 ± 0.64, Nₛ=9), ‖∇f‖ = 3.2724517431496665, ‖θ‖ = 4.95086513554131, tdvp_error = -4.218847493575595e-15\n",
      "\u001b[36m\u001b[1m[ \u001b[22m\u001b[39m\u001b[36m\u001b[1mInfo: \u001b[22m\u001b[39mEigenSolver: Null space size: 3 - 33.3%  - cn: 1.06105887567978 - max_val: 9.865005897045405\n",
      "\u001b[36m\u001b[1m[ \u001b[22m\u001b[39m\u001b[36m\u001b[1mInfo: \u001b[22m\u001b[39miter 34: EnergySummary(E = -2.78 ± 0.85, var(E) = 6.4 ± 2.1, Nₛ=9), ‖∇f‖ = 3.368162211257532, ‖θ‖ = 4.9509732865730145, tdvp_error = -1.7763568394002505e-15\n",
      "\u001b[36m\u001b[1m[ \u001b[22m\u001b[39m\u001b[36m\u001b[1mInfo: \u001b[22m\u001b[39mEigenSolver: Null space size: 3 - 33.3%  - cn: 1.139834982698844 - max_val: 11.984130646477324\n",
      "\u001b[36m\u001b[1m[ \u001b[22m\u001b[39m\u001b[36m\u001b[1mInfo: \u001b[22m\u001b[39miter 35: EnergySummary(E = -3.89 ± 0.59, var(E) = 3.1 ± 1.2, Nₛ=9), ‖∇f‖ = 2.9747796823796153, ‖θ‖ = 4.951087853798166, tdvp_error = -2.220446049250313e-16\n",
      "\u001b[36m\u001b[1m[ \u001b[22m\u001b[39m\u001b[36m\u001b[1mInfo: \u001b[22m\u001b[39mEigenSolver: Null space size: 4 - 44.4%  - cn: 1.150128737012862 - max_val: 12.413300875009373\n",
      "\u001b[36m\u001b[1m[ \u001b[22m\u001b[39m\u001b[36m\u001b[1mInfo: \u001b[22m\u001b[39miter 36: EnergySummary(E = -3.44 ± 0.73, var(E) = 4.8 ± 1.3, Nₛ=9), ‖∇f‖ = 2.970625484667887, ‖θ‖ = 4.951177220363214, tdvp_error = -2.220446049250313e-16\n",
      "\u001b[36m\u001b[1m[ \u001b[22m\u001b[39m\u001b[36m\u001b[1mInfo: \u001b[22m\u001b[39mEigenSolver: Null space size: 2 - 22.2%  - cn: 1.405588567210381 - max_val: 16.070428303464624\n",
      "\u001b[36m\u001b[1m[ \u001b[22m\u001b[39m\u001b[36m\u001b[1mInfo: \u001b[22m\u001b[39miter 37: EnergySummary(E = -3.44 ± 0.65, var(E) = 3.8 ± 2.1, Nₛ=9), ‖∇f‖ = 3.530757284999639, ‖θ‖ = 4.951266335900405, tdvp_error = 2.7755575615628914e-15\n",
      "\u001b[36m\u001b[1m[ \u001b[22m\u001b[39m\u001b[36m\u001b[1mInfo: \u001b[22m\u001b[39mEigenSolver: Null space size: 3 - 33.3%  - cn: 1.72296629201198 - max_val: 21.953416917880816\n",
      "\u001b[36m\u001b[1m[ \u001b[22m\u001b[39m\u001b[36m\u001b[1mInfo: \u001b[22m\u001b[39miter 38: EnergySummary(E = -2.78 ± 0.91, var(E) = 7.4 ± 3.4, Nₛ=9), ‖∇f‖ = 3.2402660770408254, ‖θ‖ = 4.951392223781223, tdvp_error = -6.661338147750939e-16\n",
      "\u001b[36m\u001b[1m[ \u001b[22m\u001b[39m\u001b[36m\u001b[1mInfo: \u001b[22m\u001b[39mEigenSolver: Null space size: 4 - 44.4%  - cn: 0.9725668135372046 - max_val: 14.02020316489834\n",
      "\u001b[36m\u001b[1m[ \u001b[22m\u001b[39m\u001b[36m\u001b[1mInfo: \u001b[22m\u001b[39miter 39: EnergySummary(E = -5.0 ± 0.67, var(E) = 4.0 ± 1.7, Nₛ=9), ‖∇f‖ = 3.1626665251129165, ‖θ‖ = 4.951498246606392, tdvp_error = -1.1102230246251565e-15\n",
      "\u001b[36m\u001b[1m[ \u001b[22m\u001b[39m\u001b[36m\u001b[1mInfo: \u001b[22m\u001b[39mEigenSolver: Null space size: 4 - 44.4%  - cn: 1.143366983442439 - max_val: 16.319415542001085\n",
      "\u001b[36m\u001b[1m[ \u001b[22m\u001b[39m\u001b[36m\u001b[1mInfo: \u001b[22m\u001b[39miter 40: EnergySummary(E = -3.22 ± 0.62, var(E) = 3.4 ± 1.9, Nₛ=9), ‖∇f‖ = 1.728826773397364, ‖θ‖ = 4.951599249949564, tdvp_error = -6.661338147750939e-16\n",
      "\u001b[36m\u001b[1m[ \u001b[22m\u001b[39m\u001b[36m\u001b[1mInfo: \u001b[22m\u001b[39mEigenSolver: Null space size: 4 - 44.4%  - cn: 1.197600343401237 - max_val: 12.196689285240272\n",
      "\u001b[36m\u001b[1m[ \u001b[22m\u001b[39m\u001b[36m\u001b[1mInfo: \u001b[22m\u001b[39miter 41: EnergySummary(E = -5.0 ± 0.88, var(E) = 7.0 ± 3.8, Nₛ=9), ‖∇f‖ = 3.298473363510247, ‖θ‖ = 4.951629430430182, tdvp_error = -3.774758283725532e-15\n",
      "\u001b[36m\u001b[1m[ \u001b[22m\u001b[39m\u001b[36m\u001b[1mInfo: \u001b[22m\u001b[39mEigenSolver: Null space size: 3 - 33.3%  - cn: 1.0326005480529883 - max_val: 10.477029030392659\n",
      "\u001b[36m\u001b[1m[ \u001b[22m\u001b[39m\u001b[36m\u001b[1mInfo: \u001b[22m\u001b[39miter 42: EnergySummary(E = -4.78 ± 0.78, var(E) = 5.4 ± 2.2, Nₛ=9), ‖∇f‖ = 3.299171483054017, ‖θ‖ = 4.95173929129506, tdvp_error = 1.1102230246251565e-16\n",
      "\u001b[36m\u001b[1m[ \u001b[22m\u001b[39m\u001b[36m\u001b[1mInfo: \u001b[22m\u001b[39mEigenSolver: Null space size: 5 - 55.6%  - cn: 0.7160260276838404 - max_val: 8.342220885481373\n",
      "\u001b[36m\u001b[1m[ \u001b[22m\u001b[39m\u001b[36m\u001b[1mInfo: \u001b[22m\u001b[39miter 43: EnergySummary(E = -4.11 ± 0.48, var(E) = 2.11 ± 0.81, Nₛ=9), ‖∇f‖ = 2.9182939740946363, ‖θ‖ = 4.951849196229905, tdvp_error = 4.440892098500626e-16\n",
      "\u001b[36m\u001b[1m[ \u001b[22m\u001b[39m\u001b[36m\u001b[1mInfo: \u001b[22m\u001b[39mEigenSolver: Null space size: 3 - 33.3%  - cn: 1.465021418052657 - max_val: 16.410742785173714\n",
      "\u001b[36m\u001b[1m[ \u001b[22m\u001b[39m\u001b[36m\u001b[1mInfo: \u001b[22m\u001b[39miter 44: EnergySummary(E = -4.11 ± 0.82, var(E) = 6.1 ± 2.6, Nₛ=9), ‖∇f‖ = 3.44167111949694, ‖θ‖ = 4.95193518800223, tdvp_error = -1.1102230246251565e-15\n",
      "\u001b[36m\u001b[1m[ \u001b[22m\u001b[39m\u001b[36m\u001b[1mInfo: \u001b[22m\u001b[39mEigenSolver: Null space size: 3 - 33.3%  - cn: 1.3514783956547014 - max_val: 15.170360997473766\n",
      "\u001b[36m\u001b[1m[ \u001b[22m\u001b[39m\u001b[36m\u001b[1mInfo: \u001b[22m\u001b[39miter 45: EnergySummary(E = -4.78 ± 0.52, var(E) = 2.44 ± 0.71, Nₛ=9), ‖∇f‖ = 3.23400688301722, ‖θ‖ = 4.9520547872761025, tdvp_error = -2.6645352591003757e-15\n",
      "\u001b[36m\u001b[1m[ \u001b[22m\u001b[39m\u001b[36m\u001b[1mInfo: \u001b[22m\u001b[39mEigenSolver: Null space size: 3 - 33.3%  - cn: 1.670270402909679 - max_val: 18.77340738319211\n",
      "\u001b[36m\u001b[1m[ \u001b[22m\u001b[39m\u001b[36m\u001b[1mInfo: \u001b[22m\u001b[39miter 46: EnergySummary(E = -4.56 ± 0.87, var(E) = 6.8 ± 3.2, Nₛ=9), ‖∇f‖ = 3.281551080664034, ‖θ‖ = 4.952160386764155, tdvp_error = -5.995204332975845e-15\n",
      "\u001b[36m\u001b[1m[ \u001b[22m\u001b[39m\u001b[36m\u001b[1mInfo: \u001b[22m\u001b[39mEigenSolver: Null space size: 5 - 55.6%  - cn: 1.142031434782243 - max_val: 10.777301477317183\n",
      "\u001b[36m\u001b[1m[ \u001b[22m\u001b[39m\u001b[36m\u001b[1mInfo: \u001b[22m\u001b[39miter 47: EnergySummary(E = -4.56 ± 0.65, var(E) = 3.8 ± 1.4, Nₛ=9), ‖∇f‖ = 2.7428179104748143, ‖θ‖ = 4.952269111628083, tdvp_error = -2.6645352591003757e-15\n",
      "\u001b[36m\u001b[1m[ \u001b[22m\u001b[39m\u001b[36m\u001b[1mInfo: \u001b[22m\u001b[39mEigenSolver: Null space size: 4 - 44.4%  - cn: 1.2528107300224833 - max_val: 18.02212774837213\n",
      "\u001b[36m\u001b[1m[ \u001b[22m\u001b[39m\u001b[36m\u001b[1mInfo: \u001b[22m\u001b[39miter 48: EnergySummary(E = -4.56 ± 0.8, var(E) = 5.8 ± 2.3, Nₛ=9), ‖∇f‖ = 3.2392763434245926, ‖θ‖ = 4.952345066632031, tdvp_error = -2.6645352591003757e-15\n"
     ]
    },
    {
     "name": "stderr",
     "output_type": "stream",
     "text": [
      "\u001b[36m\u001b[1m[ \u001b[22m\u001b[39m\u001b[36m\u001b[1mInfo: \u001b[22m\u001b[39mEigenSolver: Null space size: 4 - 44.4%  - cn: 1.3907201247614591 - max_val: 16.957068308080547\n",
      "\u001b[36m\u001b[1m[ \u001b[22m\u001b[39m\u001b[36m\u001b[1mInfo: \u001b[22m\u001b[39miter 49: EnergySummary(E = -4.78 ± 0.7, var(E) = 4.4 ± 1.8, Nₛ=9), ‖∇f‖ = 3.0835929828384847, ‖θ‖ = 4.952451004312664, tdvp_error = 9.992007221626409e-16\n",
      "\u001b[36m\u001b[1m[ \u001b[22m\u001b[39m\u001b[36m\u001b[1mInfo: \u001b[22m\u001b[39mEigenSolver: Null space size: 4 - 44.4%  - cn: 1.225985549811464 - max_val: 13.55739378271407\n",
      "\u001b[36m\u001b[1m[ \u001b[22m\u001b[39m\u001b[36m\u001b[1mInfo: \u001b[22m\u001b[39miter 50: EnergySummary(E = -4.78 ± 0.85, var(E) = 6.4 ± 2.1, Nₛ=9), ‖∇f‖ = 3.2409103757348645, ‖θ‖ = 4.952547001764435, tdvp_error = -6.661338147750939e-16\n",
      "\u001b[36m\u001b[1m[ \u001b[22m\u001b[39m\u001b[36m\u001b[1mInfo: \u001b[22m\u001b[39mEigenSolver: Null space size: 3 - 33.3%  - cn: 0.984418123020043 - max_val: 8.958501773342242\n",
      "\u001b[36m\u001b[1m[ \u001b[22m\u001b[39m\u001b[36m\u001b[1mInfo: \u001b[22m\u001b[39miter 51: EnergySummary(E = -4.11 ± 0.59, var(E) = 3.1 ± 1.2, Nₛ=9), ‖∇f‖ = 3.424149931981817, ‖θ‖ = 4.952653042026289, tdvp_error = 1.3322676295501878e-15\n",
      "\u001b[36m\u001b[1m[ \u001b[22m\u001b[39m\u001b[36m\u001b[1mInfo: \u001b[22m\u001b[39mEigenSolver: Null space size: 4 - 44.4%  - cn: 1.1387215293725725 - max_val: 14.41855703068252\n",
      "\u001b[36m\u001b[1m[ \u001b[22m\u001b[39m\u001b[36m\u001b[1mInfo: \u001b[22m\u001b[39miter 52: EnergySummary(E = -5.44 ± 0.8, var(E) = 5.8 ± 2.3, Nₛ=9), ‖∇f‖ = 3.2119824934275405, ‖θ‖ = 4.952771409520928, tdvp_error = 1.3322676295501878e-15\n",
      "\u001b[36m\u001b[1m[ \u001b[22m\u001b[39m\u001b[36m\u001b[1mInfo: \u001b[22m\u001b[39mEigenSolver: Null space size: 3 - 33.3%  - cn: 1.3276046521659366 - max_val: 16.230830861895967\n",
      "\u001b[36m\u001b[1m[ \u001b[22m\u001b[39m\u001b[36m\u001b[1mInfo: \u001b[22m\u001b[39miter 53: EnergySummary(E = -5.67 ± 0.94, var(E) = 8.0 ± 2.3, Nₛ=9), ‖∇f‖ = 3.4015344292475373, ‖θ‖ = 4.952875560532662, tdvp_error = -6.661338147750939e-16\n",
      "\u001b[36m\u001b[1m[ \u001b[22m\u001b[39m\u001b[36m\u001b[1mInfo: \u001b[22m\u001b[39mEigenSolver: Null space size: 4 - 44.4%  - cn: 1.2529424689354207 - max_val: 11.150496867318154\n",
      "\u001b[36m\u001b[1m[ \u001b[22m\u001b[39m\u001b[36m\u001b[1mInfo: \u001b[22m\u001b[39miter 54: EnergySummary(E = -5.44 ± 0.65, var(E) = 3.8 ± 1.4, Nₛ=9), ‖∇f‖ = 3.2410198413944005, ‖θ‖ = 4.952992364396402, tdvp_error = 3.774758283725532e-15\n",
      "\u001b[36m\u001b[1m[ \u001b[22m\u001b[39m\u001b[36m\u001b[1mInfo: \u001b[22m\u001b[39mEigenSolver: Null space size: 4 - 44.4%  - cn: 0.9692788411830883 - max_val: 9.52705259383393\n",
      "\u001b[36m\u001b[1m[ \u001b[22m\u001b[39m\u001b[36m\u001b[1mInfo: \u001b[22m\u001b[39miter 55: EnergySummary(E = -5.89 ± 0.75, var(E) = 5.1 ± 1.4, Nₛ=9), ‖∇f‖ = 3.214971718017804, ‖θ‖ = 4.953098402286219, tdvp_error = 1.2212453270876722e-15\n",
      "\u001b[36m\u001b[1m[ \u001b[22m\u001b[39m\u001b[36m\u001b[1mInfo: \u001b[22m\u001b[39mEigenSolver: Null space size: 4 - 44.4%  - cn: 1.3768077778194865 - max_val: 10.415104597217317\n",
      "\u001b[36m\u001b[1m[ \u001b[22m\u001b[39m\u001b[36m\u001b[1mInfo: \u001b[22m\u001b[39miter 56: EnergySummary(E = -5.67 ± 0.47, var(E) = 2.0 ± 0.7, Nₛ=9), ‖∇f‖ = 3.203133219220694, ‖θ‖ = 4.953202740353464, tdvp_error = 4.884981308350689e-15\n",
      "\u001b[36m\u001b[1m[ \u001b[22m\u001b[39m\u001b[36m\u001b[1mInfo: \u001b[22m\u001b[39mEigenSolver: Null space size: 4 - 44.4%  - cn: 1.7189307672223664 - max_val: 24.779348511797938\n",
      "\u001b[36m\u001b[1m[ \u001b[22m\u001b[39m\u001b[36m\u001b[1mInfo: \u001b[22m\u001b[39miter 57: EnergySummary(E = -5.44 ± 0.56, var(E) = 2.78 ± 0.75, Nₛ=9), ‖∇f‖ = 3.167953480196442, ‖θ‖ = 4.953306309253151, tdvp_error = -4.6629367034256575e-15\n",
      "\u001b[36m\u001b[1m[ \u001b[22m\u001b[39m\u001b[36m\u001b[1mInfo: \u001b[22m\u001b[39mEigenSolver: Null space size: 6 - 66.7%  - cn: 1.0517766959735388 - max_val: 6.2014986436343005\n",
      "\u001b[36m\u001b[1m[ \u001b[22m\u001b[39m\u001b[36m\u001b[1mInfo: \u001b[22m\u001b[39miter 58: EnergySummary(E = -4.78 ± 0.7, var(E) = 4.4 ± 1.8, Nₛ=9), ‖∇f‖ = 2.9406579479016095, ‖θ‖ = 4.953407613573947, tdvp_error = -2.886579864025407e-15\n",
      "\u001b[36m\u001b[1m[ \u001b[22m\u001b[39m\u001b[36m\u001b[1mInfo: \u001b[22m\u001b[39mEigenSolver: Null space size: 2 - 22.2%  - cn: 1.144382745147199 - max_val: 10.883242486845564\n",
      "\u001b[36m\u001b[1m[ \u001b[22m\u001b[39m\u001b[36m\u001b[1mInfo: \u001b[22m\u001b[39miter 59: EnergySummary(E = -4.56 ± 0.44, var(E) = 1.78 ± 0.66, Nₛ=9), ‖∇f‖ = 3.4316118404207563, ‖θ‖ = 4.953494900888563, tdvp_error = -1.1102230246251565e-15\n",
      "\u001b[36m\u001b[1m[ \u001b[22m\u001b[39m\u001b[36m\u001b[1mInfo: \u001b[22m\u001b[39mEigenSolver: Null space size: 3 - 33.3%  - cn: 1.3992835642537647 - max_val: 28.044920375397872\n",
      "\u001b[36m\u001b[1m[ \u001b[22m\u001b[39m\u001b[36m\u001b[1mInfo: \u001b[22m\u001b[39miter 60: EnergySummary(E = -4.3 ± 1.0, var(E) = 9.0 ± 3.4, Nₛ=9), ‖∇f‖ = 3.256067868604318, ‖θ‖ = 4.953613764627933, tdvp_error = 0.0\n",
      "\u001b[36m\u001b[1m[ \u001b[22m\u001b[39m\u001b[36m\u001b[1mInfo: \u001b[22m\u001b[39mEigenSolver: Null space size: 5 - 55.6%  - cn: 1.0085163542199433 - max_val: 6.151489882466591\n",
      "\u001b[36m\u001b[1m[ \u001b[22m\u001b[39m\u001b[36m\u001b[1mInfo: \u001b[22m\u001b[39miter 61: EnergySummary(E = -7.0 ± 0.58, var(E) = 3.0 ± 0.67, Nₛ=9), ‖∇f‖ = 3.1144004134352303, ‖θ‖ = 4.95372077603369, tdvp_error = -1.1102230246251565e-15\n",
      "\u001b[36m\u001b[1m[ \u001b[22m\u001b[39m\u001b[36m\u001b[1mInfo: \u001b[22m\u001b[39mEigenSolver: Null space size: 2 - 22.2%  - cn: 1.2719679091900802 - max_val: 14.240730272103761\n",
      "\u001b[36m\u001b[1m[ \u001b[22m\u001b[39m\u001b[36m\u001b[1mInfo: \u001b[22m\u001b[39miter 62: EnergySummary(E = -5.44 ± 0.56, var(E) = 2.78 ± 0.75, Nₛ=9), ‖∇f‖ = 3.390619546098858, ‖θ‖ = 4.953818676122628, tdvp_error = -8.881784197001252e-16\n",
      "\u001b[36m\u001b[1m[ \u001b[22m\u001b[39m\u001b[36m\u001b[1mInfo: \u001b[22m\u001b[39mEigenSolver: Null space size: 3 - 33.3%  - cn: 1.2724934929834018 - max_val: 15.840480031108145\n",
      "\u001b[36m\u001b[1m[ \u001b[22m\u001b[39m\u001b[36m\u001b[1mInfo: \u001b[22m\u001b[39miter 63: EnergySummary(E = -5.22 ± 0.4, var(E) = 1.44 ± 0.64, Nₛ=9), ‖∇f‖ = 3.3167501166600077, ‖θ‖ = 4.953934709500317, tdvp_error = 1.1879386363489175e-14\n",
      "\u001b[36m\u001b[1m[ \u001b[22m\u001b[39m\u001b[36m\u001b[1mInfo: \u001b[22m\u001b[39mEigenSolver: Null space size: 3 - 33.3%  - cn: 1.0633619613877134 - max_val: 18.57718274727406\n",
      "\u001b[36m\u001b[1m[ \u001b[22m\u001b[39m\u001b[36m\u001b[1mInfo: \u001b[22m\u001b[39miter 64: EnergySummary(E = -5.0 ± 0.75, var(E) = 5.0 ± 1.6, Nₛ=9), ‖∇f‖ = 3.289818152756111, ‖θ‖ = 4.954045739506815, tdvp_error = 2.1094237467877974e-15\n",
      "\u001b[36m\u001b[1m[ \u001b[22m\u001b[39m\u001b[36m\u001b[1mInfo: \u001b[22m\u001b[39mEigenSolver: Null space size: 4 - 44.4%  - cn: 0.875849033616457 - max_val: 11.527528890396027\n",
      "\u001b[36m\u001b[1m[ \u001b[22m\u001b[39m\u001b[36m\u001b[1mInfo: \u001b[22m\u001b[39miter 65: EnergySummary(E = -6.11 ± 0.68, var(E) = 4.1 ± 1.3, Nₛ=9), ‖∇f‖ = 3.1324077239885644, ‖θ‖ = 4.954154971281524, tdvp_error = -2.886579864025407e-15\n",
      "\u001b[36m\u001b[1m[ \u001b[22m\u001b[39m\u001b[36m\u001b[1mInfo: \u001b[22m\u001b[39mEigenSolver: Null space size: 5 - 55.6%  - cn: 1.4963072135375277 - max_val: 18.09138515371801\n",
      "\u001b[36m\u001b[1m[ \u001b[22m\u001b[39m\u001b[36m\u001b[1mInfo: \u001b[22m\u001b[39miter 66: EnergySummary(E = -7.0 ± 0.67, var(E) = 4.0 ± 1.7, Nₛ=9), ‖∇f‖ = 2.9542436797367904, ‖θ‖ = 4.954253998059483, tdvp_error = 2.4424906541753444e-15\n",
      "\u001b[36m\u001b[1m[ \u001b[22m\u001b[39m\u001b[36m\u001b[1mInfo: \u001b[22m\u001b[39mEigenSolver: Null space size: 5 - 55.6%  - cn: 1.4212923504231885 - max_val: 18.993600898544468\n",
      "\u001b[36m\u001b[1m[ \u001b[22m\u001b[39m\u001b[36m\u001b[1mInfo: \u001b[22m\u001b[39miter 67: EnergySummary(E = -7.0 ± 0.75, var(E) = 5.0 ± 1.6, Nₛ=9), ‖∇f‖ = 2.828532766543417, ‖θ‖ = 4.954342078708362, tdvp_error = 1.4432899320127035e-15\n",
      "\u001b[36m\u001b[1m[ \u001b[22m\u001b[39m\u001b[36m\u001b[1mInfo: \u001b[22m\u001b[39mEigenSolver: Null space size: 5 - 55.6%  - cn: 0.8185768509610452 - max_val: 8.181832114432934\n",
      "\u001b[36m\u001b[1m[ \u001b[22m\u001b[39m\u001b[36m\u001b[1mInfo: \u001b[22m\u001b[39miter 68: EnergySummary(E = -6.11 ± 0.59, var(E) = 3.1 ± 1.2, Nₛ=9), ‖∇f‖ = 3.033390736593716, ‖θ‖ = 4.954422821340689, tdvp_error = 1.4432899320127035e-15\n",
      "\u001b[36m\u001b[1m[ \u001b[22m\u001b[39m\u001b[36m\u001b[1mInfo: \u001b[22m\u001b[39mEigenSolver: Null space size: 4 - 44.4%  - cn: 1.3012690644449818 - max_val: 19.46419194695686\n",
      "\u001b[36m\u001b[1m[ \u001b[22m\u001b[39m\u001b[36m\u001b[1mInfo: \u001b[22m\u001b[39miter 69: EnergySummary(E = -6.56 ± 0.73, var(E) = 4.8 ± 1.3, Nₛ=9), ‖∇f‖ = 2.869349418165239, ‖θ‖ = 4.954515681533112, tdvp_error = -3.552713678800501e-15\n",
      "\u001b[36m\u001b[1m[ \u001b[22m\u001b[39m\u001b[36m\u001b[1mInfo: \u001b[22m\u001b[39mEigenSolver: Null space size: 4 - 44.4%  - cn: 1.7440161069490465 - max_val: 17.57334421801249\n",
      "\u001b[36m\u001b[1m[ \u001b[22m\u001b[39m\u001b[36m\u001b[1mInfo: \u001b[22m\u001b[39miter 70: EnergySummary(E = -5.89 ± 0.68, var(E) = 4.1 ± 1.3, Nₛ=9), ‖∇f‖ = 3.0621797632887846, ‖θ‖ = 4.9545987683328985, tdvp_error = -2.4424906541753444e-15\n",
      "\u001b[36m\u001b[1m[ \u001b[22m\u001b[39m\u001b[36m\u001b[1mInfo: \u001b[22m\u001b[39mEigenSolver: Null space size: 6 - 66.7%  - cn: 0.6264566784807747 - max_val: 4.839655819117033\n",
      "\u001b[36m\u001b[1m[ \u001b[22m\u001b[39m\u001b[36m\u001b[1mInfo: \u001b[22m\u001b[39miter 71: EnergySummary(E = -7.0 ± 0.47, var(E) = 2.0 ± 0.7, Nₛ=9), ‖∇f‖ = 2.8400497917531293, ‖θ‖ = 4.954693396130192, tdvp_error = 2.220446049250313e-16\n",
      "\u001b[36m\u001b[1m[ \u001b[22m\u001b[39m\u001b[36m\u001b[1mInfo: \u001b[22m\u001b[39mEigenSolver: Null space size: 3 - 33.3%  - cn: 1.5663856719690517 - max_val: 28.128168991927396\n",
      "\u001b[36m\u001b[1m[ \u001b[22m\u001b[39m\u001b[36m\u001b[1mInfo: \u001b[22m\u001b[39miter 72: EnergySummary(E = -6.11 ± 0.75, var(E) = 5.1 ± 1.4, Nₛ=9), ‖∇f‖ = 3.081824072942254, ‖θ‖ = 4.9547747918485765, tdvp_error = -4.440892098500626e-16\n"
     ]
    },
    {
     "name": "stderr",
     "output_type": "stream",
     "text": [
      "\u001b[36m\u001b[1m[ \u001b[22m\u001b[39m\u001b[36m\u001b[1mInfo: \u001b[22m\u001b[39mEigenSolver: Null space size: 5 - 55.6%  - cn: 0.6945121908172137 - max_val: 6.071153229571971\n",
      "\u001b[36m\u001b[1m[ \u001b[22m\u001b[39m\u001b[36m\u001b[1mInfo: \u001b[22m\u001b[39miter 73: EnergySummary(E = -6.33 ± 0.47, var(E) = 2.0 ± 0.7, Nₛ=9), ‖∇f‖ = 2.9664572953114483, ‖θ‖ = 4.954870634224446, tdvp_error = -2.220446049250313e-16\n",
      "\u001b[36m\u001b[1m[ \u001b[22m\u001b[39m\u001b[36m\u001b[1mInfo: \u001b[22m\u001b[39mEigenSolver: Null space size: 2 - 22.2%  - cn: 1.425265618721794 - max_val: 26.873929702121163\n",
      "\u001b[36m\u001b[1m[ \u001b[22m\u001b[39m\u001b[36m\u001b[1mInfo: \u001b[22m\u001b[39miter 74: EnergySummary(E = -5.67 ± 0.67, var(E) = 4.0 ± 1.3, Nₛ=9), ‖∇f‖ = 3.184312337392829, ‖θ‖ = 4.954959433616814, tdvp_error = -1.7763568394002505e-15\n",
      "\u001b[36m\u001b[1m[ \u001b[22m\u001b[39m\u001b[36m\u001b[1mInfo: \u001b[22m\u001b[39mEigenSolver: Null space size: 5 - 55.6%  - cn: 1.495796477797997 - max_val: 28.14929017598083\n",
      "\u001b[36m\u001b[1m[ \u001b[22m\u001b[39m\u001b[36m\u001b[1mInfo: \u001b[22m\u001b[39miter 75: EnergySummary(E = -5.89 ± 0.59, var(E) = 3.1 ± 1.2, Nₛ=9), ‖∇f‖ = 2.838463176017235, ‖θ‖ = 4.95506175272261, tdvp_error = -6.661338147750939e-16\n",
      "\u001b[36m\u001b[1m[ \u001b[22m\u001b[39m\u001b[36m\u001b[1mInfo: \u001b[22m\u001b[39mEigenSolver: Null space size: 6 - 66.7%  - cn: 1.5871977976338394 - max_val: 24.85111403633282\n",
      "\u001b[36m\u001b[1m[ \u001b[22m\u001b[39m\u001b[36m\u001b[1mInfo: \u001b[22m\u001b[39miter 76: EnergySummary(E = -7.0 ± 0.47, var(E) = 2.0 ± 0.7, Nₛ=9), ‖∇f‖ = 2.588720710637722, ‖θ‖ = 4.955143051478395, tdvp_error = 2.220446049250313e-16\n",
      "\u001b[36m\u001b[1m[ \u001b[22m\u001b[39m\u001b[36m\u001b[1mInfo: \u001b[22m\u001b[39mEigenSolver: Null space size: 3 - 33.3%  - cn: 1.183735132350438 - max_val: 12.43461729173549\n",
      "\u001b[36m\u001b[1m[ \u001b[22m\u001b[39m\u001b[36m\u001b[1mInfo: \u001b[22m\u001b[39miter 77: EnergySummary(E = -6.56 ± 0.44, var(E) = 1.78 ± 0.66, Nₛ=9), ‖∇f‖ = 3.0803764576222554, ‖θ‖ = 4.95521067242417, tdvp_error = -1.9984014443252818e-15\n",
      "\u001b[36m\u001b[1m[ \u001b[22m\u001b[39m\u001b[36m\u001b[1mInfo: \u001b[22m\u001b[39mEigenSolver: Null space size: 4 - 44.4%  - cn: 1.3541469358153577 - max_val: 16.82226268322821\n",
      "\u001b[36m\u001b[1m[ \u001b[22m\u001b[39m\u001b[36m\u001b[1mInfo: \u001b[22m\u001b[39miter 78: EnergySummary(E = -7.0 ± 0.58, var(E) = 3.0 ± 1.8, Nₛ=9), ‖∇f‖ = 2.8387169009034836, ‖θ‖ = 4.955306416359987, tdvp_error = -5.551115123125783e-15\n",
      "\u001b[36m\u001b[1m[ \u001b[22m\u001b[39m\u001b[36m\u001b[1mInfo: \u001b[22m\u001b[39mEigenSolver: Null space size: 3 - 33.3%  - cn: 1.1783638051365084 - max_val: 14.316819457097788\n",
      "\u001b[36m\u001b[1m[ \u001b[22m\u001b[39m\u001b[36m\u001b[1mInfo: \u001b[22m\u001b[39miter 79: EnergySummary(E = -6.56 ± 0.44, var(E) = 1.78 ± 0.66, Nₛ=9), ‖∇f‖ = 2.945672337429247, ‖θ‖ = 4.9553877256358865, tdvp_error = -1.5543122344752192e-15\n",
      "\u001b[36m\u001b[1m[ \u001b[22m\u001b[39m\u001b[36m\u001b[1mInfo: \u001b[22m\u001b[39mEigenSolver: Null space size: 5 - 55.6%  - cn: 1.0810359055569323 - max_val: 7.613686480902883\n",
      "\u001b[36m\u001b[1m[ \u001b[22m\u001b[39m\u001b[36m\u001b[1mInfo: \u001b[22m\u001b[39miter 80: EnergySummary(E = -7.0 ± 0.47, var(E) = 2.0 ± 0.7, Nₛ=9), ‖∇f‖ = 2.834182446966479, ‖θ‖ = 4.955475275887748, tdvp_error = -1.7763568394002505e-15\n",
      "\u001b[36m\u001b[1m[ \u001b[22m\u001b[39m\u001b[36m\u001b[1mInfo: \u001b[22m\u001b[39mEigenSolver: Null space size: 6 - 66.7%  - cn: 1.2088824682595403 - max_val: 22.970296483090465\n",
      "\u001b[36m\u001b[1m[ \u001b[22m\u001b[39m\u001b[36m\u001b[1mInfo: \u001b[22m\u001b[39miter 81: EnergySummary(E = -7.22 ± 0.62, var(E) = 3.44 ± 0.63, Nₛ=9), ‖∇f‖ = 2.7016801815862115, ‖θ‖ = 4.95555632285105, tdvp_error = 6.661338147750939e-16\n",
      "\u001b[36m\u001b[1m[ \u001b[22m\u001b[39m\u001b[36m\u001b[1mInfo: \u001b[22m\u001b[39mEigenSolver: Null space size: 4 - 44.4%  - cn: 2.6705937694583537 - max_val: 723.6901869478163\n",
      "\u001b[36m\u001b[1m[ \u001b[22m\u001b[39m\u001b[36m\u001b[1mInfo: \u001b[22m\u001b[39miter 82: EnergySummary(E = -6.33 ± 0.94, var(E) = 8.0 ± 3.0, Nₛ=9), ‖∇f‖ = 2.6626347751072954, ‖θ‖ = 4.955629967676096, tdvp_error = 4.529709940470639e-14\n",
      "\u001b[36m\u001b[1m[ \u001b[22m\u001b[39m\u001b[36m\u001b[1mInfo: \u001b[22m\u001b[39mEigenSolver: Null space size: 5 - 55.6%  - cn: 1.247335991581246 - max_val: 25.777089317911297\n",
      "\u001b[36m\u001b[1m[ \u001b[22m\u001b[39m\u001b[36m\u001b[1mInfo: \u001b[22m\u001b[39miter 83: EnergySummary(E = -7.0 ± 0.47, var(E) = 2.0 ± 0.7, Nₛ=9), ‖∇f‖ = 2.627030778406021, ‖θ‖ = 4.95570149816592, tdvp_error = -1.1102230246251565e-15\n",
      "\u001b[36m\u001b[1m[ \u001b[22m\u001b[39m\u001b[36m\u001b[1mInfo: \u001b[22m\u001b[39mEigenSolver: Null space size: 4 - 44.4%  - cn: 1.4601185263218526 - max_val: 28.091419094423774\n",
      "\u001b[36m\u001b[1m[ \u001b[22m\u001b[39m\u001b[36m\u001b[1mInfo: \u001b[22m\u001b[39miter 84: EnergySummary(E = -7.0 ± 0.67, var(E) = 4.0 ± 1.7, Nₛ=9), ‖∇f‖ = 2.6863087122610216, ‖θ‖ = 4.955771127483089, tdvp_error = 2.4424906541753444e-15\n",
      "\u001b[36m\u001b[1m[ \u001b[22m\u001b[39m\u001b[36m\u001b[1mInfo: \u001b[22m\u001b[39mEigenSolver: Null space size: 5 - 55.6%  - cn: 1.7194600395989748 - max_val: 24.754727798760523\n",
      "\u001b[36m\u001b[1m[ \u001b[22m\u001b[39m\u001b[36m\u001b[1mInfo: \u001b[22m\u001b[39miter 85: EnergySummary(E = -7.67 ± 0.58, var(E) = 3.0 ± 0.86, Nₛ=9), ‖∇f‖ = 2.6358716089804397, ‖θ‖ = 4.955843933523812, tdvp_error = 3.1086244689504383e-15\n",
      "\u001b[36m\u001b[1m[ \u001b[22m\u001b[39m\u001b[36m\u001b[1mInfo: \u001b[22m\u001b[39mEigenSolver: Null space size: 8 - 88.9%  - cn: NaN - max_val: 2.62127620483729\n",
      "\u001b[36m\u001b[1m[ \u001b[22m\u001b[39m\u001b[36m\u001b[1mInfo: \u001b[22m\u001b[39miter 86: EnergySummary(E = -8.56 ± 0.29, var(E) = 0.78 ± 0.33, Nₛ=9), ‖∇f‖ = 1.5406939111094167, ‖θ‖ = 4.955914030263103, tdvp_error = -2.220446049250313e-16\n",
      "\u001b[36m\u001b[1m[ \u001b[22m\u001b[39m\u001b[36m\u001b[1mInfo: \u001b[22m\u001b[39mEigenSolver: Null space size: 4 - 44.4%  - cn: 1.3371694097310276 - max_val: 15.180961926794136\n",
      "\u001b[36m\u001b[1m[ \u001b[22m\u001b[39m\u001b[36m\u001b[1mInfo: \u001b[22m\u001b[39miter 87: EnergySummary(E = -7.0 ± 0.47, var(E) = 2.0 ± 0.7, Nₛ=9), ‖∇f‖ = 2.744874227073484, ‖θ‖ = 4.955937978741405, tdvp_error = 1.3322676295501878e-15\n",
      "\u001b[36m\u001b[1m[ \u001b[22m\u001b[39m\u001b[36m\u001b[1mInfo: \u001b[22m\u001b[39mEigenSolver: Null space size: 5 - 55.6%  - cn: 1.4772476055498998 - max_val: 22.14246579834843\n",
      "\u001b[36m\u001b[1m[ \u001b[22m\u001b[39m\u001b[36m\u001b[1mInfo: \u001b[22m\u001b[39miter 88: EnergySummary(E = -7.22 ± 0.7, var(E) = 4.4 ± 1.8, Nₛ=9), ‖∇f‖ = 2.5875576446016546, ‖θ‖ = 4.956013991362785, tdvp_error = -8.881784197001252e-16\n",
      "\u001b[36m\u001b[1m[ \u001b[22m\u001b[39m\u001b[36m\u001b[1mInfo: \u001b[22m\u001b[39mEigenSolver: Null space size: 6 - 66.7%  - cn: 1.3581782364758648 - max_val: 20.00773965934476\n",
      "\u001b[36m\u001b[1m[ \u001b[22m\u001b[39m\u001b[36m\u001b[1mInfo: \u001b[22m\u001b[39miter 89: EnergySummary(E = -7.67 ± 0.58, var(E) = 3.0 ± 0.86, Nₛ=9), ‖∇f‖ = 2.48465654810225, ‖θ‖ = 4.956081539688396, tdvp_error = 3.4416913763379853e-15\n",
      "\u001b[36m\u001b[1m[ \u001b[22m\u001b[39m\u001b[36m\u001b[1mInfo: \u001b[22m\u001b[39mEigenSolver: Null space size: 5 - 55.6%  - cn: 1.1681409457218168 - max_val: 17.31393545055288\n",
      "\u001b[36m\u001b[1m[ \u001b[22m\u001b[39m\u001b[36m\u001b[1mInfo: \u001b[22m\u001b[39miter 90: EnergySummary(E = -7.67 ± 0.47, var(E) = 2.0 ± 0.7, Nₛ=9), ‖∇f‖ = 2.6223606362785477, ‖θ‖ = 4.956143821546778, tdvp_error = 2.886579864025407e-15\n",
      "\u001b[36m\u001b[1m[ \u001b[22m\u001b[39m\u001b[36m\u001b[1mInfo: \u001b[22m\u001b[39mEigenSolver: Null space size: 5 - 55.6%  - cn: 1.0788296886580762 - max_val: 16.464311887072657\n",
      "\u001b[36m\u001b[1m[ \u001b[22m\u001b[39m\u001b[36m\u001b[1mInfo: \u001b[22m\u001b[39miter 91: EnergySummary(E = -6.56 ± 0.56, var(E) = 2.78 ± 0.75, Nₛ=9), ‖∇f‖ = 2.5064034132424955, ‖θ‖ = 4.95621319732989, tdvp_error = 1.887379141862766e-15\n",
      "\u001b[36m\u001b[1m[ \u001b[22m\u001b[39m\u001b[36m\u001b[1mInfo: \u001b[22m\u001b[39mEigenSolver: Null space size: 5 - 55.6%  - cn: 1.0549659703086764 - max_val: 12.470221941312055\n",
      "\u001b[36m\u001b[1m[ \u001b[22m\u001b[39m\u001b[36m\u001b[1mInfo: \u001b[22m\u001b[39miter 92: EnergySummary(E = -7.44 ± 0.65, var(E) = 3.8 ± 2.1, Nₛ=9), ‖∇f‖ = 2.5680004576796844, ‖θ‖ = 4.956276572508234, tdvp_error = 3.3306690738754696e-16\n",
      "\u001b[36m\u001b[1m[ \u001b[22m\u001b[39m\u001b[36m\u001b[1mInfo: \u001b[22m\u001b[39mEigenSolver: Null space size: 6 - 66.7%  - cn: 0.9150411681060044 - max_val: 15.160569182406498\n",
      "\u001b[36m\u001b[1m[ \u001b[22m\u001b[39m\u001b[36m\u001b[1mInfo: \u001b[22m\u001b[39miter 93: EnergySummary(E = -7.67 ± 0.58, var(E) = 3.0 ± 0.86, Nₛ=9), ‖∇f‖ = 2.1394836594300277, ‖θ‖ = 4.956343100091944, tdvp_error = 1.1102230246251565e-16\n",
      "\u001b[36m\u001b[1m[ \u001b[22m\u001b[39m\u001b[36m\u001b[1mInfo: \u001b[22m\u001b[39mEigenSolver: Null space size: 5 - 55.6%  - cn: 1.5219861537705086 - max_val: 21.63219157385087\n",
      "\u001b[36m\u001b[1m[ \u001b[22m\u001b[39m\u001b[36m\u001b[1mInfo: \u001b[22m\u001b[39miter 94: EnergySummary(E = -7.0 ± 0.94, var(E) = 8.0 ± 3.6, Nₛ=9), ‖∇f‖ = 2.5397331630667312, ‖θ‖ = 4.956389276969871, tdvp_error = -1.9984014443252818e-15\n",
      "\u001b[36m\u001b[1m[ \u001b[22m\u001b[39m\u001b[36m\u001b[1mInfo: \u001b[22m\u001b[39mEigenSolver: Null space size: 5 - 55.6%  - cn: 0.9850308868824182 - max_val: 15.870796979141117\n",
      "\u001b[36m\u001b[1m[ \u001b[22m\u001b[39m\u001b[36m\u001b[1mInfo: \u001b[22m\u001b[39miter 95: EnergySummary(E = -7.0 ± 0.47, var(E) = 2.0 ± 0.7, Nₛ=9), ‖∇f‖ = 2.4042227054557763, ‖θ‖ = 4.956454346538045, tdvp_error = -1.1102230246251565e-15\n",
      "\u001b[36m\u001b[1m[ \u001b[22m\u001b[39m\u001b[36m\u001b[1mInfo: \u001b[22m\u001b[39mEigenSolver: Null space size: 5 - 55.6%  - cn: 1.1822189090016482 - max_val: 18.34748812989108\n",
      "\u001b[36m\u001b[1m[ \u001b[22m\u001b[39m\u001b[36m\u001b[1mInfo: \u001b[22m\u001b[39miter 96: EnergySummary(E = -7.0 ± 0.47, var(E) = 2.0 ± 0.7, Nₛ=9), ‖∇f‖ = 2.3746658825713967, ‖θ‖ = 4.956512656898762, tdvp_error = -1.7763568394002505e-15\n"
     ]
    },
    {
     "name": "stderr",
     "output_type": "stream",
     "text": [
      "\u001b[36m\u001b[1m[ \u001b[22m\u001b[39m\u001b[36m\u001b[1mInfo: \u001b[22m\u001b[39mEigenSolver: Null space size: 7 - 77.8%  - cn: 1.0544476180576219 - max_val: 16.47530321731208\n",
      "\u001b[36m\u001b[1m[ \u001b[22m\u001b[39m\u001b[36m\u001b[1mInfo: \u001b[22m\u001b[39miter 97: EnergySummary(E = -8.11 ± 0.35, var(E) = 1.111 ± 0.078, Nₛ=9), ‖∇f‖ = 1.4840253051572898, ‖θ‖ = 4.95656954170957, tdvp_error = -3.1086244689504383e-15\n",
      "\u001b[36m\u001b[1m[ \u001b[22m\u001b[39m\u001b[36m\u001b[1mInfo: \u001b[22m\u001b[39mEigenSolver: Null space size: 6 - 66.7%  - cn: 1.3241030776560085 - max_val: 16.51015797339632\n",
      "\u001b[36m\u001b[1m[ \u001b[22m\u001b[39m\u001b[36m\u001b[1mInfo: \u001b[22m\u001b[39miter 98: EnergySummary(E = -8.11 ± 0.35, var(E) = 1.111 ± 0.078, Nₛ=9), ‖∇f‖ = 2.1982989309025798, ‖θ‖ = 4.956591757943521, tdvp_error = -4.440892098500626e-16\n",
      "\u001b[36m\u001b[1m[ \u001b[22m\u001b[39m\u001b[36m\u001b[1mInfo: \u001b[22m\u001b[39mEigenSolver: Null space size: 4 - 44.4%  - cn: 1.115354030850997 - max_val: 19.10895167612126\n",
      "\u001b[36m\u001b[1m[ \u001b[22m\u001b[39m\u001b[36m\u001b[1mInfo: \u001b[22m\u001b[39miter 99: EnergySummary(E = -7.0 ± 0.47, var(E) = 2.0 ± 0.7, Nₛ=9), ‖∇f‖ = 2.4469380135445924, ‖θ‖ = 4.956640506102153, tdvp_error = 7.771561172376096e-16\n",
      "\u001b[36m\u001b[1m[ \u001b[22m\u001b[39m\u001b[36m\u001b[1mInfo: \u001b[22m\u001b[39mEigenSolver: Null space size: 5 - 55.6%  - cn: 1.2570183197418765 - max_val: 15.025891477524178\n",
      "\u001b[36m\u001b[1m[ \u001b[22m\u001b[39m\u001b[36m\u001b[1mInfo: \u001b[22m\u001b[39miter 100: EnergySummary(E = -7.44 ± 0.44, var(E) = 1.78 ± 0.66, Nₛ=9), ‖∇f‖ = 2.394976738739598, ‖θ‖ = 4.9567009045631165, tdvp_error = -4.440892098500626e-16\n",
      "\u001b[36m\u001b[1m[ \u001b[22m\u001b[39m\u001b[36m\u001b[1mInfo: \u001b[22m\u001b[39mevolve: Done\n"
     ]
    },
    {
     "name": "stdout",
     "output_type": "stream",
     "text": [
      "\u001b[0m\u001b[1m ──────────────────────────────────────────────────────────────────────────────\u001b[22m\n",
      "\u001b[0m\u001b[1m                             \u001b[22m         Time                    Allocations      \n",
      "                             ───────────────────────   ────────────────────────\n",
      "      Tot / % measured:           15.2s /  94.2%           4.81GiB /  99.4%    \n",
      "\n",
      " Section             ncalls     time    %tot     avg     alloc    %tot      avg\n",
      " ──────────────────────────────────────────────────────────────────────────────\n",
      " integrator             100    14.3s  100.0%   143ms   4.77GiB  100.0%  48.9MiB\n",
      "   NaturalGradient      100    14.3s  100.0%   143ms   4.77GiB  100.0%  48.9MiB\n",
      "     Oks_and_Eks        100    13.5s   94.5%   135ms   4.73GiB   99.1%  48.5MiB\n",
      "     solver             100    777ms    5.4%  7.77ms   40.6MiB    0.8%   416KiB\n",
      "     copy Oks           100   1.15ms    0.0%  11.5μs    931KiB    0.0%  9.31KiB\n",
      "\u001b[0m\u001b[1m ──────────────────────────────────────────────────────────────────────────────\u001b[22m 15.195298 seconds (22.22 M allocations: 4.806 GiB, 11.62% gc time, 10.28% compilation time)\n"
     ]
    },
    {
     "data": {
      "text/plain": [
       "(-7.444444444444446, [0.9864394317641324, -0.0340412458899809, -1.9623526672312064, -0.8570450911939596, -1.310548618603106, 0.4394602057009398, 0.9097998638763269, 0.23388687700261065, 1.9671998252183795, 0.3953545814295392, -1.4335628131584055, 0.7647694991378997, 2.04184324037991, -0.1812539905541576, -1.9428804498186336, -0.39498396884253795, -1.1676375097759712, -0.2333960369896212], Dict{String, Any}(\"niter\" => 100, \"history\" => [-1.0000000000000007 2.9999999999999996 … 2.9999999999999996 1.2212453270876722e-15; -0.5555555555555559 1.777777777777778 … 1.777777777777778 -3.552713678800501e-15; … ; -7.0 1.9999999999999984 … 1.9999999999999984 7.771561172376096e-16; -7.444444444444446 1.7777777777777775 … 1.7777777777777775 -4.440892098500626e-16], \"history_legend\" => Dict(\"norm_grad\" => 4, \"var_energy\" => 6, \"sample_nr\" => 3, \"energy\" => 1, \"norm_θ\" => 5, \"tdvp_error\" => 7), \"energy\" => -7.444444444444446))"
      ]
     },
     "execution_count": 9,
     "metadata": {},
     "output_type": "execute_result"
    }
   ],
   "source": [
    "dt = 0.01  # Time step\n",
    "eigen_cut = 1e-5  # Eigenvalue cutoff for solver\n",
    "integrator = QuantumNaturalGradient.Euler(lr=dt)  # Define the integrator with learning rate\n",
    "solver = QuantumNaturalGradient.EigenSolver(eigen_cut, verbose=true)  # Eigenvalue solver with verbosity\n",
    "\n",
    "θ = flatten(peps)\n",
    "\n",
    "# Evolve the system\n",
    "@time loss_value, θ_opt, misc = QuantumNaturalGradient.evolve(Oks_and_Eks, θ; \n",
    "                                        integrator, \n",
    "                                        verbosity=2, \n",
    "                                        solver, \n",
    "                                        sample_nr = 9,  # Number of samples \n",
    "                                        maxiter = 100,  # Maximum iterations\n",
    "                                        );"
   ]
  },
  {
   "cell_type": "code",
   "execution_count": 13,
   "id": "9d60fb5d",
   "metadata": {},
   "outputs": [
    {
     "data": {
      "image/svg+xml": [
       "<?xml version=\"1.0\" encoding=\"utf-8\"?>\n",
       "<svg xmlns=\"http://www.w3.org/2000/svg\" xmlns:xlink=\"http://www.w3.org/1999/xlink\" width=\"600\" height=\"400\" viewBox=\"0 0 2400 1600\">\n",
       "<defs>\n",
       "  <clipPath id=\"clip590\">\n",
       "    <rect x=\"0\" y=\"0\" width=\"2400\" height=\"1600\"/>\n",
       "  </clipPath>\n",
       "</defs>\n",
       "<path clip-path=\"url(#clip590)\" d=\"M0 1600 L2400 1600 L2400 0 L0 0  Z\" fill=\"#ffffff\" fill-rule=\"evenodd\" fill-opacity=\"1\"/>\n",
       "<defs>\n",
       "  <clipPath id=\"clip591\">\n",
       "    <rect x=\"480\" y=\"0\" width=\"1681\" height=\"1600\"/>\n",
       "  </clipPath>\n",
       "</defs>\n",
       "<path clip-path=\"url(#clip590)\" d=\"M149.191 1486.45 L2352.76 1486.45 L2352.76 47.2441 L149.191 47.2441  Z\" fill=\"#ffffff\" fill-rule=\"evenodd\" fill-opacity=\"1\"/>\n",
       "<defs>\n",
       "  <clipPath id=\"clip592\">\n",
       "    <rect x=\"149\" y=\"47\" width=\"2205\" height=\"1440\"/>\n",
       "  </clipPath>\n",
       "</defs>\n",
       "<polyline clip-path=\"url(#clip592)\" style=\"stroke:#000000; stroke-linecap:round; stroke-linejoin:round; stroke-width:2; stroke-opacity:0.1; fill:none\" points=\"190.558,1486.45 190.558,47.2441 \"/>\n",
       "<polyline clip-path=\"url(#clip592)\" style=\"stroke:#000000; stroke-linecap:round; stroke-linejoin:round; stroke-width:2; stroke-opacity:0.1; fill:none\" points=\"715.516,1486.45 715.516,47.2441 \"/>\n",
       "<polyline clip-path=\"url(#clip592)\" style=\"stroke:#000000; stroke-linecap:round; stroke-linejoin:round; stroke-width:2; stroke-opacity:0.1; fill:none\" points=\"1240.47,1486.45 1240.47,47.2441 \"/>\n",
       "<polyline clip-path=\"url(#clip592)\" style=\"stroke:#000000; stroke-linecap:round; stroke-linejoin:round; stroke-width:2; stroke-opacity:0.1; fill:none\" points=\"1765.43,1486.45 1765.43,47.2441 \"/>\n",
       "<polyline clip-path=\"url(#clip592)\" style=\"stroke:#000000; stroke-linecap:round; stroke-linejoin:round; stroke-width:2; stroke-opacity:0.1; fill:none\" points=\"2290.39,1486.45 2290.39,47.2441 \"/>\n",
       "<polyline clip-path=\"url(#clip590)\" style=\"stroke:#000000; stroke-linecap:round; stroke-linejoin:round; stroke-width:4; stroke-opacity:1; fill:none\" points=\"149.191,1486.45 2352.76,1486.45 \"/>\n",
       "<polyline clip-path=\"url(#clip590)\" style=\"stroke:#000000; stroke-linecap:round; stroke-linejoin:round; stroke-width:4; stroke-opacity:1; fill:none\" points=\"190.558,1486.45 190.558,1467.55 \"/>\n",
       "<polyline clip-path=\"url(#clip590)\" style=\"stroke:#000000; stroke-linecap:round; stroke-linejoin:round; stroke-width:4; stroke-opacity:1; fill:none\" points=\"715.516,1486.45 715.516,1467.55 \"/>\n",
       "<polyline clip-path=\"url(#clip590)\" style=\"stroke:#000000; stroke-linecap:round; stroke-linejoin:round; stroke-width:4; stroke-opacity:1; fill:none\" points=\"1240.47,1486.45 1240.47,1467.55 \"/>\n",
       "<polyline clip-path=\"url(#clip590)\" style=\"stroke:#000000; stroke-linecap:round; stroke-linejoin:round; stroke-width:4; stroke-opacity:1; fill:none\" points=\"1765.43,1486.45 1765.43,1467.55 \"/>\n",
       "<polyline clip-path=\"url(#clip590)\" style=\"stroke:#000000; stroke-linecap:round; stroke-linejoin:round; stroke-width:4; stroke-opacity:1; fill:none\" points=\"2290.39,1486.45 2290.39,1467.55 \"/>\n",
       "<path clip-path=\"url(#clip590)\" d=\"M190.558 1517.37 Q186.946 1517.37 185.118 1520.93 Q183.312 1524.47 183.312 1531.6 Q183.312 1538.71 185.118 1542.27 Q186.946 1545.82 190.558 1545.82 Q194.192 1545.82 195.997 1542.27 Q197.826 1538.71 197.826 1531.6 Q197.826 1524.47 195.997 1520.93 Q194.192 1517.37 190.558 1517.37 M190.558 1513.66 Q196.368 1513.66 199.423 1518.27 Q202.502 1522.85 202.502 1531.6 Q202.502 1540.33 199.423 1544.94 Q196.368 1549.52 190.558 1549.52 Q184.747 1549.52 181.669 1544.94 Q178.613 1540.33 178.613 1531.6 Q178.613 1522.85 181.669 1518.27 Q184.747 1513.66 190.558 1513.66 Z\" fill=\"#000000\" fill-rule=\"nonzero\" fill-opacity=\"1\" /><path clip-path=\"url(#clip590)\" d=\"M694.787 1544.91 L711.106 1544.91 L711.106 1548.85 L689.162 1548.85 L689.162 1544.91 Q691.824 1542.16 696.407 1537.53 Q701.014 1532.88 702.194 1531.53 Q704.44 1529.01 705.319 1527.27 Q706.222 1525.51 706.222 1523.82 Q706.222 1521.07 704.278 1519.33 Q702.356 1517.6 699.254 1517.6 Q697.055 1517.6 694.602 1518.36 Q692.171 1519.13 689.393 1520.68 L689.393 1515.95 Q692.217 1514.82 694.671 1514.24 Q697.125 1513.66 699.162 1513.66 Q704.532 1513.66 707.727 1516.35 Q710.921 1519.03 710.921 1523.52 Q710.921 1525.65 710.111 1527.57 Q709.324 1529.47 707.217 1532.07 Q706.639 1532.74 703.537 1535.95 Q700.435 1539.15 694.787 1544.91 Z\" fill=\"#000000\" fill-rule=\"nonzero\" fill-opacity=\"1\" /><path clip-path=\"url(#clip590)\" d=\"M720.967 1514.29 L739.324 1514.29 L739.324 1518.22 L725.25 1518.22 L725.25 1526.7 Q726.268 1526.35 727.287 1526.19 Q728.305 1526 729.324 1526 Q735.111 1526 738.49 1529.17 Q741.87 1532.34 741.87 1537.76 Q741.87 1543.34 738.398 1546.44 Q734.926 1549.52 728.606 1549.52 Q726.43 1549.52 724.162 1549.15 Q721.916 1548.78 719.509 1548.04 L719.509 1543.34 Q721.592 1544.47 723.814 1545.03 Q726.037 1545.58 728.514 1545.58 Q732.518 1545.58 734.856 1543.48 Q737.194 1541.37 737.194 1537.76 Q737.194 1534.15 734.856 1532.04 Q732.518 1529.94 728.514 1529.94 Q726.639 1529.94 724.764 1530.35 Q722.912 1530.77 720.967 1531.65 L720.967 1514.29 Z\" fill=\"#000000\" fill-rule=\"nonzero\" fill-opacity=\"1\" /><path clip-path=\"url(#clip590)\" d=\"M1215.17 1514.29 L1233.53 1514.29 L1233.53 1518.22 L1219.46 1518.22 L1219.46 1526.7 Q1220.47 1526.35 1221.49 1526.19 Q1222.51 1526 1223.53 1526 Q1229.32 1526 1232.7 1529.17 Q1236.08 1532.34 1236.08 1537.76 Q1236.08 1543.34 1232.6 1546.44 Q1229.13 1549.52 1222.81 1549.52 Q1220.64 1549.52 1218.37 1549.15 Q1216.12 1548.78 1213.72 1548.04 L1213.72 1543.34 Q1215.8 1544.47 1218.02 1545.03 Q1220.24 1545.58 1222.72 1545.58 Q1226.72 1545.58 1229.06 1543.48 Q1231.4 1541.37 1231.4 1537.76 Q1231.4 1534.15 1229.06 1532.04 Q1226.72 1529.94 1222.72 1529.94 Q1220.84 1529.94 1218.97 1530.35 Q1217.12 1530.77 1215.17 1531.65 L1215.17 1514.29 Z\" fill=\"#000000\" fill-rule=\"nonzero\" fill-opacity=\"1\" /><path clip-path=\"url(#clip590)\" d=\"M1255.29 1517.37 Q1251.68 1517.37 1249.85 1520.93 Q1248.04 1524.47 1248.04 1531.6 Q1248.04 1538.71 1249.85 1542.27 Q1251.68 1545.82 1255.29 1545.82 Q1258.92 1545.82 1260.73 1542.27 Q1262.56 1538.71 1262.56 1531.6 Q1262.56 1524.47 1260.73 1520.93 Q1258.92 1517.37 1255.29 1517.37 M1255.29 1513.66 Q1261.1 1513.66 1264.15 1518.27 Q1267.23 1522.85 1267.23 1531.6 Q1267.23 1540.33 1264.15 1544.94 Q1261.1 1549.52 1255.29 1549.52 Q1249.48 1549.52 1246.4 1544.94 Q1243.34 1540.33 1243.34 1531.6 Q1243.34 1522.85 1246.4 1518.27 Q1249.48 1513.66 1255.29 1513.66 Z\" fill=\"#000000\" fill-rule=\"nonzero\" fill-opacity=\"1\" /><path clip-path=\"url(#clip590)\" d=\"M1739.29 1514.29 L1761.51 1514.29 L1761.51 1516.28 L1748.96 1548.85 L1744.08 1548.85 L1755.88 1518.22 L1739.29 1518.22 L1739.29 1514.29 Z\" fill=\"#000000\" fill-rule=\"nonzero\" fill-opacity=\"1\" /><path clip-path=\"url(#clip590)\" d=\"M1770.68 1514.29 L1789.03 1514.29 L1789.03 1518.22 L1774.96 1518.22 L1774.96 1526.7 Q1775.98 1526.35 1776.99 1526.19 Q1778.01 1526 1779.03 1526 Q1784.82 1526 1788.2 1529.17 Q1791.58 1532.34 1791.58 1537.76 Q1791.58 1543.34 1788.11 1546.44 Q1784.63 1549.52 1778.31 1549.52 Q1776.14 1549.52 1773.87 1549.15 Q1771.62 1548.78 1769.22 1548.04 L1769.22 1543.34 Q1771.3 1544.47 1773.52 1545.03 Q1775.74 1545.58 1778.22 1545.58 Q1782.23 1545.58 1784.56 1543.48 Q1786.9 1541.37 1786.9 1537.76 Q1786.9 1534.15 1784.56 1532.04 Q1782.23 1529.94 1778.22 1529.94 Q1776.35 1529.94 1774.47 1530.35 Q1772.62 1530.77 1770.68 1531.65 L1770.68 1514.29 Z\" fill=\"#000000\" fill-rule=\"nonzero\" fill-opacity=\"1\" /><path clip-path=\"url(#clip590)\" d=\"M2250 1544.91 L2257.64 1544.91 L2257.64 1518.55 L2249.33 1520.21 L2249.33 1515.95 L2257.59 1514.29 L2262.27 1514.29 L2262.27 1544.91 L2269.9 1544.91 L2269.9 1548.85 L2250 1548.85 L2250 1544.91 Z\" fill=\"#000000\" fill-rule=\"nonzero\" fill-opacity=\"1\" /><path clip-path=\"url(#clip590)\" d=\"M2289.35 1517.37 Q2285.74 1517.37 2283.91 1520.93 Q2282.1 1524.47 2282.1 1531.6 Q2282.1 1538.71 2283.91 1542.27 Q2285.74 1545.82 2289.35 1545.82 Q2292.98 1545.82 2294.79 1542.27 Q2296.62 1538.71 2296.62 1531.6 Q2296.62 1524.47 2294.79 1520.93 Q2292.98 1517.37 2289.35 1517.37 M2289.35 1513.66 Q2295.16 1513.66 2298.21 1518.27 Q2301.29 1522.85 2301.29 1531.6 Q2301.29 1540.33 2298.21 1544.94 Q2295.16 1549.52 2289.35 1549.52 Q2283.54 1549.52 2280.46 1544.94 Q2277.4 1540.33 2277.4 1531.6 Q2277.4 1522.85 2280.46 1518.27 Q2283.54 1513.66 2289.35 1513.66 Z\" fill=\"#000000\" fill-rule=\"nonzero\" fill-opacity=\"1\" /><path clip-path=\"url(#clip590)\" d=\"M2319.51 1517.37 Q2315.9 1517.37 2314.07 1520.93 Q2312.27 1524.47 2312.27 1531.6 Q2312.27 1538.71 2314.07 1542.27 Q2315.9 1545.82 2319.51 1545.82 Q2323.15 1545.82 2324.95 1542.27 Q2326.78 1538.71 2326.78 1531.6 Q2326.78 1524.47 2324.95 1520.93 Q2323.15 1517.37 2319.51 1517.37 M2319.51 1513.66 Q2325.32 1513.66 2328.38 1518.27 Q2331.46 1522.85 2331.46 1531.6 Q2331.46 1540.33 2328.38 1544.94 Q2325.32 1549.52 2319.51 1549.52 Q2313.7 1549.52 2310.62 1544.94 Q2307.57 1540.33 2307.57 1531.6 Q2307.57 1522.85 2310.62 1518.27 Q2313.7 1513.66 2319.51 1513.66 Z\" fill=\"#000000\" fill-rule=\"nonzero\" fill-opacity=\"1\" /><polyline clip-path=\"url(#clip592)\" style=\"stroke:#000000; stroke-linecap:round; stroke-linejoin:round; stroke-width:2; stroke-opacity:0.1; fill:none\" points=\"149.191,1358.68 2352.76,1358.68 \"/>\n",
       "<polyline clip-path=\"url(#clip592)\" style=\"stroke:#000000; stroke-linecap:round; stroke-linejoin:round; stroke-width:2; stroke-opacity:0.1; fill:none\" points=\"149.191,1045.36 2352.76,1045.36 \"/>\n",
       "<polyline clip-path=\"url(#clip592)\" style=\"stroke:#000000; stroke-linecap:round; stroke-linejoin:round; stroke-width:2; stroke-opacity:0.1; fill:none\" points=\"149.191,732.032 2352.76,732.032 \"/>\n",
       "<polyline clip-path=\"url(#clip592)\" style=\"stroke:#000000; stroke-linecap:round; stroke-linejoin:round; stroke-width:2; stroke-opacity:0.1; fill:none\" points=\"149.191,418.708 2352.76,418.708 \"/>\n",
       "<polyline clip-path=\"url(#clip592)\" style=\"stroke:#000000; stroke-linecap:round; stroke-linejoin:round; stroke-width:2; stroke-opacity:0.1; fill:none\" points=\"149.191,105.383 2352.76,105.383 \"/>\n",
       "<polyline clip-path=\"url(#clip590)\" style=\"stroke:#000000; stroke-linecap:round; stroke-linejoin:round; stroke-width:4; stroke-opacity:1; fill:none\" points=\"149.191,1486.45 149.191,47.2441 \"/>\n",
       "<polyline clip-path=\"url(#clip590)\" style=\"stroke:#000000; stroke-linecap:round; stroke-linejoin:round; stroke-width:4; stroke-opacity:1; fill:none\" points=\"149.191,1358.68 168.089,1358.68 \"/>\n",
       "<polyline clip-path=\"url(#clip590)\" style=\"stroke:#000000; stroke-linecap:round; stroke-linejoin:round; stroke-width:4; stroke-opacity:1; fill:none\" points=\"149.191,1045.36 168.089,1045.36 \"/>\n",
       "<polyline clip-path=\"url(#clip590)\" style=\"stroke:#000000; stroke-linecap:round; stroke-linejoin:round; stroke-width:4; stroke-opacity:1; fill:none\" points=\"149.191,732.032 168.089,732.032 \"/>\n",
       "<polyline clip-path=\"url(#clip590)\" style=\"stroke:#000000; stroke-linecap:round; stroke-linejoin:round; stroke-width:4; stroke-opacity:1; fill:none\" points=\"149.191,418.708 168.089,418.708 \"/>\n",
       "<polyline clip-path=\"url(#clip590)\" style=\"stroke:#000000; stroke-linecap:round; stroke-linejoin:round; stroke-width:4; stroke-opacity:1; fill:none\" points=\"149.191,105.383 168.089,105.383 \"/>\n",
       "<path clip-path=\"url(#clip590)\" d=\"M51.5708 1359.13 L81.2466 1359.13 L81.2466 1363.07 L51.5708 1363.07 L51.5708 1359.13 Z\" fill=\"#000000\" fill-rule=\"nonzero\" fill-opacity=\"1\" /><path clip-path=\"url(#clip590)\" d=\"M101.339 1359.55 Q98.0058 1359.55 96.0845 1361.33 Q94.1863 1363.11 94.1863 1366.24 Q94.1863 1369.36 96.0845 1371.15 Q98.0058 1372.93 101.339 1372.93 Q104.672 1372.93 106.594 1371.15 Q108.515 1369.34 108.515 1366.24 Q108.515 1363.11 106.594 1361.33 Q104.696 1359.55 101.339 1359.55 M96.6632 1357.56 Q93.6539 1356.82 91.9641 1354.76 Q90.2975 1352.7 90.2975 1349.73 Q90.2975 1345.59 93.2373 1343.18 Q96.2002 1340.78 101.339 1340.78 Q106.501 1340.78 109.441 1343.18 Q112.381 1345.59 112.381 1349.73 Q112.381 1352.7 110.691 1354.76 Q109.024 1356.82 106.038 1357.56 Q109.418 1358.35 111.293 1360.64 Q113.191 1362.93 113.191 1366.24 Q113.191 1371.26 110.112 1373.95 Q107.057 1376.63 101.339 1376.63 Q95.6215 1376.63 92.5428 1373.95 Q89.4873 1371.26 89.4873 1366.24 Q89.4873 1362.93 91.3854 1360.64 Q93.2836 1358.35 96.6632 1357.56 M94.9502 1350.17 Q94.9502 1352.86 96.6169 1354.36 Q98.3067 1355.87 101.339 1355.87 Q104.348 1355.87 106.038 1354.36 Q107.751 1352.86 107.751 1350.17 Q107.751 1347.49 106.038 1345.98 Q104.348 1344.48 101.339 1344.48 Q98.3067 1344.48 96.6169 1345.98 Q94.9502 1347.49 94.9502 1350.17 Z\" fill=\"#000000\" fill-rule=\"nonzero\" fill-opacity=\"1\" /><path clip-path=\"url(#clip590)\" d=\"M51.3162 1045.81 L80.992 1045.81 L80.992 1049.74 L51.3162 1049.74 L51.3162 1045.81 Z\" fill=\"#000000\" fill-rule=\"nonzero\" fill-opacity=\"1\" /><path clip-path=\"url(#clip590)\" d=\"M101.663 1043.49 Q98.515 1043.49 96.6632 1045.65 Q94.8345 1047.8 94.8345 1051.55 Q94.8345 1055.28 96.6632 1057.45 Q98.515 1059.6 101.663 1059.6 Q104.811 1059.6 106.64 1057.45 Q108.492 1055.28 108.492 1051.55 Q108.492 1047.8 106.64 1045.65 Q104.811 1043.49 101.663 1043.49 M110.946 1028.84 L110.946 1033.1 Q109.186 1032.27 107.381 1031.83 Q105.598 1031.39 103.839 1031.39 Q99.2095 1031.39 96.7558 1034.51 Q94.3252 1037.64 93.978 1043.96 Q95.3437 1041.94 97.4039 1040.88 Q99.4641 1039.79 101.941 1039.79 Q107.149 1039.79 110.158 1042.96 Q113.191 1046.11 113.191 1051.55 Q113.191 1056.87 110.043 1060.09 Q106.895 1063.31 101.663 1063.31 Q95.6678 1063.31 92.4965 1058.72 Q89.3253 1054.12 89.3253 1045.39 Q89.3253 1037.2 93.2141 1032.34 Q97.103 1027.45 103.654 1027.45 Q105.413 1027.45 107.196 1027.8 Q109.001 1028.15 110.946 1028.84 Z\" fill=\"#000000\" fill-rule=\"nonzero\" fill-opacity=\"1\" /><path clip-path=\"url(#clip590)\" d=\"M50.9921 732.484 L80.6679 732.484 L80.6679 736.419 L50.9921 736.419 L50.9921 732.484 Z\" fill=\"#000000\" fill-rule=\"nonzero\" fill-opacity=\"1\" /><path clip-path=\"url(#clip590)\" d=\"M103.608 718.826 L91.8021 737.275 L103.608 737.275 L103.608 718.826 M102.381 714.752 L108.26 714.752 L108.26 737.275 L113.191 737.275 L113.191 741.164 L108.26 741.164 L108.26 749.312 L103.608 749.312 L103.608 741.164 L88.0058 741.164 L88.0058 736.65 L102.381 714.752 Z\" fill=\"#000000\" fill-rule=\"nonzero\" fill-opacity=\"1\" /><path clip-path=\"url(#clip590)\" d=\"M53.0754 419.159 L82.7512 419.159 L82.7512 423.094 L53.0754 423.094 L53.0754 419.159 Z\" fill=\"#000000\" fill-rule=\"nonzero\" fill-opacity=\"1\" /><path clip-path=\"url(#clip590)\" d=\"M96.8715 432.053 L113.191 432.053 L113.191 435.988 L91.2465 435.988 L91.2465 432.053 Q93.9086 429.298 98.4919 424.668 Q103.098 420.016 104.279 418.673 Q106.524 416.15 107.404 414.414 Q108.307 412.654 108.307 410.965 Q108.307 408.21 106.362 406.474 Q104.441 404.738 101.339 404.738 Q99.14 404.738 96.6863 405.502 Q94.2558 406.266 91.478 407.817 L91.478 403.094 Q94.3021 401.96 96.7558 401.381 Q99.2095 400.803 101.246 400.803 Q106.617 400.803 109.811 403.488 Q113.006 406.173 113.006 410.664 Q113.006 412.793 112.196 414.715 Q111.408 416.613 109.302 419.205 Q108.723 419.877 105.621 423.094 Q102.52 426.289 96.8715 432.053 Z\" fill=\"#000000\" fill-rule=\"nonzero\" fill-opacity=\"1\" /><path clip-path=\"url(#clip590)\" d=\"M101.246 91.1819 Q97.6354 91.1819 95.8067 94.7467 Q94.0012 98.2883 94.0012 105.418 Q94.0012 112.524 95.8067 116.089 Q97.6354 119.631 101.246 119.631 Q104.881 119.631 106.686 116.089 Q108.515 112.524 108.515 105.418 Q108.515 98.2883 106.686 94.7467 Q104.881 91.1819 101.246 91.1819 M101.246 87.4782 Q107.057 87.4782 110.112 92.0847 Q113.191 96.668 113.191 105.418 Q113.191 114.145 110.112 118.751 Q107.057 123.334 101.246 123.334 Q95.4363 123.334 92.3576 118.751 Q89.3021 114.145 89.3021 105.418 Q89.3021 96.668 92.3576 92.0847 Q95.4363 87.4782 101.246 87.4782 Z\" fill=\"#000000\" fill-rule=\"nonzero\" fill-opacity=\"1\" /><polyline clip-path=\"url(#clip592)\" style=\"stroke:#009af9; stroke-linecap:round; stroke-linejoin:round; stroke-width:4; stroke-opacity:1; fill:none\" points=\"211.556,262.045 232.554,192.418 253.553,87.9763 274.551,157.604 295.549,436.115 316.548,401.301 337.546,331.673 358.544,470.928 379.543,470.928 400.541,436.115 421.539,436.115 442.538,157.604 463.536,575.37 484.534,470.928 505.533,575.37 526.531,470.928 547.529,470.928 568.528,644.998 589.526,610.184 610.524,470.928 631.523,470.928 652.521,540.556 673.519,505.742 694.518,436.115 715.516,436.115 736.514,644.998 757.513,679.811 778.511,784.253 799.509,679.811 820.508,679.811 841.506,575.37 862.504,644.998 883.503,540.556 904.501,540.556 925.499,714.625 946.498,644.998 967.496,644.998 988.494,540.556 1009.49,888.694 1030.49,610.184 1051.49,888.694 1072.49,853.881 1093.49,749.439 1114.48,749.439 1135.48,853.881 1156.48,819.067 1177.48,819.067 1198.48,819.067 1219.48,853.881 1240.47,853.881 1261.47,749.439 1282.47,958.322 1303.47,993.136 1324.47,958.322 1345.47,1027.95 1366.46,993.136 1387.46,958.322 1408.46,853.881 1429.46,819.067 1450.46,784.253 1471.46,1202.02 1492.45,958.322 1513.45,923.508 1534.45,888.694 1555.45,1062.76 1576.45,1202.02 1597.45,1202.02 1618.44,1062.76 1639.44,1132.39 1660.44,1027.95 1681.44,1202.02 1702.44,1062.76 1723.44,1097.58 1744.43,993.136 1765.43,1027.95 1786.43,1202.02 1807.43,1132.39 1828.43,1202.02 1849.43,1132.39 1870.42,1202.02 1891.42,1236.83 1912.42,1097.58 1933.42,1202.02 1954.42,1202.02 1975.42,1306.46 1996.41,1445.72 2017.41,1202.02 2038.41,1236.83 2059.41,1306.46 2080.41,1306.46 2101.41,1132.39 2122.4,1271.65 2143.4,1306.46 2164.4,1202.02 2185.4,1202.02 2206.4,1202.02 2227.4,1376.09 2248.39,1376.09 2269.39,1202.02 2290.39,1271.65 \"/>\n",
       "<path clip-path=\"url(#clip590)\" d=\"M2006.52 198.898 L2279.3 198.898 L2279.3 95.2176 L2006.52 95.2176  Z\" fill=\"#ffffff\" fill-rule=\"evenodd\" fill-opacity=\"1\"/>\n",
       "<polyline clip-path=\"url(#clip590)\" style=\"stroke:#000000; stroke-linecap:round; stroke-linejoin:round; stroke-width:4; stroke-opacity:1; fill:none\" points=\"2006.52,198.898 2279.3,198.898 2279.3,95.2176 2006.52,95.2176 2006.52,198.898 \"/>\n",
       "<polyline clip-path=\"url(#clip590)\" style=\"stroke:#009af9; stroke-linecap:round; stroke-linejoin:round; stroke-width:4; stroke-opacity:1; fill:none\" points=\"2031,147.058 2177.91,147.058 \"/>\n",
       "<path clip-path=\"url(#clip590)\" d=\"M2216.23 166.745 Q2214.43 171.375 2212.71 172.787 Q2211 174.199 2208.13 174.199 L2204.73 174.199 L2204.73 170.634 L2207.23 170.634 Q2208.99 170.634 2209.96 169.8 Q2210.93 168.967 2212.11 165.865 L2212.88 163.921 L2202.39 138.412 L2206.9 138.412 L2215.01 158.689 L2223.11 138.412 L2227.62 138.412 L2216.23 166.745 Z\" fill=\"#000000\" fill-rule=\"nonzero\" fill-opacity=\"1\" /><path clip-path=\"url(#clip590)\" d=\"M2234.91 160.402 L2242.55 160.402 L2242.55 134.037 L2234.24 135.703 L2234.24 131.444 L2242.5 129.778 L2247.18 129.778 L2247.18 160.402 L2254.82 160.402 L2254.82 164.338 L2234.91 164.338 L2234.91 160.402 Z\" fill=\"#000000\" fill-rule=\"nonzero\" fill-opacity=\"1\" /></svg>\n"
      ]
     },
     "execution_count": 13,
     "metadata": {},
     "output_type": "execute_result"
    }
   ],
   "source": [
    "plot(misc[\"history\"][:, 1])"
   ]
  }
 ],
 "metadata": {
  "@webio": {
   "lastCommId": null,
   "lastKernelId": null
  },
  "kernelspec": {
   "display_name": "juliaup-default",
   "language": "julia",
   "name": "julia-default"
  },
  "language_info": {
   "file_extension": ".jl",
   "mimetype": "application/julia",
   "name": "julia",
   "version": "1.8.5"
  }
 },
 "nbformat": 4,
 "nbformat_minor": 5
}
